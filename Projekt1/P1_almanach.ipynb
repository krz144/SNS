{
 "cells": [
  {
   "cell_type": "code",
   "execution_count": 515,
   "id": "382cb3bd",
   "metadata": {},
   "outputs": [],
   "source": [
    "from matplotlib.pyplot import rc, rcParams, grid \n",
    "import matplotlib.patches as mpatches\n",
    "\n",
    "from datetime import date, time\n",
    "import numpy as np\n",
    "import pandas as pd\n",
    "import geopandas as gpd\n",
    "import matplotlib.pyplot as plt\n",
    "import seaborn as sns\n",
    "import plotly.express as px\n",
    "%matplotlib inline\n",
    "plt.style.use('seaborn-poster')\n",
    "sns.set_theme(context='talk', style='darkgrid')  # poster notebook"
   ]
  },
  {
   "cell_type": "code",
   "execution_count": 516,
   "id": "50975be9",
   "metadata": {},
   "outputs": [],
   "source": [
    "def read_yuma(almanac_file):\n",
    "    ''' \n",
    "    Reading and parsing YUMA asci format\n",
    "    INPUT:\n",
    "        Almanac: YUMA format \n",
    "    OUTPUT:\n",
    "        almanac_data -  type list of list [strings value], number of lists is equal to number of satellite\n",
    "                        one list contain satellites according to the order:         \n",
    "                        ['SV ID', 'Health', 'Eccentricity', 'Time of Applicability(s)', 'Inclination(rad)', \n",
    "                        'Rate of Right Ascen(r/s)', 'SQRT(A)  (m 1/2)', 'Right Ascen at Week(rad)', \n",
    "                        'Argument of Perigee(rad)', 'Mean Anom(rad)', 'Af0(s)', 'Af1(s/s)', 'Week no']\n",
    "        \n",
    "    '''\n",
    "    \n",
    "    if almanac_file:\n",
    "        alm = open(almanac_file)\n",
    "        \n",
    "        alm_lines = alm.readlines()\n",
    "        all_sat = []\n",
    "        for idx, value in enumerate(alm_lines):\n",
    "            # print(idx, value)\n",
    "            \n",
    "            if value[0:3]=='ID:':\n",
    "                one_sat_block = alm_lines[idx:idx+13]\n",
    "                one_sat = []\n",
    "                for line in one_sat_block:\n",
    "                    data = line.split(':')\n",
    "                    one_sat.append(float(data[1].strip()))\n",
    "                all_sat.append(one_sat)\n",
    "        alm.close()\n",
    "        all_sat = np.array(all_sat)\n",
    "        return (all_sat)  "
   ]
  },
  {
   "cell_type": "code",
   "execution_count": 517,
   "id": "83eb289c",
   "metadata": {},
   "outputs": [],
   "source": [
    "def date2tow(data):\n",
    "    \"\"\"\n",
    "    Parameters\n",
    "    data : data -- list [year,month,day,hour,minute,second]\n",
    "    Returns\n",
    "    week : GPS week, for the second rollover, in range 0-1023\n",
    "    tow : second of week.\n",
    "    \"\"\"\n",
    "    # difference of days\n",
    "    dd = date.toordinal(date(data[0], data[1], data[2])) - date.toordinal(date(2019, 4, 7))    \n",
    "    # week number\n",
    "    week = dd // 7\n",
    "    #day of week\n",
    "    dow = dd % 7\n",
    "    # time of week\n",
    "    tow = dow * 86400 + data[3] * 3600 + data[4] * 60 + data[5]\n",
    "    return week, tow"
   ]
  },
  {
   "cell_type": "code",
   "execution_count": 518,
   "id": "993a725a",
   "metadata": {},
   "outputs": [],
   "source": [
    "def satpos(nav, week, tow):\n",
    "    \"\"\"jedna duża funkcja, algorytm na TEAMS, zwracać ma x, y, z\"\"\"\n",
    "    # stałe\n",
    "    mi = 3.986005e14  # prędkość kątowa obrotu Ziemii - to, czy omge?\n",
    "    omge = 7.2921151467e-5\n",
    "\n",
    "    prn = nav[0]\n",
    "    e = nav[2]\n",
    "    toa = nav[3]\n",
    "    i = nav[4]\n",
    "    Omega_dot = nav[5]\n",
    "    sqrta = nav[6]\n",
    "    Omega = nav[7]\n",
    "    omega = nav[8]\n",
    "    M0 = nav[9]\n",
    "    gps_week = nav[12] \n",
    "\n",
    "    t = week * 7 * 86400 + tow\n",
    "    toa_weeks = gps_week * 7 * 86400 + toa\n",
    "\n",
    "    # tk = tow - toa\n",
    "    tk = t - toa_weeks\n",
    "    # print(tk)  # print(tk/86400)\n",
    "\n",
    "    # Krok 2 algorytmu\n",
    "    a = sqrta**2\n",
    "    n = np.sqrt(mi/(a**3))\n",
    "    Mk = M0 + n * tk\n",
    "    # Ek = Mk + e * np.sin(EK)  # rozwiazanie iteracyjne\n",
    "    Epop = Mk\n",
    "    while True:\n",
    "        E = Mk + e * np.sin(Epop)\n",
    "        # print(E)\n",
    "        if (abs(E-Epop)<10**(-12)):\n",
    "            break\n",
    "        Epop = E\n",
    "    Ek = E\n",
    "    # atan2 z math lub arctan2 z numpy\n",
    "    vk = np.arctan2(np.sqrt(1 - e**2)*np.sin(Ek) , np.cos(Ek)-e)\n",
    "    Fik = vk + omega\n",
    "    rk = a * (1 - e * np.cos(Ek))\n",
    "    xk = rk * np.cos(Fik)\n",
    "    yk = rk * np.sin(Fik)\n",
    "    # na dole toa czy toa_weeks?\n",
    "    Omega_k = Omega + (Omega_dot - omge) * tk - omge * toa  # skąd omega_E?\n",
    "    Xk = xk * np.cos(Omega_k) - yk * np.cos(i) * np.sin(Omega_k)\n",
    "    Yk = xk * np.sin(Omega_k) + yk * np.cos(i) * np.cos(Omega_k)\n",
    "    Zk = yk * np.sin(i)\n",
    "    return np.array([Xk, Yk, Zk])"
   ]
  },
  {
   "cell_type": "code",
   "execution_count": 519,
   "id": "b1cba1cc",
   "metadata": {},
   "outputs": [],
   "source": [
    "def geo2xyz(fi, lam, h, a=6378137, e2=0.00669437999013):\n",
    "    \"\"\"funkcja zamienia współrzędne geodezyjne na kartezjańskie fi, lam podajemy w radianach do wzorów, do fcji w deg\"\"\"\n",
    "    fi = np.deg2rad(fi)\n",
    "    lam = np.deg2rad(lam)\n",
    "    N = a / np.sqrt(1 - e2 * np.sin(fi) ** 2)\n",
    "    x = (N + h) * np.cos(fi) * np.cos(lam)\n",
    "    y = (N + h) * np.cos(fi) * np.sin(lam)\n",
    "    z = (N * (1 - e2) + h) * np.sin(fi)\n",
    "    return np.array([x, y, z])"
   ]
  },
  {
   "cell_type": "code",
   "execution_count": 520,
   "id": "f1062ab0",
   "metadata": {},
   "outputs": [],
   "source": [
    "def xyz2neu(fi, lam, A, B):\n",
    "    # def xyz2neu(A:punktodniesienia/startowy, B:koniecwektora):\n",
    "    \"\"\"funkcja zamienia wsp kartezjańskie na topocentryczne neu\n",
    "    A, B reprezentują punkty, A to początek, B to koniec wektora\n",
    "    A, B są typu np.array i mają 3 współrzędne: x, y, z\n",
    "    fi, lam to współrzędne punktu A potrzebne do macierzy obrotu\"\"\"\n",
    "    # x, y, z -> north, east, up\n",
    "    # fi, lambda, lotniska\n",
    "    # wektor AB\n",
    "    fi = np.deg2rad(fi)\n",
    "    lam = np.deg2rad(lam)\n",
    "    rotation_matrix = np.array([\n",
    "        [-1*np.sin(fi)*np.cos(lam), -1*np.sin(lam), np.cos(fi)*np.cos(lam)],\n",
    "        [-1*np.sin(fi)*np.sin(lam), np.cos(lam), np.cos(fi)*np.sin(lam)],\n",
    "        [np.cos(fi), 0, np.sin(fi)]\n",
    "    ])\n",
    "    vector = B - A\n",
    "    return rotation_matrix.transpose() @ vector"
   ]
  },
  {
   "cell_type": "code",
   "execution_count": 521,
   "id": "efea3b7c",
   "metadata": {},
   "outputs": [],
   "source": [
    "def plot_skyplot(sat_positions):\n",
    "    # sat_positions - [PRN, el, az] w stopniach\n",
    "    rc('grid', color='gray', linewidth=1, linestyle='--')\n",
    "    fontsize = 20\n",
    "    rc('xtick', labelsize = fontsize)\n",
    "    rc('ytick', labelsize = fontsize)\n",
    "    rc('font', size = fontsize)\n",
    "    # define colors\n",
    "    \n",
    "    green   ='#467821'\n",
    "    blue    ='#348ABD'\n",
    "    red     ='#A60628'\n",
    "    orange  ='#E24A33'\n",
    "    purple  ='#7A68A6'\n",
    "\n",
    "        # start ploting\n",
    "    fig =plt.figure(figsize=(8,6))\n",
    "    plt.subplots_adjust(bottom= 0.1, \n",
    "                        top   = 0.85,\n",
    "                        left  = 0.1, \n",
    "                        right = 0.74)\n",
    "    ax = fig.add_subplot(polar=True) #define a polar type of coordinates\n",
    "    ax.set_theta_zero_location('N') # ustawienie kierunku północy na górze wykresu\n",
    "    ax.set_theta_direction(-1) # ustawienie kierunku przyrostu azymutu w prawo\n",
    "    \n",
    "    PG = 0 # zliczanie satelitów GPS\n",
    "    \n",
    "    for (PRN, el, az) in sat_positions: \n",
    "        PG += 1\n",
    "        ### show sat number\n",
    "\n",
    "        ax.annotate(PRN, \n",
    "                    xy=(np.radians(az), 90-el),\n",
    "                    bbox=dict(boxstyle=\"round\", fc = green, alpha = 0.5),\n",
    "                    horizontalalignment='center',\n",
    "                    verticalalignment='bottom',\n",
    "                    color = 'k')\n",
    "        #                     # \n",
    "\n",
    "    gps     = mpatches.Patch(color=green,  label='{:02.0f}  GPS'.format(PG))\n",
    "    plt.legend(handles=[gps], bbox_to_anchor=(1.05, 1), loc='upper left', borderaxespad=0.)\n",
    "\n",
    "    # axis ticks descriptions    \n",
    "    ax.set_yticks(range(0, 90+10, 10))                   # Define the yticks\n",
    "    yLabel = ['90', '', '', '60', '', '', '30', '', '', '']\n",
    "    ax.set_yticklabels(yLabel)\n",
    "    # saving and showing plot\n",
    "    # plt.savefig('satellite_skyplot.pdf')\n",
    "    plt.show() # wyświetleni\n",
    "        \n",
    "    print(PG)"
   ]
  },
  {
   "cell_type": "markdown",
   "id": "103688f8",
   "metadata": {},
   "source": [
    "# Parametry do ustawienia"
   ]
  },
  {
   "cell_type": "code",
   "execution_count": 522,
   "id": "12d88844",
   "metadata": {},
   "outputs": [],
   "source": [
    "PLIK = 'yumagood.txt'  # ścieżka do pliku z danymi z almanachu\n",
    "DATA = [2022, 2, 25, 0, 0, 0]  # data obserwacji\n",
    "FI_, LAM_, H_ = 52, 21, 100  # współrzędne miejsca obserwacji\n",
    "MASKA = 10  # elewacja w stopniach"
   ]
  },
  {
   "cell_type": "markdown",
   "id": "53588c42",
   "metadata": {},
   "source": [
    "# Obliczenia i wykresy"
   ]
  },
  {
   "cell_type": "code",
   "execution_count": 523,
   "id": "18e3d622",
   "metadata": {
    "scrolled": false
   },
   "outputs": [],
   "source": [
    "navall = read_yuma(PLIK)\n",
    "datak = list(DATA[:])\n",
    "odbiornik = geo2xyz(FI_, LAM_, H_)\n",
    "\n",
    "# dict24 = dict(DOP=dict(), test=['test0', 'test1'], widoczne=[])\n",
    "DOP = dict(GDOP=[], PDOP=[], TDOP=[], HDOP=[], VDOP=[])\n",
    "ile_widocznych = []\n",
    "jakie_widoczne = dict()\n",
    "satelity_neu = dict()\n",
    "satelity_xyz = dict()\n",
    "satelity_elaz = []\n",
    "better_elaz = dict()\n",
    "elewacje = dict()\n",
    "elewacje2 = dict()\n",
    "\n",
    "for i in range(1,25):\n",
    "    week, tow = date2tow(datak)  ############\n",
    "    df = pd.DataFrame(navall, columns=['PRN', 'health', 'eccentricity', 'toa', 'oi', 'rora', 'sqrta', 'raaw', 'aop', 'ma', 'af0', 'af1', 'week'])\n",
    "    xsat = []\n",
    "    ysat = []\n",
    "    zsat = []\n",
    "    xodb = []\n",
    "    yodb = []\n",
    "    zodb = []\n",
    "    nn = []\n",
    "    ee = []\n",
    "    uu = []\n",
    "    az = []\n",
    "    el = []\n",
    "    for sat in navall:\n",
    "        Xs = satpos(sat, week, tow)\n",
    "        xsat.append(Xs[0])\n",
    "        ysat.append(Xs[1])\n",
    "        zsat.append(Xs[2])\n",
    "        Xr = odbiornik\n",
    "        xodb.append(Xr[0])\n",
    "        yodb.append(Xr[1])\n",
    "        zodb.append(Xr[2])\n",
    "        # Xsr = Xs - Xr\n",
    "        neu = xyz2neu(FI_, LAM_, Xr, Xs)\n",
    "        n, e, u = neu\n",
    "        nn.append(n)\n",
    "        ee.append(e)\n",
    "        uu.append(u)\n",
    "        Az = np.arctan2(e,n)  # azymut\n",
    "        ele = np.arcsin(u/np.sqrt(n**2 + e**2 + u**2))  # elewacja\n",
    "        azst = np.rad2deg(Az)\n",
    "        elst = np.rad2deg(ele)\n",
    "        az.append(azst)\n",
    "        el.append(elst)\n",
    "    df['xsat'] = xsat\n",
    "    df['ysat'] = ysat\n",
    "    df['zsat'] = zsat\n",
    "    df['xodb'] = xodb\n",
    "    df['yodb'] = yodb\n",
    "    df['zodb'] = zodb\n",
    "    df['n'] = nn\n",
    "    df['e'] = ee\n",
    "    df['u'] = uu\n",
    "    df['az'] = az\n",
    "    df['el'] = el\n",
    "    \n",
    "    df.set_index('PRN', inplace=True)\n",
    "    df['distance'] = df.apply(lambda row : np.linalg.norm(np.array([row['xsat'], row['ysat'], row['zsat']]) - np.array([row['xodb'], row['yodb'], row['zodb']])), axis=1)\n",
    "    df['Ax'] = df.apply(lambda row : -(row['xsat'] - row['xodb'])/row['distance'], axis=1)\n",
    "    df['Ay'] = df.apply(lambda row : -(row['ysat'] - row['yodb'])/row['distance'], axis=1)\n",
    "    df['Az'] = df.apply(lambda row : -(row['zsat'] - row['zodb'])/row['distance'], axis=1)\n",
    "    \n",
    "    maska_df = df[df['el'] > MASKA]\n",
    "    A = maska_df[['Ax', 'Ay', 'Az']].to_numpy()\n",
    "    wiersze = maska_df.shape[0]\n",
    "    ile_widocznych.append(wiersze)  ###\n",
    "    jakie_widoczne[i-1] = maska_df.index.values ###\n",
    "    for index, row in maska_df.iterrows():\n",
    "        lista = [row.n, row.e, row.u]\n",
    "        try:\n",
    "            satelity_neu[index].append(lista)\n",
    "        except KeyError:\n",
    "            satelity_neu[index] = [lista]\n",
    "        temp = [row.xsat, row.ysat, row.zsat]\n",
    "        try:\n",
    "            satelity_xyz[index].append(temp)\n",
    "        except KeyError:\n",
    "            satelity_xyz[index] = temp\n",
    "        other = [row.el, row.az]\n",
    "        try:\n",
    "            better_elaz[index].append(other)\n",
    "        except KeyError:\n",
    "            better_elaz[index] = other\n",
    "        satelity_elaz.append([index, row.el, row.az])\n",
    "        \n",
    "        try:\n",
    "            elewacje[index]['h'].append(i-1)\n",
    "            elewacje[index]['el'].append(row.el)\n",
    "        except KeyError:\n",
    "            elewacje[index] = dict(h=[i-1], el=[row.el])\n",
    "    for index, row in df.iterrows():\n",
    "        try:\n",
    "            elewacje2[index]['h'].append(i-1)\n",
    "            elewacje2[index]['el'].append(row.el)\n",
    "        except KeyError:\n",
    "            elewacje2[index] = dict(h=[i-1], el=[row.el])\n",
    "        \n",
    "    ones = np.array([np.repeat(1, wiersze)])\n",
    "    A = np.concatenate((A, ones.T), axis=1)\n",
    "    Q = np.linalg.inv(A.T @ A)\n",
    "    qx, qy, qz, qt = np.diagonal(Q)\n",
    "    GDOP = np.sqrt(qx+qy+qz+qt)\n",
    "    PDOP = np.sqrt(qx+qy+qz)\n",
    "    TDOP = np.sqrt(qt)\n",
    "    fi = np.deg2rad(FI_)\n",
    "    lam = np.deg2rad(LAM_)\n",
    "    R = np.array([\n",
    "        [-np.sin(fi)*np.cos(lam), -np.sin(lam), np.cos(fi)*np.cos(lam)],\n",
    "        [-np.sin(fi)*np.sin(lam), np.cos(lam), np.cos(fi)*np.sin(lam)],\n",
    "        [np.cos(fi), 0, np.sin(fi)]])\n",
    "    Qxyz = Q[:-1,:-1]\n",
    "    Qneu = R.T @ Qxyz @ R\n",
    "    qn, qe, qu = np.diagonal(Qneu)\n",
    "    HDOP = np.sqrt(qn+qe)\n",
    "    VDOP = np.sqrt(qu)\n",
    "    DOP['GDOP'].append(GDOP)  ###\n",
    "    DOP['PDOP'].append(PDOP)  ###\n",
    "    DOP['TDOP'].append(TDOP)  ###\n",
    "    DOP['HDOP'].append(HDOP)  ###\n",
    "    DOP['VDOP'].append(VDOP)  ###\n",
    "    \n",
    "    \n",
    "    datak[3] = i ############\n",
    "#     print(datak) ############"
   ]
  },
  {
   "cell_type": "code",
   "execution_count": 524,
   "id": "ce88af03",
   "metadata": {},
   "outputs": [],
   "source": [
    "# print('GDOP\\n', DOP['GDOP'])\n",
    "# print('\\nPDOP\\n', DOP['PDOP'])\n",
    "# print('\\nTDOP\\n', DOP['TDOP'])\n",
    "# print('\\nHDOP\\n', DOP['HDOP'])\n",
    "# print('\\nVDOP\\n', DOP['VDOP'])"
   ]
  },
  {
   "cell_type": "code",
   "execution_count": 525,
   "id": "3efdcc24",
   "metadata": {},
   "outputs": [],
   "source": [
    "## print(ile_widocznych)"
   ]
  },
  {
   "cell_type": "code",
   "execution_count": 526,
   "id": "a54decfb",
   "metadata": {},
   "outputs": [],
   "source": [
    "## print(jakie_widoczne)  # bar plot / histogram ... k - godziny od podanej daty, v - numery satelit"
   ]
  },
  {
   "cell_type": "code",
   "execution_count": 527,
   "id": "2a7e5fce",
   "metadata": {
    "scrolled": false
   },
   "outputs": [],
   "source": [
    "# print(satelity_neu)  # k - numery satelit, v - [neu]"
   ]
  },
  {
   "cell_type": "code",
   "execution_count": 528,
   "id": "8ae909bb",
   "metadata": {
    "scrolled": false
   },
   "outputs": [],
   "source": [
    "# print(satelity_xyz)  # k - numery satelit, v - [xyz]"
   ]
  },
  {
   "cell_type": "code",
   "execution_count": 529,
   "id": "b0951224",
   "metadata": {
    "scrolled": true
   },
   "outputs": [],
   "source": [
    "# print(sorted(satelity_elaz))  # [NR, EL, AZ]"
   ]
  },
  {
   "cell_type": "code",
   "execution_count": 530,
   "id": "ab275b3b",
   "metadata": {},
   "outputs": [],
   "source": [
    "# print(better_elaz)  # k - numery satelit"
   ]
  },
  {
   "cell_type": "code",
   "execution_count": 531,
   "id": "620caad3",
   "metadata": {},
   "outputs": [],
   "source": [
    "## print(elewacje2)  # k - numery satelit, v - {h:[], el:[]}"
   ]
  },
  {
   "cell_type": "markdown",
   "id": "154a4cb4",
   "metadata": {},
   "source": [
    "## Elewacje"
   ]
  },
  {
   "cell_type": "code",
   "execution_count": 532,
   "id": "fd6761a6",
   "metadata": {},
   "outputs": [
    {
     "data": {
      "image/png": "[encoded data removed]",
      "text/plain": [
       "<Figure size 921.6x633.6 with 1 Axes>"
      ]
     },
     "metadata": {},
     "output_type": "display_data"
    }
   ],
   "source": [
    "sns.set_theme(context='talk', style='darkgrid')  # style=ticks white \n",
    "for k, v in elewacje2.items():\n",
    "    plt.plot(v['h'], v['el'], label=k)\n",
    "    \n",
    "plt.title('Elewacje satelitów')\n",
    "plt.ylabel('elewacja [°]')\n",
    "plt.xlabel('godziny od wybranej daty ' + str(date(*DATA[0:3])) + ' ' + str(time(*DATA[3:])) + ' [h]')\n",
    "plt.xticks(np.arange(0,24))\n",
    "ax = plt.gca()\n",
    "ax.set_ylim([0, 90])\n",
    "# Legenda do wywalenia raczej\n",
    "ax.legend(loc='upper center', bbox_to_anchor=(0.5, -0.40),\n",
    "          fancybox=True, shadow=True, ncol=5)\n",
    "plt.tight_layout()\n",
    "plt.show()"
   ]
  },
  {
   "cell_type": "code",
   "execution_count": 533,
   "id": "2c8c4f96",
   "metadata": {
    "scrolled": true
   },
   "outputs": [],
   "source": [
    "numeryy = []\n",
    "godzinyy = []\n",
    "elewacjee = []\n",
    "for prn, v in elewacje2.items():\n",
    "    godzinyy.extend(v['h'])\n",
    "    elewacjee.extend(v['el'])\n",
    "    for i in range(len(v['h'])):\n",
    "        numeryy.append(prn)\n",
    "eledf = pd.DataFrame(list(zip(numeryy, godzinyy, elewacjee)), columns=['PRN', 'h', 'el'])"
   ]
  },
  {
   "cell_type": "code",
   "execution_count": 534,
   "id": "bab8f8b9",
   "metadata": {},
   "outputs": [
    {
     "data": {
      "application/vnd.plotly.v1+json": {
       "config": {
        "plotlyServerURL": "https://plot.ly"
       },
       "data": [
        {
         "hovertemplate": "PRN=1.0<br>godzina od wybranej daty=%{x}<br>elewacja [°]=%{y}<extra></extra>",
         "legendgroup": "1.0",
         "line": {
          "color": "#636efa",
          "dash": "solid"
         },
         "marker": {
          "symbol": "circle"
         },
         "mode": "lines",
         "name": "1.0",
         "orientation": "v",
         "showlegend": true,
         "type": "scatter",
         "x": [
          0,
          1,
          2,
          3,
          4,
          5,
          6,
          7,
          8,
          9,
          10,
          11,
          12,
          13,
          14,
          15,
          16,
          17,
          18,
          19,
          20,
          21,
          22,
          23
         ],
         "xaxis": "x",
         "y": [
          74.7190944116418,
          44.757688201169806,
          16.739644317415276,
          -7.741126150173034,
          -27.759660966332017,
          -40.76057187735892,
          -42.319803307991634,
          -32.031848777596736,
          -15.345637033924909,
          1.4314056433856988,
          10.360615934505967,
          4.863118985961925,
          -11.770095383960923,
          -32.41027958091995,
          -53.12596479035363,
          -71.0917235578337,
          -74.36837042236328,
          -59.3354227911562,
          -41.01567060723403,
          -21.85049393246223,
          -1.586339986969143,
          20.6499144583533,
          45.84995441086691,
          73.95094257485485
         ],
         "yaxis": "y"
        },
        {
         "hovertemplate": "PRN=2.0<br>godzina od wybranej daty=%{x}<br>elewacja [°]=%{y}<extra></extra>",
         "legendgroup": "2.0",
         "line": {
          "color": "#EF553B",
          "dash": "solid"
         },
         "marker": {
          "symbol": "circle"
         },
         "mode": "lines",
         "name": "2.0",
         "orientation": "v",
         "showlegend": true,
         "type": "scatter",
         "x": [
          0,
          1,
          2,
          3,
          4,
          5,
          6,
          7,
          8,
          9,
          10,
          11,
          12,
          13,
          14,
          15,
          16,
          17,
          18,
          19,
          20,
          21,
          22,
          23
         ],
         "xaxis": "x",
         "y": [
          -37.42584625692845,
          -16.203178185409065,
          5.504713164962091,
          24.623581331668138,
          32.87583736461214,
          23.726321898038773,
          4.896400059662261,
          -14.060165124060862,
          -27.22543959207682,
          -29.64666071597086,
          -19.822877930300074,
          -1.1770956224611548,
          21.915334883644395,
          43.05603431644123,
          47.779629192601135,
          31.66617070297904,
          9.444077949701084,
          -12.222700243475662,
          -32.2424427057767,
          -50.89532668095847,
          -68.76108998403461,
          -86.20398029706607,
          -75.14391728852189,
          -56.16511067095436
         ],
         "yaxis": "y"
        },
        {
         "hovertemplate": "PRN=3.0<br>godzina od wybranej daty=%{x}<br>elewacja [°]=%{y}<extra></extra>",
         "legendgroup": "3.0",
         "line": {
          "color": "#00cc96",
          "dash": "solid"
         },
         "marker": {
          "symbol": "circle"
         },
         "mode": "lines",
         "name": "3.0",
         "orientation": "v",
         "showlegend": true,
         "type": "scatter",
         "x": [
          0,
          1,
          2,
          3,
          4,
          5,
          6,
          7,
          8,
          9,
          10,
          11,
          12,
          13,
          14,
          15,
          16,
          17,
          18,
          19,
          20,
          21,
          22,
          23
         ],
         "xaxis": "x",
         "y": [
          63.606751091195065,
          85.24128967361956,
          61.018212325769596,
          34.57284219353438,
          9.586886498410305,
          -13.48694924962857,
          -34.097967880425934,
          -50.19050234341395,
          -55.92862834064684,
          -47.26447257545731,
          -30.5831187602112,
          -12.561657966484852,
          0.9392444796380105,
          3.211776334618753,
          -7.275418550354622,
          -24.82229875001061,
          -43.536502378922656,
          -58.23043319649172,
          -60.34440482366079,
          -47.90869924604597,
          -29.13700284021133,
          -7.861481889340517,
          15.05996825218513,
          39.532205475174614
         ],
         "yaxis": "y"
        },
        {
         "hovertemplate": "PRN=4.0<br>godzina od wybranej daty=%{x}<br>elewacja [°]=%{y}<extra></extra>",
         "legendgroup": "4.0",
         "line": {
          "color": "#ab63fa",
          "dash": "solid"
         },
         "marker": {
          "symbol": "circle"
         },
         "mode": "lines",
         "name": "4.0",
         "orientation": "v",
         "showlegend": true,
         "type": "scatter",
         "x": [
          0,
          1,
          2,
          3,
          4,
          5,
          6,
          7,
          8,
          9,
          10,
          11,
          12,
          13,
          14,
          15,
          16,
          17,
          18,
          19,
          20,
          21,
          22,
          23
         ],
         "xaxis": "x",
         "y": [
          26.273118243603655,
          54.71513353412651,
          83.79385165583153,
          66.31813831939786,
          40.115372580780964,
          16.527683713185308,
          -5.088137401963587,
          -25.470739890696702,
          -44.92124318615181,
          -62.48449262709457,
          -71.27860216812917,
          -60.732156783638764,
          -41.884806091308114,
          -21.727862106393374,
          -3.841658311539346,
          6.174354343705236,
          3.1076128317132174,
          -10.517331140965974,
          -27.474836819018684,
          -41.429196104655716,
          -45.95913727324504,
          -37.66547406588525,
          -20.29036536636686,
          2.1802606028686324
         ],
         "yaxis": "y"
        },
        {
         "hovertemplate": "PRN=5.0<br>godzina od wybranej daty=%{x}<br>elewacja [°]=%{y}<extra></extra>",
         "legendgroup": "5.0",
         "line": {
          "color": "#FFA15A",
          "dash": "solid"
         },
         "marker": {
          "symbol": "circle"
         },
         "mode": "lines",
         "name": "5.0",
         "orientation": "v",
         "showlegend": true,
         "type": "scatter",
         "x": [
          0,
          1,
          2,
          3,
          4,
          5,
          6,
          7,
          8,
          9,
          10,
          11,
          12,
          13,
          14,
          15,
          16,
          17,
          18,
          19,
          20,
          21,
          22,
          23
         ],
         "xaxis": "x",
         "y": [
          -74.3500196591418,
          -57.49440821608068,
          -39.644527367690074,
          -20.02839593984958,
          1.8993724474235323,
          25.674409362970646,
          46.24121923582673,
          47.34672306967113,
          27.65263092445057,
          4.4137910336564365,
          -15.123631712303478,
          -27.39481795254012,
          -29.01634559830283,
          -19.569189906333797,
          -2.602525061192804,
          16.924619137519894,
          30.626381942670715,
          27.169193994555904,
          9.133462280017923,
          -12.95304600001538,
          -34.4590279438644,
          -54.37184048459081,
          -72.73843680174585,
          -88.80859944310643
         ],
         "yaxis": "y"
        },
        {
         "hovertemplate": "PRN=6.0<br>godzina od wybranej daty=%{x}<br>elewacja [°]=%{y}<extra></extra>",
         "legendgroup": "6.0",
         "line": {
          "color": "#19d3f3",
          "dash": "solid"
         },
         "marker": {
          "symbol": "circle"
         },
         "mode": "lines",
         "name": "6.0",
         "orientation": "v",
         "showlegend": true,
         "type": "scatter",
         "x": [
          0,
          1,
          2,
          3,
          4,
          5,
          6,
          7,
          8,
          9,
          10,
          11,
          12,
          13,
          14,
          15,
          16,
          17,
          18,
          19,
          20,
          21,
          22,
          23
         ],
         "xaxis": "x",
         "y": [
          -2.4332013879761747,
          21.076811428122582,
          43.43304544712133,
          50.44101076225632,
          33.2048440927144,
          9.12148648001806,
          -12.24510964731488,
          -26.910679897768215,
          -30.997713102368152,
          -23.0671382927586,
          -6.472516014820692,
          13.830662645919764,
          30.43714375949085,
          31.238741991321923,
          15.036513294172492,
          -7.049764875049801,
          -29.07218340063591,
          -49.5799129625425,
          -68.47509961221118,
          -85.57774641823171,
          -76.42912849480135,
          -59.55796151748313,
          -41.80354649465744,
          -22.44763102662907
         ],
         "yaxis": "y"
        },
        {
         "hovertemplate": "PRN=7.0<br>godzina od wybranej daty=%{x}<br>elewacja [°]=%{y}<extra></extra>",
         "legendgroup": "7.0",
         "line": {
          "color": "#FF6692",
          "dash": "solid"
         },
         "marker": {
          "symbol": "circle"
         },
         "mode": "lines",
         "name": "7.0",
         "orientation": "v",
         "showlegend": true,
         "type": "scatter",
         "x": [
          0,
          1,
          2,
          3,
          4,
          5,
          6,
          7,
          8,
          9,
          10,
          11,
          12,
          13,
          14,
          15,
          16,
          17,
          18,
          19,
          20,
          21,
          22,
          23
         ],
         "xaxis": "x",
         "y": [
          -37.1860706028245,
          -22.383346682380214,
          -1.0748845409568835,
          24.240204984385638,
          52.13026131125013,
          78.23399269925571,
          65.68610740760207,
          39.98576658391624,
          16.24532111829819,
          -5.5437346460592645,
          -26.05749725972162,
          -45.75977547231165,
          -64.29989914771365,
          -76.12720952772533,
          -65.85243268906443,
          -46.762510557461084,
          -26.480107637956262,
          -7.454630575900623,
          6.166042855009145,
          8.395830627807689,
          -1.8336496512207265,
          -18.169975519547933,
          -33.472082281748705,
          -41.20025617124176
         ],
         "yaxis": "y"
        },
        {
         "hovertemplate": "PRN=8.0<br>godzina od wybranej daty=%{x}<br>elewacja [°]=%{y}<extra></extra>",
         "legendgroup": "8.0",
         "line": {
          "color": "#B6E880",
          "dash": "solid"
         },
         "marker": {
          "symbol": "circle"
         },
         "mode": "lines",
         "name": "8.0",
         "orientation": "v",
         "showlegend": true,
         "type": "scatter",
         "x": [
          0,
          1,
          2,
          3,
          4,
          5,
          6,
          7,
          8,
          9,
          10,
          11,
          12,
          13,
          14,
          15,
          16,
          17,
          18,
          19,
          20,
          21,
          22,
          23
         ],
         "xaxis": "x",
         "y": [
          -1.8866580794651737,
          -21.571101646838386,
          -33.48363704488533,
          -34.07010117466139,
          -23.61500531188545,
          -6.970301291479871,
          9.650911573653,
          17.63781191014626,
          10.487565937271578,
          -7.245588116248223,
          -28.304007736209787,
          -49.366312515966456,
          -69.32152813962628,
          -84.18694136703206,
          -70.89069033606464,
          -53.12513484698965,
          -34.936710409884874,
          -15.74868069093527,
          5.345879619546293,
          29.12649968421164,
          54.74411960431765,
          68.68437685257105,
          48.289950873051346,
          21.021049461428102
         ],
         "yaxis": "y"
        },
        {
         "hovertemplate": "PRN=9.0<br>godzina od wybranej daty=%{x}<br>elewacja [°]=%{y}<extra></extra>",
         "legendgroup": "9.0",
         "line": {
          "color": "#FF97FF",
          "dash": "solid"
         },
         "marker": {
          "symbol": "circle"
         },
         "mode": "lines",
         "name": "9.0",
         "orientation": "v",
         "showlegend": true,
         "type": "scatter",
         "x": [
          0,
          1,
          2,
          3,
          4,
          5,
          6,
          7,
          8,
          9,
          10,
          11,
          12,
          13,
          14,
          15,
          16,
          17,
          18,
          19,
          20,
          21,
          22,
          23
         ],
         "xaxis": "x",
         "y": [
          -3.893634119632325,
          20.254871512788554,
          46.371556030369796,
          73.6933562629038,
          78.0841085910795,
          51.703897562177104,
          26.748339641992892,
          3.4118676122402283,
          -18.420137706331804,
          -38.51855466819062,
          -55.194450370811296,
          -62.19248566151698,
          -53.44879206108314,
          -36.31167106840845,
          -17.67737679766293,
          -2.462931116043011,
          3.132161632193791,
          -4.072877921152658,
          -19.65761416295217,
          -37.12978150869914,
          -50.746782701100024,
          -53.30827628015936,
          -42.49927357692676,
          -24.196040717286134
         ],
         "yaxis": "y"
        },
        {
         "hovertemplate": "PRN=10.0<br>godzina od wybranej daty=%{x}<br>elewacja [°]=%{y}<extra></extra>",
         "legendgroup": "10.0",
         "line": {
          "color": "#FECB52",
          "dash": "solid"
         },
         "marker": {
          "symbol": "circle"
         },
         "mode": "lines",
         "name": "10.0",
         "orientation": "v",
         "showlegend": true,
         "type": "scatter",
         "x": [
          0,
          1,
          2,
          3,
          4,
          5,
          6,
          7,
          8,
          9,
          10,
          11,
          12,
          13,
          14,
          15,
          16,
          17,
          18,
          19,
          20,
          21,
          22,
          23
         ],
         "xaxis": "x",
         "y": [
          -13.5581603776082,
          -32.90280555053702,
          -51.42609363594794,
          -69.56825629714544,
          -83.09998052602005,
          -68.9590335303994,
          -48.785142672814814,
          -27.58871450437259,
          -6.708117375969928,
          10.295214221914197,
          16.281757836734467,
          7.5655818853348515,
          -9.208120670762979,
          -25.800711877011057,
          -35.93558864301959,
          -34.54179474844568,
          -21.655549130001077,
          -1.159967575612804,
          24.184782847738987,
          52.14266953469113,
          71.8880462121112,
          54.9601565353884,
          29.35113241780965,
          5.972969406004784
         ],
         "yaxis": "y"
        },
        {
         "hovertemplate": "PRN=11.0<br>godzina od wybranej daty=%{x}<br>elewacja [°]=%{y}<extra></extra>",
         "legendgroup": "11.0",
         "line": {
          "color": "#636efa",
          "dash": "solid"
         },
         "marker": {
          "symbol": "circle"
         },
         "mode": "lines",
         "name": "11.0",
         "orientation": "v",
         "showlegend": true,
         "type": "scatter",
         "x": [
          0,
          1,
          2,
          3,
          4,
          5,
          6,
          7,
          8,
          9,
          10,
          11,
          12,
          13,
          14,
          15,
          16,
          17,
          18,
          19,
          20,
          21,
          22,
          23
         ],
         "xaxis": "x",
         "y": [
          -36.754152985589045,
          -15.78175227868521,
          6.643207922414479,
          27.73713719171506,
          37.97506792267447,
          28.199546203727,
          8.069758862126523,
          -11.564138687172697,
          -25.331900088873795,
          -29.086747513128863,
          -21.258012276953096,
          -4.590495016737519,
          16.87779860183872,
          37.19419281002537,
          42.840192570934505,
          27.531629068997475,
          4.855110236552503,
          -17.441794083222483,
          -37.78662649488144,
          -56.29759553187962,
          -73.48957622277354,
          -87.60489784619534,
          -72.50229026343847,
          -54.72295684996809
         ],
         "yaxis": "y"
        },
        {
         "hovertemplate": "PRN=12.0<br>godzina od wybranej daty=%{x}<br>elewacja [°]=%{y}<extra></extra>",
         "legendgroup": "12.0",
         "line": {
          "color": "#EF553B",
          "dash": "solid"
         },
         "marker": {
          "symbol": "circle"
         },
         "mode": "lines",
         "name": "12.0",
         "orientation": "v",
         "showlegend": true,
         "type": "scatter",
         "x": [
          0,
          1,
          2,
          3,
          4,
          5,
          6,
          7,
          8,
          9,
          10,
          11,
          12,
          13,
          14,
          15,
          16,
          17,
          18,
          19,
          20,
          21,
          22,
          23
         ],
         "xaxis": "x",
         "y": [
          1.178949223264506,
          2.495569619559311,
          -8.684209393740224,
          -26.138363456029563,
          -43.82099027982443,
          -55.9914644985691,
          -55.05522467443492,
          -41.59130788189609,
          -22.351914003977043,
          -0.301250925445322,
          23.85564896719195,
          49.876556588726594,
          76.80871743116201,
          73.84302594967222,
          47.47547652717926,
          22.43538462452798,
          -0.8835054975234732,
          -22.475381916442505,
          -41.817112484980285,
          -56.268830223368965,
          -58.65329383290047,
          -46.854335147165415,
          -28.89656433613637,
          -10.764423446501869
         ],
         "yaxis": "y"
        },
        {
         "hovertemplate": "PRN=13.0<br>godzina od wybranej daty=%{x}<br>elewacja [°]=%{y}<extra></extra>",
         "legendgroup": "13.0",
         "line": {
          "color": "#00cc96",
          "dash": "solid"
         },
         "marker": {
          "symbol": "circle"
         },
         "mode": "lines",
         "name": "13.0",
         "orientation": "v",
         "showlegend": true,
         "type": "scatter",
         "x": [
          0,
          1,
          2,
          3,
          4,
          5,
          6,
          7,
          8,
          9,
          10,
          11,
          12,
          13,
          14,
          15,
          16,
          17,
          18,
          19,
          20,
          21,
          22,
          23
         ],
         "xaxis": "x",
         "y": [
          -75.31266296317924,
          -70.62423047484943,
          -53.698720937043575,
          -35.14648155861266,
          -15.870767142212507,
          4.656379372392109,
          27.39688169313284,
          53.16995534724919,
          79.31935611417974,
          63.23887726280829,
          33.79269748524627,
          6.965420892503134,
          -15.87414878604989,
          -33.210565721817666,
          -41.51810413927475,
          -37.53947560028764,
          -24.052929453458027,
          -7.030541179979153,
          6.914052449887362,
          9.734509215234539,
          -1.2626516963504333,
          -20.085059797683464,
          -40.97654378654348,
          -61.0711188302179
         ],
         "yaxis": "y"
        },
        {
         "hovertemplate": "PRN=14.0<br>godzina od wybranej daty=%{x}<br>elewacja [°]=%{y}<extra></extra>",
         "legendgroup": "14.0",
         "line": {
          "color": "#ab63fa",
          "dash": "solid"
         },
         "marker": {
          "symbol": "circle"
         },
         "mode": "lines",
         "name": "14.0",
         "orientation": "v",
         "showlegend": true,
         "type": "scatter",
         "x": [
          0,
          1,
          2,
          3,
          4,
          5,
          6,
          7,
          8,
          9,
          10,
          11,
          12,
          13,
          14,
          15,
          16,
          17,
          18,
          19,
          20,
          21,
          22,
          23
         ],
         "xaxis": "x",
         "y": [
          -7.756916215147407,
          -23.905583518810584,
          -33.87774922472959,
          -32.959446021463144,
          -20.876675961628454,
          -1.0315949642286992,
          23.868196105164245,
          51.180100355578986,
          68.27146406175525,
          51.22434366882283,
          25.997245085132942,
          2.9248475286476903,
          -17.586840454516693,
          -36.39674024704452,
          -54.39439996847764,
          -72.02576260093605,
          -83.20649113506707,
          -67.34156018833993,
          -47.15807911202964,
          -25.939963462397408,
          -5.06147502884147,
          11.648076341638957,
          16.87202006164833,
          7.624493814721366
         ],
         "yaxis": "y"
        },
        {
         "hovertemplate": "PRN=15.0<br>godzina od wybranej daty=%{x}<br>elewacja [°]=%{y}<extra></extra>",
         "legendgroup": "15.0",
         "line": {
          "color": "#FFA15A",
          "dash": "solid"
         },
         "marker": {
          "symbol": "circle"
         },
         "mode": "lines",
         "name": "15.0",
         "orientation": "v",
         "showlegend": true,
         "type": "scatter",
         "x": [
          0,
          1,
          2,
          3,
          4,
          5,
          6,
          7,
          8,
          9,
          10,
          11,
          12,
          13,
          14,
          15,
          16,
          17,
          18,
          19,
          20,
          21,
          22,
          23
         ],
         "xaxis": "x",
         "y": [
          -67.24504269056469,
          -83.95130664434389,
          -75.20998687925382,
          -58.380208616851434,
          -40.97164393573631,
          -22.349861882895166,
          -1.6070882445259065,
          21.923740879712433,
          47.05551808982462,
          62.06857091584341,
          46.612562662355145,
          21.17226280190349,
          -2.019696937076906,
          -20.061720590425853,
          -30.325773057895915,
          -30.03071647930185,
          -19.75029880468598,
          -3.659718625424743,
          12.367387727322209,
          19.426952041573855,
          11.077933545063914,
          -7.340752047614909,
          -28.443008637503404,
          -49.12085315645998
         ],
         "yaxis": "y"
        },
        {
         "hovertemplate": "PRN=16.0<br>godzina od wybranej daty=%{x}<br>elewacja [°]=%{y}<extra></extra>",
         "legendgroup": "16.0",
         "line": {
          "color": "#19d3f3",
          "dash": "solid"
         },
         "marker": {
          "symbol": "circle"
         },
         "mode": "lines",
         "name": "16.0",
         "orientation": "v",
         "showlegend": true,
         "type": "scatter",
         "x": [
          0,
          1,
          2,
          3,
          4,
          5,
          6,
          7,
          8,
          9,
          10,
          11,
          12,
          13,
          14,
          15,
          16,
          17,
          18,
          19,
          20,
          21,
          22,
          23
         ],
         "xaxis": "x",
         "y": [
          -31.279035759676894,
          -21.367199065461943,
          -4.428171531631419,
          13.844128706894542,
          24.283290174384003,
          17.89503758226866,
          -0.5869619522965143,
          -22.257287109777348,
          -43.42830540930969,
          -63.259588641789215,
          -81.72907932835152,
          -80.52630394855575,
          -63.49098247642248,
          -46.14847532022857,
          -27.651163401575907,
          -7.073616050896641,
          16.272938090878327,
          41.60254119173331,
          59.94101285043121,
          49.078669035289224,
          23.915666301133886,
          -0.08812865123137456,
          -19.212955743465656,
          -30.586415856488635
         ],
         "yaxis": "y"
        },
        {
         "hovertemplate": "PRN=17.0<br>godzina od wybranej daty=%{x}<br>elewacja [°]=%{y}<extra></extra>",
         "legendgroup": "17.0",
         "line": {
          "color": "#FF6692",
          "dash": "solid"
         },
         "marker": {
          "symbol": "circle"
         },
         "mode": "lines",
         "name": "17.0",
         "orientation": "v",
         "showlegend": true,
         "type": "scatter",
         "x": [
          0,
          1,
          2,
          3,
          4,
          5,
          6,
          7,
          8,
          9,
          10,
          11,
          12,
          13,
          14,
          15,
          16,
          17,
          18,
          19,
          20,
          21,
          22,
          23
         ],
         "xaxis": "x",
         "y": [
          35.94439117570577,
          30.884760383579263,
          12.273177514017835,
          -8.23864465142317,
          -24.147524584997015,
          -30.531110943070694,
          -24.50623924827773,
          -8.36905263474748,
          13.529837405000086,
          35.93993884301899,
          46.788628678731506,
          35.07655170357068,
          13.11898126092373,
          -9.30854921569248,
          -30.028904962959412,
          -49.03590200632665,
          -66.81542200784239,
          -83.6322098583067,
          -77.81246061886475,
          -59.776506527909696,
          -40.36791040015324,
          -19.45915063841024,
          2.6593179456808964,
          23.79786844961747
         ],
         "yaxis": "y"
        },
        {
         "hovertemplate": "PRN=18.0<br>godzina od wybranej daty=%{x}<br>elewacja [°]=%{y}<extra></extra>",
         "legendgroup": "18.0",
         "line": {
          "color": "#B6E880",
          "dash": "solid"
         },
         "marker": {
          "symbol": "circle"
         },
         "mode": "lines",
         "name": "18.0",
         "orientation": "v",
         "showlegend": true,
         "type": "scatter",
         "x": [
          0,
          1,
          2,
          3,
          4,
          5,
          6,
          7,
          8,
          9,
          10,
          11,
          12,
          13,
          14,
          15,
          16,
          17,
          18,
          19,
          20,
          21,
          22,
          23
         ],
         "xaxis": "x",
         "y": [
          -63.09199513543344,
          -76.39657773117432,
          -68.04065665437476,
          -48.84721357199576,
          -27.922133034439373,
          -7.828046262465254,
          7.032530623453959,
          9.905511858568483,
          -0.5119024087889543,
          -17.219822023401083,
          -32.95833673671334,
          -41.552002097568085,
          -38.02482863528824,
          -23.55665294714067,
          -2.3664543951568953,
          23.24682399949635,
          52.062956903733095,
          79.50933156430484,
          63.91471786372013,
          37.41587713943368,
          13.773067285105721,
          -7.425122639011252,
          -27.161306807894345,
          -46.14786608906596
         ],
         "yaxis": "y"
        },
        {
         "hovertemplate": "PRN=19.0<br>godzina od wybranej daty=%{x}<br>elewacja [°]=%{y}<extra></extra>",
         "legendgroup": "19.0",
         "line": {
          "color": "#FF97FF",
          "dash": "solid"
         },
         "marker": {
          "symbol": "circle"
         },
         "mode": "lines",
         "name": "19.0",
         "orientation": "v",
         "showlegend": true,
         "type": "scatter",
         "x": [
          0,
          1,
          2,
          3,
          4,
          5,
          6,
          7,
          8,
          9,
          10,
          11,
          12,
          13,
          14,
          15,
          16,
          17,
          18,
          19,
          20,
          21,
          22,
          23
         ],
         "xaxis": "x",
         "y": [
          23.74549052627828,
          31.179878286053007,
          19.93933471280052,
          0.38848388461668465,
          -17.762322158482,
          -29.1700914226534,
          -29.77688095299095,
          -19.111519718582038,
          -0.3713293846183396,
          23.109852435178567,
          46.01218441207485,
          51.597780050149865,
          32.66018280497927,
          8.14657521912946,
          -14.57214479340375,
          -34.68597453724137,
          -52.75014874147341,
          -69.59897434413247,
          -85.89744866246531,
          -76.58037564348727,
          -58.418200273421405,
          -38.64284997319042,
          -17.15171265446371,
          5.3026107833092215
         ],
         "yaxis": "y"
        },
        {
         "hovertemplate": "PRN=20.0<br>godzina od wybranej daty=%{x}<br>elewacja [°]=%{y}<extra></extra>",
         "legendgroup": "20.0",
         "line": {
          "color": "#FECB52",
          "dash": "solid"
         },
         "marker": {
          "symbol": "circle"
         },
         "mode": "lines",
         "name": "20.0",
         "orientation": "v",
         "showlegend": true,
         "type": "scatter",
         "x": [
          0,
          1,
          2,
          3,
          4,
          5,
          6,
          7,
          8,
          9,
          10,
          11,
          12,
          13,
          14,
          15,
          16,
          17,
          18,
          19,
          20,
          21,
          22,
          23
         ],
         "xaxis": "x",
         "y": [
          -54.379970494471586,
          -36.763096418394014,
          -17.78998899657016,
          3.278594758004497,
          26.477607976833756,
          48.22160791238384,
          52.57030162227533,
          33.11519977095573,
          8.75745011621651,
          -12.166970580898175,
          -26.18219335989341,
          -29.948767052749556,
          -22.54511496699409,
          -7.3299501579633155,
          10.714862638923277,
          24.405993161264483,
          23.92112919421475,
          8.69972091657849,
          -12.476908909116906,
          -34.20949509340543,
          -54.856670291520864,
          -74.13027849365386,
          -87.35085827625407,
          -70.3353756881046
         ],
         "yaxis": "y"
        },
        {
         "hovertemplate": "PRN=21.0<br>godzina od wybranej daty=%{x}<br>elewacja [°]=%{y}<extra></extra>",
         "legendgroup": "21.0",
         "line": {
          "color": "#636efa",
          "dash": "solid"
         },
         "marker": {
          "symbol": "circle"
         },
         "mode": "lines",
         "name": "21.0",
         "orientation": "v",
         "showlegend": true,
         "type": "scatter",
         "x": [
          0,
          1,
          2,
          3,
          4,
          5,
          6,
          7,
          8,
          9,
          10,
          11,
          12,
          13,
          14,
          15,
          16,
          17,
          18,
          19,
          20,
          21,
          22,
          23
         ],
         "xaxis": "x",
         "y": [
          47.80537268731305,
          20.73655884803514,
          -4.27361942399782,
          -25.978089221450034,
          -41.67936273277697,
          -45.99548604345653,
          -36.934270617710375,
          -20.667747638556065,
          -4.146272011217133,
          5.8136984593402845,
          3.616197666565007,
          -9.514103272659035,
          -28.020005429973757,
          -47.78829899630026,
          -65.49277000430222,
          -70.99041215021745,
          -57.27040625578589,
          -37.68144195806055,
          -16.612183518720183,
          5.301332353164456,
          28.17532222420763,
          52.399394180419634,
          78.13282365771238,
          73.66784709305287
         ],
         "yaxis": "y"
        },
        {
         "hovertemplate": "PRN=22.0<br>godzina od wybranej daty=%{x}<br>elewacja [°]=%{y}<extra></extra>",
         "legendgroup": "22.0",
         "line": {
          "color": "#EF553B",
          "dash": "solid"
         },
         "marker": {
          "symbol": "circle"
         },
         "mode": "lines",
         "name": "22.0",
         "orientation": "v",
         "showlegend": true,
         "type": "scatter",
         "x": [
          0,
          1,
          2,
          3,
          4,
          5,
          6,
          7,
          8,
          9,
          10,
          11,
          12,
          13,
          14,
          15,
          16,
          17,
          18,
          19,
          20,
          21,
          22,
          23
         ],
         "xaxis": "x",
         "y": [
          41.94823126965945,
          18.79579108773669,
          -3.8697592290715805,
          -24.522034035114075,
          -43.496823999250054,
          -61.49260992665868,
          -79.22096028310678,
          -82.70413986856761,
          -63.86027782222734,
          -43.96180300406745,
          -22.980276160836556,
          -1.546397257913744,
          17.57048652931849,
          26.977524412107996,
          19.948478850927167,
          2.538841179623975,
          -15.671533212900862,
          -28.371834755673678,
          -30.552701835693785,
          -20.77719820535909,
          -2.270630540897158,
          21.243730683943884,
          45.111119639038264,
          55.48466498965586
         ],
         "yaxis": "y"
        },
        {
         "hovertemplate": "PRN=23.0<br>godzina od wybranej daty=%{x}<br>elewacja [°]=%{y}<extra></extra>",
         "legendgroup": "23.0",
         "line": {
          "color": "#00cc96",
          "dash": "solid"
         },
         "marker": {
          "symbol": "circle"
         },
         "mode": "lines",
         "name": "23.0",
         "orientation": "v",
         "showlegend": true,
         "type": "scatter",
         "x": [
          0,
          1,
          2,
          3,
          4,
          5,
          6,
          7,
          8,
          9,
          10,
          11,
          12,
          13,
          14,
          15,
          16,
          17,
          18,
          19,
          20,
          21,
          22,
          23
         ],
         "xaxis": "x",
         "y": [
          -39.65778513195505,
          -57.326156694126,
          -74.73564076694248,
          -86.37686878919838,
          -68.1223662713208,
          -48.091828272212226,
          -26.848146713185475,
          -5.128043468250851,
          14.087631269941607,
          23.215519870361113,
          16.05871856870092,
          -0.9589512995425136,
          -18.506048557236287,
          -30.461180381840396,
          -31.99670066926261,
          -21.89835883725279,
          -3.2520433179079036,
          20.784387092762298,
          46.78434388839962,
          61.56669504325157,
          46.13972553163239,
          21.44285651713121,
          -1.6907908376280696,
          -22.23936592084524
         ],
         "yaxis": "y"
        },
        {
         "hovertemplate": "PRN=24.0<br>godzina od wybranej daty=%{x}<br>elewacja [°]=%{y}<extra></extra>",
         "legendgroup": "24.0",
         "line": {
          "color": "#ab63fa",
          "dash": "solid"
         },
         "marker": {
          "symbol": "circle"
         },
         "mode": "lines",
         "name": "24.0",
         "orientation": "v",
         "showlegend": true,
         "type": "scatter",
         "x": [
          0,
          1,
          2,
          3,
          4,
          5,
          6,
          7,
          8,
          9,
          10,
          11,
          12,
          13,
          14,
          15,
          16,
          17,
          18,
          19,
          20,
          21,
          22,
          23
         ],
         "xaxis": "x",
         "y": [
          -20.805149102298206,
          -40.686817872755654,
          -59.70479657811707,
          -73.00039738122345,
          -67.8354168648359,
          -51.59836721262881,
          -33.132708057875114,
          -13.534825796463538,
          7.6094779932077135,
          31.11977836049572,
          57.487307018859184,
          81.20310989938925,
          59.55929321237836,
          31.147869285222697,
          5.507666172072522,
          -16.36025269036662,
          -33.05259002667055,
          -41.25455466721568,
          -37.811957802298714,
          -25.128541693356173,
          -8.993350149334947,
          4.013599710077377,
          6.352795439157374,
          -4.204820328731066
         ],
         "yaxis": "y"
        },
        {
         "hovertemplate": "PRN=25.0<br>godzina od wybranej daty=%{x}<br>elewacja [°]=%{y}<extra></extra>",
         "legendgroup": "25.0",
         "line": {
          "color": "#FFA15A",
          "dash": "solid"
         },
         "marker": {
          "symbol": "circle"
         },
         "mode": "lines",
         "name": "25.0",
         "orientation": "v",
         "showlegend": true,
         "type": "scatter",
         "x": [
          0,
          1,
          2,
          3,
          4,
          5,
          6,
          7,
          8,
          9,
          10,
          11,
          12,
          13,
          14,
          15,
          16,
          17,
          18,
          19,
          20,
          21,
          22,
          23
         ],
         "xaxis": "x",
         "y": [
          -5.438780545391316,
          3.992133564764947,
          0.5586768638656192,
          -13.828925417761925,
          -32.76210201702402,
          -51.56365014813552,
          -65.2283451371292,
          -63.8185433038761,
          -49.20695858221633,
          -30.41725483939937,
          -9.957134977940436,
          11.974017444458584,
          35.808862020837,
          61.99594019725409,
          89.41603154627155,
          60.66596792437944,
          32.77930188389435,
          7.203581481116307,
          -15.567964603796737,
          -34.68373270421843,
          -47.295471799958,
          -48.23088243800449,
          -37.26812453660243,
          -20.633156570533604
         ],
         "yaxis": "y"
        },
        {
         "hovertemplate": "PRN=26.0<br>godzina od wybranej daty=%{x}<br>elewacja [°]=%{y}<extra></extra>",
         "legendgroup": "26.0",
         "line": {
          "color": "#19d3f3",
          "dash": "solid"
         },
         "marker": {
          "symbol": "circle"
         },
         "mode": "lines",
         "name": "26.0",
         "orientation": "v",
         "showlegend": true,
         "type": "scatter",
         "x": [
          0,
          1,
          2,
          3,
          4,
          5,
          6,
          7,
          8,
          9,
          10,
          11,
          12,
          13,
          14,
          15,
          16,
          17,
          18,
          19,
          20,
          21,
          22,
          23
         ],
         "xaxis": "x",
         "y": [
          -22.635478008800778,
          -6.761194998361074,
          9.4588623464683,
          17.691511509263567,
          11.241676998888698,
          -5.950406401605314,
          -26.68631960883146,
          -47.5087693114687,
          -67.27459181424844,
          -83.55988265075008,
          -73.41403997713624,
          -56.018711158127665,
          -38.09881235368911,
          -19.16387745107282,
          1.6333422250286789,
          24.983422416544272,
          49.96331417155339,
          65.24083867187309,
          48.83528250193538,
          22.641871148806896,
          -1.3449897936893833,
          -20.326188015363638,
          -31.5545159819995,
          -31.864556297494858
         ],
         "yaxis": "y"
        },
        {
         "hovertemplate": "PRN=27.0<br>godzina od wybranej daty=%{x}<br>elewacja [°]=%{y}<extra></extra>",
         "legendgroup": "27.0",
         "line": {
          "color": "#FF6692",
          "dash": "solid"
         },
         "marker": {
          "symbol": "circle"
         },
         "mode": "lines",
         "name": "27.0",
         "orientation": "v",
         "showlegend": true,
         "type": "scatter",
         "x": [
          0,
          1,
          2,
          3,
          4,
          5,
          6,
          7,
          8,
          9,
          10,
          11,
          12,
          13,
          14,
          15,
          16,
          17,
          18,
          19,
          20,
          21,
          22,
          23
         ],
         "xaxis": "x",
         "y": [
          -22.468107384007897,
          -36.947201255062524,
          -40.86386736244779,
          -32.7164309885012,
          -17.071895690032502,
          -0.12117826194960674,
          10.539050216113441,
          7.493676368861065,
          -7.68099724240942,
          -27.866346770362405,
          -48.70437792453885,
          -67.93358362960744,
          -77.6045222106164,
          -65.04060052796919,
          -47.11133247727535,
          -28.28523739545144,
          -8.493235363442084,
          13.062719896114379,
          37.355347185364046,
          64.5268441035148,
          78.08600086037515,
          50.35395249934321,
          21.955017927208022,
          -3.0909016587425966
         ],
         "yaxis": "y"
        },
        {
         "hovertemplate": "PRN=29.0<br>godzina od wybranej daty=%{x}<br>elewacja [°]=%{y}<extra></extra>",
         "legendgroup": "29.0",
         "line": {
          "color": "#B6E880",
          "dash": "solid"
         },
         "marker": {
          "symbol": "circle"
         },
         "mode": "lines",
         "name": "29.0",
         "orientation": "v",
         "showlegend": true,
         "type": "scatter",
         "x": [
          0,
          1,
          2,
          3,
          4,
          5,
          6,
          7,
          8,
          9,
          10,
          11,
          12,
          13,
          14,
          15,
          16,
          17,
          18,
          19,
          20,
          21,
          22,
          23
         ],
         "xaxis": "x",
         "y": [
          -54.81486517419249,
          -35.84377981949886,
          -16.09794167178493,
          -0.07206205920220567,
          5.760358421129299,
          -1.9288007092946549,
          -18.086830292585624,
          -35.695809228597824,
          -48.698089041278955,
          -50.05653673309482,
          -38.32189926116333,
          -19.15798171319577,
          3.8788097346920822,
          29.638695978663076,
          57.42381861762349,
          85.37960212515179,
          65.9702693971495,
          40.30802254526117,
          16.64488870539409,
          -5.461855243009679,
          -26.407291850626617,
          -46.039834097885226,
          -62.32029325154772,
          -66.50879065171837
         ],
         "yaxis": "y"
        },
        {
         "hovertemplate": "PRN=30.0<br>godzina od wybranej daty=%{x}<br>elewacja [°]=%{y}<extra></extra>",
         "legendgroup": "30.0",
         "line": {
          "color": "#FF97FF",
          "dash": "solid"
         },
         "marker": {
          "symbol": "circle"
         },
         "mode": "lines",
         "name": "30.0",
         "orientation": "v",
         "showlegend": true,
         "type": "scatter",
         "x": [
          0,
          1,
          2,
          3,
          4,
          5,
          6,
          7,
          8,
          9,
          10,
          11,
          12,
          13,
          14,
          15,
          16,
          17,
          18,
          19,
          20,
          21,
          22,
          23
         ],
         "xaxis": "x",
         "y": [
          -45.29675046559742,
          -37.45383538893275,
          -20.57539820806135,
          1.3710304624933753,
          26.70473563112824,
          54.54026939557525,
          82.5929499456378,
          67.00214820370333,
          40.88935846289735,
          17.074873806832578,
          -4.84361701689708,
          -25.45133552828168,
          -44.926796804989245,
          -62.11378996851984,
          -70.00429939680201,
          -59.597463449156116,
          -41.32468879307764,
          -21.856281722234893,
          -4.790570790988775,
          4.55124132821638,
          1.4529897668040992,
          -11.696763044339594,
          -28.05843459717673,
          -41.32510566583415
         ],
         "yaxis": "y"
        },
        {
         "hovertemplate": "PRN=31.0<br>godzina od wybranej daty=%{x}<br>elewacja [°]=%{y}<extra></extra>",
         "legendgroup": "31.0",
         "line": {
          "color": "#FECB52",
          "dash": "solid"
         },
         "marker": {
          "symbol": "circle"
         },
         "mode": "lines",
         "name": "31.0",
         "orientation": "v",
         "showlegend": true,
         "type": "scatter",
         "x": [
          0,
          1,
          2,
          3,
          4,
          5,
          6,
          7,
          8,
          9,
          10,
          11,
          12,
          13,
          14,
          15,
          16,
          17,
          18,
          19,
          20,
          21,
          22,
          23
         ],
         "xaxis": "x",
         "y": [
          27.416827490402238,
          32.331322916627514,
          19.005102325789863,
          -2.169861744327968,
          -23.858472040172558,
          -44.10488572131277,
          -62.75322479735385,
          -80.11066887938185,
          -82.86065088533344,
          -66.15878215991916,
          -48.533291301484695,
          -29.320263227677003,
          -7.9699938834715365,
          15.432784084149844,
          38.086639196404164,
          48.234482779670365,
          35.0538052342869,
          12.675676655968065,
          -8.20586148555416,
          -23.3934661670262,
          -29.260325955710773,
          -23.68632652419458,
          -8.858789778140538,
          10.733738039360256
         ],
         "yaxis": "y"
        },
        {
         "hovertemplate": "PRN=32.0<br>godzina od wybranej daty=%{x}<br>elewacja [°]=%{y}<extra></extra>",
         "legendgroup": "32.0",
         "line": {
          "color": "#636efa",
          "dash": "solid"
         },
         "marker": {
          "symbol": "circle"
         },
         "mode": "lines",
         "name": "32.0",
         "orientation": "v",
         "showlegend": true,
         "type": "scatter",
         "x": [
          0,
          1,
          2,
          3,
          4,
          5,
          6,
          7,
          8,
          9,
          10,
          11,
          12,
          13,
          14,
          15,
          16,
          17,
          18,
          19,
          20,
          21,
          22,
          23
         ],
         "xaxis": "x",
         "y": [
          24.971996621892522,
          1.5566586441391437,
          -19.98818187672452,
          -39.46487194313206,
          -57.46220496591114,
          -74.73031935288071,
          -87.89316293320329,
          -70.04317216774731,
          -51.03475917727559,
          -30.680233232823223,
          -9.141676918995474,
          12.05868566482333,
          27.352865507564417,
          27.05761482436127,
          11.92386123539195,
          -7.227742121555676,
          -22.944385162755488,
          -30.14368331934952,
          -25.663913520122062,
          -11.005801897286114,
          10.128055367175213,
          33.939522763659355,
          51.402925091987434,
          45.276348365713964
         ],
         "yaxis": "y"
        }
       ],
       "layout": {
        "hovermode": "closest",
        "legend": {
         "title": {
          "text": "PRN"
         },
         "tracegroupgap": 0
        },
        "template": {
         "data": {
          "bar": [
           {
            "error_x": {
             "color": "#f2f5fa"
            },
            "error_y": {
             "color": "#f2f5fa"
            },
            "marker": {
             "line": {
              "color": "rgb(17,17,17)",
              "width": 0.5
             },
             "pattern": {
              "fillmode": "overlay",
              "size": 10,
              "solidity": 0.2
             }
            },
            "type": "bar"
           }
          ],
          "barpolar": [
           {
            "marker": {
             "line": {
              "color": "rgb(17,17,17)",
              "width": 0.5
             },
             "pattern": {
              "fillmode": "overlay",
              "size": 10,
              "solidity": 0.2
             }
            },
            "type": "barpolar"
           }
          ],
          "carpet": [
           {
            "aaxis": {
             "endlinecolor": "#A2B1C6",
             "gridcolor": "#506784",
             "linecolor": "#506784",
             "minorgridcolor": "#506784",
             "startlinecolor": "#A2B1C6"
            },
            "baxis": {
             "endlinecolor": "#A2B1C6",
             "gridcolor": "#506784",
             "linecolor": "#506784",
             "minorgridcolor": "#506784",
             "startlinecolor": "#A2B1C6"
            },
            "type": "carpet"
           }
          ],
          "choropleth": [
           {
            "colorbar": {
             "outlinewidth": 0,
             "ticks": ""
            },
            "type": "choropleth"
           }
          ],
          "contour": [
           {
            "colorbar": {
             "outlinewidth": 0,
             "ticks": ""
            },
            "colorscale": [
             [
              0,
              "#0d0887"
             ],
             [
              0.1111111111111111,
              "#46039f"
             ],
             [
              0.2222222222222222,
              "#7201a8"
             ],
             [
              0.3333333333333333,
              "#9c179e"
             ],
             [
              0.4444444444444444,
              "#bd3786"
             ],
             [
              0.5555555555555556,
              "#d8576b"
             ],
             [
              0.6666666666666666,
              "#ed7953"
             ],
             [
              0.7777777777777778,
              "#fb9f3a"
             ],
             [
              0.8888888888888888,
              "#fdca26"
             ],
             [
              1,
              "#f0f921"
             ]
            ],
            "type": "contour"
           }
          ],
          "contourcarpet": [
           {
            "colorbar": {
             "outlinewidth": 0,
             "ticks": ""
            },
            "type": "contourcarpet"
           }
          ],
          "heatmap": [
           {
            "colorbar": {
             "outlinewidth": 0,
             "ticks": ""
            },
            "colorscale": [
             [
              0,
              "#0d0887"
             ],
             [
              0.1111111111111111,
              "#46039f"
             ],
             [
              0.2222222222222222,
              "#7201a8"
             ],
             [
              0.3333333333333333,
              "#9c179e"
             ],
             [
              0.4444444444444444,
              "#bd3786"
             ],
             [
              0.5555555555555556,
              "#d8576b"
             ],
             [
              0.6666666666666666,
              "#ed7953"
             ],
             [
              0.7777777777777778,
              "#fb9f3a"
             ],
             [
              0.8888888888888888,
              "#fdca26"
             ],
             [
              1,
              "#f0f921"
             ]
            ],
            "type": "heatmap"
           }
          ],
          "heatmapgl": [
           {
            "colorbar": {
             "outlinewidth": 0,
             "ticks": ""
            },
            "colorscale": [
             [
              0,
              "#0d0887"
             ],
             [
              0.1111111111111111,
              "#46039f"
             ],
             [
              0.2222222222222222,
              "#7201a8"
             ],
             [
              0.3333333333333333,
              "#9c179e"
             ],
             [
              0.4444444444444444,
              "#bd3786"
             ],
             [
              0.5555555555555556,
              "#d8576b"
             ],
             [
              0.6666666666666666,
              "#ed7953"
             ],
             [
              0.7777777777777778,
              "#fb9f3a"
             ],
             [
              0.8888888888888888,
              "#fdca26"
             ],
             [
              1,
              "#f0f921"
             ]
            ],
            "type": "heatmapgl"
           }
          ],
          "histogram": [
           {
            "marker": {
             "pattern": {
              "fillmode": "overlay",
              "size": 10,
              "solidity": 0.2
             }
            },
            "type": "histogram"
           }
          ],
          "histogram2d": [
           {
            "colorbar": {
             "outlinewidth": 0,
             "ticks": ""
            },
            "colorscale": [
             [
              0,
              "#0d0887"
             ],
             [
              0.1111111111111111,
              "#46039f"
             ],
             [
              0.2222222222222222,
              "#7201a8"
             ],
             [
              0.3333333333333333,
              "#9c179e"
             ],
             [
              0.4444444444444444,
              "#bd3786"
             ],
             [
              0.5555555555555556,
              "#d8576b"
             ],
             [
              0.6666666666666666,
              "#ed7953"
             ],
             [
              0.7777777777777778,
              "#fb9f3a"
             ],
             [
              0.8888888888888888,
              "#fdca26"
             ],
             [
              1,
              "#f0f921"
             ]
            ],
            "type": "histogram2d"
           }
          ],
          "histogram2dcontour": [
           {
            "colorbar": {
             "outlinewidth": 0,
             "ticks": ""
            },
            "colorscale": [
             [
              0,
              "#0d0887"
             ],
             [
              0.1111111111111111,
              "#46039f"
             ],
             [
              0.2222222222222222,
              "#7201a8"
             ],
             [
              0.3333333333333333,
              "#9c179e"
             ],
             [
              0.4444444444444444,
              "#bd3786"
             ],
             [
              0.5555555555555556,
              "#d8576b"
             ],
             [
              0.6666666666666666,
              "#ed7953"
             ],
             [
              0.7777777777777778,
              "#fb9f3a"
             ],
             [
              0.8888888888888888,
              "#fdca26"
             ],
             [
              1,
              "#f0f921"
             ]
            ],
            "type": "histogram2dcontour"
           }
          ],
          "mesh3d": [
           {
            "colorbar": {
             "outlinewidth": 0,
             "ticks": ""
            },
            "type": "mesh3d"
           }
          ],
          "parcoords": [
           {
            "line": {
             "colorbar": {
              "outlinewidth": 0,
              "ticks": ""
             }
            },
            "type": "parcoords"
           }
          ],
          "pie": [
           {
            "automargin": true,
            "type": "pie"
           }
          ],
          "scatter": [
           {
            "marker": {
             "line": {
              "color": "#283442"
             }
            },
            "type": "scatter"
           }
          ],
          "scatter3d": [
           {
            "line": {
             "colorbar": {
              "outlinewidth": 0,
              "ticks": ""
             }
            },
            "marker": {
             "colorbar": {
              "outlinewidth": 0,
              "ticks": ""
             }
            },
            "type": "scatter3d"
           }
          ],
          "scattercarpet": [
           {
            "marker": {
             "colorbar": {
              "outlinewidth": 0,
              "ticks": ""
             }
            },
            "type": "scattercarpet"
           }
          ],
          "scattergeo": [
           {
            "marker": {
             "colorbar": {
              "outlinewidth": 0,
              "ticks": ""
             }
            },
            "type": "scattergeo"
           }
          ],
          "scattergl": [
           {
            "marker": {
             "line": {
              "color": "#283442"
             }
            },
            "type": "scattergl"
           }
          ],
          "scattermapbox": [
           {
            "marker": {
             "colorbar": {
              "outlinewidth": 0,
              "ticks": ""
             }
            },
            "type": "scattermapbox"
           }
          ],
          "scatterpolar": [
           {
            "marker": {
             "colorbar": {
              "outlinewidth": 0,
              "ticks": ""
             }
            },
            "type": "scatterpolar"
           }
          ],
          "scatterpolargl": [
           {
            "marker": {
             "colorbar": {
              "outlinewidth": 0,
              "ticks": ""
             }
            },
            "type": "scatterpolargl"
           }
          ],
          "scatterternary": [
           {
            "marker": {
             "colorbar": {
              "outlinewidth": 0,
              "ticks": ""
             }
            },
            "type": "scatterternary"
           }
          ],
          "surface": [
           {
            "colorbar": {
             "outlinewidth": 0,
             "ticks": ""
            },
            "colorscale": [
             [
              0,
              "#0d0887"
             ],
             [
              0.1111111111111111,
              "#46039f"
             ],
             [
              0.2222222222222222,
              "#7201a8"
             ],
             [
              0.3333333333333333,
              "#9c179e"
             ],
             [
              0.4444444444444444,
              "#bd3786"
             ],
             [
              0.5555555555555556,
              "#d8576b"
             ],
             [
              0.6666666666666666,
              "#ed7953"
             ],
             [
              0.7777777777777778,
              "#fb9f3a"
             ],
             [
              0.8888888888888888,
              "#fdca26"
             ],
             [
              1,
              "#f0f921"
             ]
            ],
            "type": "surface"
           }
          ],
          "table": [
           {
            "cells": {
             "fill": {
              "color": "#506784"
             },
             "line": {
              "color": "rgb(17,17,17)"
             }
            },
            "header": {
             "fill": {
              "color": "#2a3f5f"
             },
             "line": {
              "color": "rgb(17,17,17)"
             }
            },
            "type": "table"
           }
          ]
         },
         "layout": {
          "annotationdefaults": {
           "arrowcolor": "#f2f5fa",
           "arrowhead": 0,
           "arrowwidth": 1
          },
          "autotypenumbers": "strict",
          "coloraxis": {
           "colorbar": {
            "outlinewidth": 0,
            "ticks": ""
           }
          },
          "colorscale": {
           "diverging": [
            [
             0,
             "#8e0152"
            ],
            [
             0.1,
             "#c51b7d"
            ],
            [
             0.2,
             "#de77ae"
            ],
            [
             0.3,
             "#f1b6da"
            ],
            [
             0.4,
             "#fde0ef"
            ],
            [
             0.5,
             "#f7f7f7"
            ],
            [
             0.6,
             "#e6f5d0"
            ],
            [
             0.7,
             "#b8e186"
            ],
            [
             0.8,
             "#7fbc41"
            ],
            [
             0.9,
             "#4d9221"
            ],
            [
             1,
             "#276419"
            ]
           ],
           "sequential": [
            [
             0,
             "#0d0887"
            ],
            [
             0.1111111111111111,
             "#46039f"
            ],
            [
             0.2222222222222222,
             "#7201a8"
            ],
            [
             0.3333333333333333,
             "#9c179e"
            ],
            [
             0.4444444444444444,
             "#bd3786"
            ],
            [
             0.5555555555555556,
             "#d8576b"
            ],
            [
             0.6666666666666666,
             "#ed7953"
            ],
            [
             0.7777777777777778,
             "#fb9f3a"
            ],
            [
             0.8888888888888888,
             "#fdca26"
            ],
            [
             1,
             "#f0f921"
            ]
           ],
           "sequentialminus": [
            [
             0,
             "#0d0887"
            ],
            [
             0.1111111111111111,
             "#46039f"
            ],
            [
             0.2222222222222222,
             "#7201a8"
            ],
            [
             0.3333333333333333,
             "#9c179e"
            ],
            [
             0.4444444444444444,
             "#bd3786"
            ],
            [
             0.5555555555555556,
             "#d8576b"
            ],
            [
             0.6666666666666666,
             "#ed7953"
            ],
            [
             0.7777777777777778,
             "#fb9f3a"
            ],
            [
             0.8888888888888888,
             "#fdca26"
            ],
            [
             1,
             "#f0f921"
            ]
           ]
          },
          "colorway": [
           "#636efa",
           "#EF553B",
           "#00cc96",
           "#ab63fa",
           "#FFA15A",
           "#19d3f3",
           "#FF6692",
           "#B6E880",
           "#FF97FF",
           "#FECB52"
          ],
          "font": {
           "color": "#f2f5fa"
          },
          "geo": {
           "bgcolor": "rgb(17,17,17)",
           "lakecolor": "rgb(17,17,17)",
           "landcolor": "rgb(17,17,17)",
           "showlakes": true,
           "showland": true,
           "subunitcolor": "#506784"
          },
          "hoverlabel": {
           "align": "left"
          },
          "hovermode": "closest",
          "mapbox": {
           "style": "dark"
          },
          "paper_bgcolor": "rgb(17,17,17)",
          "plot_bgcolor": "rgb(17,17,17)",
          "polar": {
           "angularaxis": {
            "gridcolor": "#506784",
            "linecolor": "#506784",
            "ticks": ""
           },
           "bgcolor": "rgb(17,17,17)",
           "radialaxis": {
            "gridcolor": "#506784",
            "linecolor": "#506784",
            "ticks": ""
           }
          },
          "scene": {
           "xaxis": {
            "backgroundcolor": "rgb(17,17,17)",
            "gridcolor": "#506784",
            "gridwidth": 2,
            "linecolor": "#506784",
            "showbackground": true,
            "ticks": "",
            "zerolinecolor": "#C8D4E3"
           },
           "yaxis": {
            "backgroundcolor": "rgb(17,17,17)",
            "gridcolor": "#506784",
            "gridwidth": 2,
            "linecolor": "#506784",
            "showbackground": true,
            "ticks": "",
            "zerolinecolor": "#C8D4E3"
           },
           "zaxis": {
            "backgroundcolor": "rgb(17,17,17)",
            "gridcolor": "#506784",
            "gridwidth": 2,
            "linecolor": "#506784",
            "showbackground": true,
            "ticks": "",
            "zerolinecolor": "#C8D4E3"
           }
          },
          "shapedefaults": {
           "line": {
            "color": "#f2f5fa"
           }
          },
          "sliderdefaults": {
           "bgcolor": "#C8D4E3",
           "bordercolor": "rgb(17,17,17)",
           "borderwidth": 1,
           "tickwidth": 0
          },
          "ternary": {
           "aaxis": {
            "gridcolor": "#506784",
            "linecolor": "#506784",
            "ticks": ""
           },
           "baxis": {
            "gridcolor": "#506784",
            "linecolor": "#506784",
            "ticks": ""
           },
           "bgcolor": "rgb(17,17,17)",
           "caxis": {
            "gridcolor": "#506784",
            "linecolor": "#506784",
            "ticks": ""
           }
          },
          "title": {
           "x": 0.05
          },
          "updatemenudefaults": {
           "bgcolor": "#506784",
           "borderwidth": 0
          },
          "xaxis": {
           "automargin": true,
           "gridcolor": "#283442",
           "linecolor": "#506784",
           "ticks": "",
           "title": {
            "standoff": 15
           },
           "zerolinecolor": "#283442",
           "zerolinewidth": 2
          },
          "yaxis": {
           "automargin": true,
           "gridcolor": "#283442",
           "linecolor": "#506784",
           "ticks": "",
           "title": {
            "standoff": 15
           },
           "zerolinecolor": "#283442",
           "zerolinewidth": 2
          }
         }
        },
        "title": {
         "text": "Elewacje satewlitów"
        },
        "xaxis": {
         "anchor": "y",
         "domain": [
          0,
          1
         ],
         "dtick": 1,
         "showspikes": true,
         "tick0": 0,
         "tickmode": "linear",
         "title": {
          "text": "godzina od wybranej daty"
         }
        },
        "yaxis": {
         "anchor": "x",
         "domain": [
          0,
          1
         ],
         "title": {
          "text": "elewacja [°]"
         }
        }
       }
      },
      "text/html": [
       "<div>                            <div id=\"fad0caf8-a52e-4c39-88ff-378c169f266b\" class=\"plotly-graph-div\" style=\"height:525px; width:100%;\"></div>            <script type=\"text/javascript\">                require([\"plotly\"], function(Plotly) {                    window.PLOTLYENV=window.PLOTLYENV || {};                                    if (document.getElementById(\"fad0caf8-a52e-4c39-88ff-378c169f266b\")) {                    Plotly.newPlot(                        \"fad0caf8-a52e-4c39-88ff-378c169f266b\",                        [{\"hovertemplate\":\"PRN=1.0<br>godzina od wybranej daty=%{x}<br>elewacja [\\u00b0]=%{y}<extra></extra>\",\"legendgroup\":\"1.0\",\"line\":{\"color\":\"#636efa\",\"dash\":\"solid\"},\"marker\":{\"symbol\":\"circle\"},\"mode\":\"lines\",\"name\":\"1.0\",\"orientation\":\"v\",\"showlegend\":true,\"x\":[0,1,2,3,4,5,6,7,8,9,10,11,12,13,14,15,16,17,18,19,20,21,22,23],\"xaxis\":\"x\",\"y\":[74.7190944116418,44.757688201169806,16.739644317415276,-7.741126150173034,-27.759660966332017,-40.76057187735892,-42.319803307991634,-32.031848777596736,-15.345637033924909,1.4314056433856988,10.360615934505967,4.863118985961925,-11.770095383960923,-32.41027958091995,-53.12596479035363,-71.0917235578337,-74.36837042236328,-59.3354227911562,-41.01567060723403,-21.85049393246223,-1.586339986969143,20.6499144583533,45.84995441086691,73.95094257485485],\"yaxis\":\"y\",\"type\":\"scatter\"},{\"hovertemplate\":\"PRN=2.0<br>godzina od wybranej daty=%{x}<br>elewacja [\\u00b0]=%{y}<extra></extra>\",\"legendgroup\":\"2.0\",\"line\":{\"color\":\"#EF553B\",\"dash\":\"solid\"},\"marker\":{\"symbol\":\"circle\"},\"mode\":\"lines\",\"name\":\"2.0\",\"orientation\":\"v\",\"showlegend\":true,\"x\":[0,1,2,3,4,5,6,7,8,9,10,11,12,13,14,15,16,17,18,19,20,21,22,23],\"xaxis\":\"x\",\"y\":[-37.42584625692845,-16.203178185409065,5.504713164962091,24.623581331668138,32.87583736461214,23.726321898038773,4.896400059662261,-14.060165124060862,-27.22543959207682,-29.64666071597086,-19.822877930300074,-1.1770956224611548,21.915334883644395,43.05603431644123,47.779629192601135,31.66617070297904,9.444077949701084,-12.222700243475662,-32.2424427057767,-50.89532668095847,-68.76108998403461,-86.20398029706607,-75.14391728852189,-56.16511067095436],\"yaxis\":\"y\",\"type\":\"scatter\"},{\"hovertemplate\":\"PRN=3.0<br>godzina od wybranej daty=%{x}<br>elewacja [\\u00b0]=%{y}<extra></extra>\",\"legendgroup\":\"3.0\",\"line\":{\"color\":\"#00cc96\",\"dash\":\"solid\"},\"marker\":{\"symbol\":\"circle\"},\"mode\":\"lines\",\"name\":\"3.0\",\"orientation\":\"v\",\"showlegend\":true,\"x\":[0,1,2,3,4,5,6,7,8,9,10,11,12,13,14,15,16,17,18,19,20,21,22,23],\"xaxis\":\"x\",\"y\":[63.606751091195065,85.24128967361956,61.018212325769596,34.57284219353438,9.586886498410305,-13.48694924962857,-34.097967880425934,-50.19050234341395,-55.92862834064684,-47.26447257545731,-30.5831187602112,-12.561657966484852,0.9392444796380105,3.211776334618753,-7.275418550354622,-24.82229875001061,-43.536502378922656,-58.23043319649172,-60.34440482366079,-47.90869924604597,-29.13700284021133,-7.861481889340517,15.05996825218513,39.532205475174614],\"yaxis\":\"y\",\"type\":\"scatter\"},{\"hovertemplate\":\"PRN=4.0<br>godzina od wybranej daty=%{x}<br>elewacja [\\u00b0]=%{y}<extra></extra>\",\"legendgroup\":\"4.0\",\"line\":{\"color\":\"#ab63fa\",\"dash\":\"solid\"},\"marker\":{\"symbol\":\"circle\"},\"mode\":\"lines\",\"name\":\"4.0\",\"orientation\":\"v\",\"showlegend\":true,\"x\":[0,1,2,3,4,5,6,7,8,9,10,11,12,13,14,15,16,17,18,19,20,21,22,23],\"xaxis\":\"x\",\"y\":[26.273118243603655,54.71513353412651,83.79385165583153,66.31813831939786,40.115372580780964,16.527683713185308,-5.088137401963587,-25.470739890696702,-44.92124318615181,-62.48449262709457,-71.27860216812917,-60.732156783638764,-41.884806091308114,-21.727862106393374,-3.841658311539346,6.174354343705236,3.1076128317132174,-10.517331140965974,-27.474836819018684,-41.429196104655716,-45.95913727324504,-37.66547406588525,-20.29036536636686,2.1802606028686324],\"yaxis\":\"y\",\"type\":\"scatter\"},{\"hovertemplate\":\"PRN=5.0<br>godzina od wybranej daty=%{x}<br>elewacja [\\u00b0]=%{y}<extra></extra>\",\"legendgroup\":\"5.0\",\"line\":{\"color\":\"#FFA15A\",\"dash\":\"solid\"},\"marker\":{\"symbol\":\"circle\"},\"mode\":\"lines\",\"name\":\"5.0\",\"orientation\":\"v\",\"showlegend\":true,\"x\":[0,1,2,3,4,5,6,7,8,9,10,11,12,13,14,15,16,17,18,19,20,21,22,23],\"xaxis\":\"x\",\"y\":[-74.3500196591418,-57.49440821608068,-39.644527367690074,-20.02839593984958,1.8993724474235323,25.674409362970646,46.24121923582673,47.34672306967113,27.65263092445057,4.4137910336564365,-15.123631712303478,-27.39481795254012,-29.01634559830283,-19.569189906333797,-2.602525061192804,16.924619137519894,30.626381942670715,27.169193994555904,9.133462280017923,-12.95304600001538,-34.4590279438644,-54.37184048459081,-72.73843680174585,-88.80859944310643],\"yaxis\":\"y\",\"type\":\"scatter\"},{\"hovertemplate\":\"PRN=6.0<br>godzina od wybranej daty=%{x}<br>elewacja [\\u00b0]=%{y}<extra></extra>\",\"legendgroup\":\"6.0\",\"line\":{\"color\":\"#19d3f3\",\"dash\":\"solid\"},\"marker\":{\"symbol\":\"circle\"},\"mode\":\"lines\",\"name\":\"6.0\",\"orientation\":\"v\",\"showlegend\":true,\"x\":[0,1,2,3,4,5,6,7,8,9,10,11,12,13,14,15,16,17,18,19,20,21,22,23],\"xaxis\":\"x\",\"y\":[-2.4332013879761747,21.076811428122582,43.43304544712133,50.44101076225632,33.2048440927144,9.12148648001806,-12.24510964731488,-26.910679897768215,-30.997713102368152,-23.0671382927586,-6.472516014820692,13.830662645919764,30.43714375949085,31.238741991321923,15.036513294172492,-7.049764875049801,-29.07218340063591,-49.5799129625425,-68.47509961221118,-85.57774641823171,-76.42912849480135,-59.55796151748313,-41.80354649465744,-22.44763102662907],\"yaxis\":\"y\",\"type\":\"scatter\"},{\"hovertemplate\":\"PRN=7.0<br>godzina od wybranej daty=%{x}<br>elewacja [\\u00b0]=%{y}<extra></extra>\",\"legendgroup\":\"7.0\",\"line\":{\"color\":\"#FF6692\",\"dash\":\"solid\"},\"marker\":{\"symbol\":\"circle\"},\"mode\":\"lines\",\"name\":\"7.0\",\"orientation\":\"v\",\"showlegend\":true,\"x\":[0,1,2,3,4,5,6,7,8,9,10,11,12,13,14,15,16,17,18,19,20,21,22,23],\"xaxis\":\"x\",\"y\":[-37.1860706028245,-22.383346682380214,-1.0748845409568835,24.240204984385638,52.13026131125013,78.23399269925571,65.68610740760207,39.98576658391624,16.24532111829819,-5.5437346460592645,-26.05749725972162,-45.75977547231165,-64.29989914771365,-76.12720952772533,-65.85243268906443,-46.762510557461084,-26.480107637956262,-7.454630575900623,6.166042855009145,8.395830627807689,-1.8336496512207265,-18.169975519547933,-33.472082281748705,-41.20025617124176],\"yaxis\":\"y\",\"type\":\"scatter\"},{\"hovertemplate\":\"PRN=8.0<br>godzina od wybranej daty=%{x}<br>elewacja [\\u00b0]=%{y}<extra></extra>\",\"legendgroup\":\"8.0\",\"line\":{\"color\":\"#B6E880\",\"dash\":\"solid\"},\"marker\":{\"symbol\":\"circle\"},\"mode\":\"lines\",\"name\":\"8.0\",\"orientation\":\"v\",\"showlegend\":true,\"x\":[0,1,2,3,4,5,6,7,8,9,10,11,12,13,14,15,16,17,18,19,20,21,22,23],\"xaxis\":\"x\",\"y\":[-1.8866580794651737,-21.571101646838386,-33.48363704488533,-34.07010117466139,-23.61500531188545,-6.970301291479871,9.650911573653,17.63781191014626,10.487565937271578,-7.245588116248223,-28.304007736209787,-49.366312515966456,-69.32152813962628,-84.18694136703206,-70.89069033606464,-53.12513484698965,-34.936710409884874,-15.74868069093527,5.345879619546293,29.12649968421164,54.74411960431765,68.68437685257105,48.289950873051346,21.021049461428102],\"yaxis\":\"y\",\"type\":\"scatter\"},{\"hovertemplate\":\"PRN=9.0<br>godzina od wybranej daty=%{x}<br>elewacja [\\u00b0]=%{y}<extra></extra>\",\"legendgroup\":\"9.0\",\"line\":{\"color\":\"#FF97FF\",\"dash\":\"solid\"},\"marker\":{\"symbol\":\"circle\"},\"mode\":\"lines\",\"name\":\"9.0\",\"orientation\":\"v\",\"showlegend\":true,\"x\":[0,1,2,3,4,5,6,7,8,9,10,11,12,13,14,15,16,17,18,19,20,21,22,23],\"xaxis\":\"x\",\"y\":[-3.893634119632325,20.254871512788554,46.371556030369796,73.6933562629038,78.0841085910795,51.703897562177104,26.748339641992892,3.4118676122402283,-18.420137706331804,-38.51855466819062,-55.194450370811296,-62.19248566151698,-53.44879206108314,-36.31167106840845,-17.67737679766293,-2.462931116043011,3.132161632193791,-4.072877921152658,-19.65761416295217,-37.12978150869914,-50.746782701100024,-53.30827628015936,-42.49927357692676,-24.196040717286134],\"yaxis\":\"y\",\"type\":\"scatter\"},{\"hovertemplate\":\"PRN=10.0<br>godzina od wybranej daty=%{x}<br>elewacja [\\u00b0]=%{y}<extra></extra>\",\"legendgroup\":\"10.0\",\"line\":{\"color\":\"#FECB52\",\"dash\":\"solid\"},\"marker\":{\"symbol\":\"circle\"},\"mode\":\"lines\",\"name\":\"10.0\",\"orientation\":\"v\",\"showlegend\":true,\"x\":[0,1,2,3,4,5,6,7,8,9,10,11,12,13,14,15,16,17,18,19,20,21,22,23],\"xaxis\":\"x\",\"y\":[-13.5581603776082,-32.90280555053702,-51.42609363594794,-69.56825629714544,-83.09998052602005,-68.9590335303994,-48.785142672814814,-27.58871450437259,-6.708117375969928,10.295214221914197,16.281757836734467,7.5655818853348515,-9.208120670762979,-25.800711877011057,-35.93558864301959,-34.54179474844568,-21.655549130001077,-1.159967575612804,24.184782847738987,52.14266953469113,71.8880462121112,54.9601565353884,29.35113241780965,5.972969406004784],\"yaxis\":\"y\",\"type\":\"scatter\"},{\"hovertemplate\":\"PRN=11.0<br>godzina od wybranej daty=%{x}<br>elewacja [\\u00b0]=%{y}<extra></extra>\",\"legendgroup\":\"11.0\",\"line\":{\"color\":\"#636efa\",\"dash\":\"solid\"},\"marker\":{\"symbol\":\"circle\"},\"mode\":\"lines\",\"name\":\"11.0\",\"orientation\":\"v\",\"showlegend\":true,\"x\":[0,1,2,3,4,5,6,7,8,9,10,11,12,13,14,15,16,17,18,19,20,21,22,23],\"xaxis\":\"x\",\"y\":[-36.754152985589045,-15.78175227868521,6.643207922414479,27.73713719171506,37.97506792267447,28.199546203727,8.069758862126523,-11.564138687172697,-25.331900088873795,-29.086747513128863,-21.258012276953096,-4.590495016737519,16.87779860183872,37.19419281002537,42.840192570934505,27.531629068997475,4.855110236552503,-17.441794083222483,-37.78662649488144,-56.29759553187962,-73.48957622277354,-87.60489784619534,-72.50229026343847,-54.72295684996809],\"yaxis\":\"y\",\"type\":\"scatter\"},{\"hovertemplate\":\"PRN=12.0<br>godzina od wybranej daty=%{x}<br>elewacja [\\u00b0]=%{y}<extra></extra>\",\"legendgroup\":\"12.0\",\"line\":{\"color\":\"#EF553B\",\"dash\":\"solid\"},\"marker\":{\"symbol\":\"circle\"},\"mode\":\"lines\",\"name\":\"12.0\",\"orientation\":\"v\",\"showlegend\":true,\"x\":[0,1,2,3,4,5,6,7,8,9,10,11,12,13,14,15,16,17,18,19,20,21,22,23],\"xaxis\":\"x\",\"y\":[1.178949223264506,2.495569619559311,-8.684209393740224,-26.138363456029563,-43.82099027982443,-55.9914644985691,-55.05522467443492,-41.59130788189609,-22.351914003977043,-0.301250925445322,23.85564896719195,49.876556588726594,76.80871743116201,73.84302594967222,47.47547652717926,22.43538462452798,-0.8835054975234732,-22.475381916442505,-41.817112484980285,-56.268830223368965,-58.65329383290047,-46.854335147165415,-28.89656433613637,-10.764423446501869],\"yaxis\":\"y\",\"type\":\"scatter\"},{\"hovertemplate\":\"PRN=13.0<br>godzina od wybranej daty=%{x}<br>elewacja [\\u00b0]=%{y}<extra></extra>\",\"legendgroup\":\"13.0\",\"line\":{\"color\":\"#00cc96\",\"dash\":\"solid\"},\"marker\":{\"symbol\":\"circle\"},\"mode\":\"lines\",\"name\":\"13.0\",\"orientation\":\"v\",\"showlegend\":true,\"x\":[0,1,2,3,4,5,6,7,8,9,10,11,12,13,14,15,16,17,18,19,20,21,22,23],\"xaxis\":\"x\",\"y\":[-75.31266296317924,-70.62423047484943,-53.698720937043575,-35.14648155861266,-15.870767142212507,4.656379372392109,27.39688169313284,53.16995534724919,79.31935611417974,63.23887726280829,33.79269748524627,6.965420892503134,-15.87414878604989,-33.210565721817666,-41.51810413927475,-37.53947560028764,-24.052929453458027,-7.030541179979153,6.914052449887362,9.734509215234539,-1.2626516963504333,-20.085059797683464,-40.97654378654348,-61.0711188302179],\"yaxis\":\"y\",\"type\":\"scatter\"},{\"hovertemplate\":\"PRN=14.0<br>godzina od wybranej daty=%{x}<br>elewacja [\\u00b0]=%{y}<extra></extra>\",\"legendgroup\":\"14.0\",\"line\":{\"color\":\"#ab63fa\",\"dash\":\"solid\"},\"marker\":{\"symbol\":\"circle\"},\"mode\":\"lines\",\"name\":\"14.0\",\"orientation\":\"v\",\"showlegend\":true,\"x\":[0,1,2,3,4,5,6,7,8,9,10,11,12,13,14,15,16,17,18,19,20,21,22,23],\"xaxis\":\"x\",\"y\":[-7.756916215147407,-23.905583518810584,-33.87774922472959,-32.959446021463144,-20.876675961628454,-1.0315949642286992,23.868196105164245,51.180100355578986,68.27146406175525,51.22434366882283,25.997245085132942,2.9248475286476903,-17.586840454516693,-36.39674024704452,-54.39439996847764,-72.02576260093605,-83.20649113506707,-67.34156018833993,-47.15807911202964,-25.939963462397408,-5.06147502884147,11.648076341638957,16.87202006164833,7.624493814721366],\"yaxis\":\"y\",\"type\":\"scatter\"},{\"hovertemplate\":\"PRN=15.0<br>godzina od wybranej daty=%{x}<br>elewacja [\\u00b0]=%{y}<extra></extra>\",\"legendgroup\":\"15.0\",\"line\":{\"color\":\"#FFA15A\",\"dash\":\"solid\"},\"marker\":{\"symbol\":\"circle\"},\"mode\":\"lines\",\"name\":\"15.0\",\"orientation\":\"v\",\"showlegend\":true,\"x\":[0,1,2,3,4,5,6,7,8,9,10,11,12,13,14,15,16,17,18,19,20,21,22,23],\"xaxis\":\"x\",\"y\":[-67.24504269056469,-83.95130664434389,-75.20998687925382,-58.380208616851434,-40.97164393573631,-22.349861882895166,-1.6070882445259065,21.923740879712433,47.05551808982462,62.06857091584341,46.612562662355145,21.17226280190349,-2.019696937076906,-20.061720590425853,-30.325773057895915,-30.03071647930185,-19.75029880468598,-3.659718625424743,12.367387727322209,19.426952041573855,11.077933545063914,-7.340752047614909,-28.443008637503404,-49.12085315645998],\"yaxis\":\"y\",\"type\":\"scatter\"},{\"hovertemplate\":\"PRN=16.0<br>godzina od wybranej daty=%{x}<br>elewacja [\\u00b0]=%{y}<extra></extra>\",\"legendgroup\":\"16.0\",\"line\":{\"color\":\"#19d3f3\",\"dash\":\"solid\"},\"marker\":{\"symbol\":\"circle\"},\"mode\":\"lines\",\"name\":\"16.0\",\"orientation\":\"v\",\"showlegend\":true,\"x\":[0,1,2,3,4,5,6,7,8,9,10,11,12,13,14,15,16,17,18,19,20,21,22,23],\"xaxis\":\"x\",\"y\":[-31.279035759676894,-21.367199065461943,-4.428171531631419,13.844128706894542,24.283290174384003,17.89503758226866,-0.5869619522965143,-22.257287109777348,-43.42830540930969,-63.259588641789215,-81.72907932835152,-80.52630394855575,-63.49098247642248,-46.14847532022857,-27.651163401575907,-7.073616050896641,16.272938090878327,41.60254119173331,59.94101285043121,49.078669035289224,23.915666301133886,-0.08812865123137456,-19.212955743465656,-30.586415856488635],\"yaxis\":\"y\",\"type\":\"scatter\"},{\"hovertemplate\":\"PRN=17.0<br>godzina od wybranej daty=%{x}<br>elewacja [\\u00b0]=%{y}<extra></extra>\",\"legendgroup\":\"17.0\",\"line\":{\"color\":\"#FF6692\",\"dash\":\"solid\"},\"marker\":{\"symbol\":\"circle\"},\"mode\":\"lines\",\"name\":\"17.0\",\"orientation\":\"v\",\"showlegend\":true,\"x\":[0,1,2,3,4,5,6,7,8,9,10,11,12,13,14,15,16,17,18,19,20,21,22,23],\"xaxis\":\"x\",\"y\":[35.94439117570577,30.884760383579263,12.273177514017835,-8.23864465142317,-24.147524584997015,-30.531110943070694,-24.50623924827773,-8.36905263474748,13.529837405000086,35.93993884301899,46.788628678731506,35.07655170357068,13.11898126092373,-9.30854921569248,-30.028904962959412,-49.03590200632665,-66.81542200784239,-83.6322098583067,-77.81246061886475,-59.776506527909696,-40.36791040015324,-19.45915063841024,2.6593179456808964,23.79786844961747],\"yaxis\":\"y\",\"type\":\"scatter\"},{\"hovertemplate\":\"PRN=18.0<br>godzina od wybranej daty=%{x}<br>elewacja [\\u00b0]=%{y}<extra></extra>\",\"legendgroup\":\"18.0\",\"line\":{\"color\":\"#B6E880\",\"dash\":\"solid\"},\"marker\":{\"symbol\":\"circle\"},\"mode\":\"lines\",\"name\":\"18.0\",\"orientation\":\"v\",\"showlegend\":true,\"x\":[0,1,2,3,4,5,6,7,8,9,10,11,12,13,14,15,16,17,18,19,20,21,22,23],\"xaxis\":\"x\",\"y\":[-63.09199513543344,-76.39657773117432,-68.04065665437476,-48.84721357199576,-27.922133034439373,-7.828046262465254,7.032530623453959,9.905511858568483,-0.5119024087889543,-17.219822023401083,-32.95833673671334,-41.552002097568085,-38.02482863528824,-23.55665294714067,-2.3664543951568953,23.24682399949635,52.062956903733095,79.50933156430484,63.91471786372013,37.41587713943368,13.773067285105721,-7.425122639011252,-27.161306807894345,-46.14786608906596],\"yaxis\":\"y\",\"type\":\"scatter\"},{\"hovertemplate\":\"PRN=19.0<br>godzina od wybranej daty=%{x}<br>elewacja [\\u00b0]=%{y}<extra></extra>\",\"legendgroup\":\"19.0\",\"line\":{\"color\":\"#FF97FF\",\"dash\":\"solid\"},\"marker\":{\"symbol\":\"circle\"},\"mode\":\"lines\",\"name\":\"19.0\",\"orientation\":\"v\",\"showlegend\":true,\"x\":[0,1,2,3,4,5,6,7,8,9,10,11,12,13,14,15,16,17,18,19,20,21,22,23],\"xaxis\":\"x\",\"y\":[23.74549052627828,31.179878286053007,19.93933471280052,0.38848388461668465,-17.762322158482,-29.1700914226534,-29.77688095299095,-19.111519718582038,-0.3713293846183396,23.109852435178567,46.01218441207485,51.597780050149865,32.66018280497927,8.14657521912946,-14.57214479340375,-34.68597453724137,-52.75014874147341,-69.59897434413247,-85.89744866246531,-76.58037564348727,-58.418200273421405,-38.64284997319042,-17.15171265446371,5.3026107833092215],\"yaxis\":\"y\",\"type\":\"scatter\"},{\"hovertemplate\":\"PRN=20.0<br>godzina od wybranej daty=%{x}<br>elewacja [\\u00b0]=%{y}<extra></extra>\",\"legendgroup\":\"20.0\",\"line\":{\"color\":\"#FECB52\",\"dash\":\"solid\"},\"marker\":{\"symbol\":\"circle\"},\"mode\":\"lines\",\"name\":\"20.0\",\"orientation\":\"v\",\"showlegend\":true,\"x\":[0,1,2,3,4,5,6,7,8,9,10,11,12,13,14,15,16,17,18,19,20,21,22,23],\"xaxis\":\"x\",\"y\":[-54.379970494471586,-36.763096418394014,-17.78998899657016,3.278594758004497,26.477607976833756,48.22160791238384,52.57030162227533,33.11519977095573,8.75745011621651,-12.166970580898175,-26.18219335989341,-29.948767052749556,-22.54511496699409,-7.3299501579633155,10.714862638923277,24.405993161264483,23.92112919421475,8.69972091657849,-12.476908909116906,-34.20949509340543,-54.856670291520864,-74.13027849365386,-87.35085827625407,-70.3353756881046],\"yaxis\":\"y\",\"type\":\"scatter\"},{\"hovertemplate\":\"PRN=21.0<br>godzina od wybranej daty=%{x}<br>elewacja [\\u00b0]=%{y}<extra></extra>\",\"legendgroup\":\"21.0\",\"line\":{\"color\":\"#636efa\",\"dash\":\"solid\"},\"marker\":{\"symbol\":\"circle\"},\"mode\":\"lines\",\"name\":\"21.0\",\"orientation\":\"v\",\"showlegend\":true,\"x\":[0,1,2,3,4,5,6,7,8,9,10,11,12,13,14,15,16,17,18,19,20,21,22,23],\"xaxis\":\"x\",\"y\":[47.80537268731305,20.73655884803514,-4.27361942399782,-25.978089221450034,-41.67936273277697,-45.99548604345653,-36.934270617710375,-20.667747638556065,-4.146272011217133,5.8136984593402845,3.616197666565007,-9.514103272659035,-28.020005429973757,-47.78829899630026,-65.49277000430222,-70.99041215021745,-57.27040625578589,-37.68144195806055,-16.612183518720183,5.301332353164456,28.17532222420763,52.399394180419634,78.13282365771238,73.66784709305287],\"yaxis\":\"y\",\"type\":\"scatter\"},{\"hovertemplate\":\"PRN=22.0<br>godzina od wybranej daty=%{x}<br>elewacja [\\u00b0]=%{y}<extra></extra>\",\"legendgroup\":\"22.0\",\"line\":{\"color\":\"#EF553B\",\"dash\":\"solid\"},\"marker\":{\"symbol\":\"circle\"},\"mode\":\"lines\",\"name\":\"22.0\",\"orientation\":\"v\",\"showlegend\":true,\"x\":[0,1,2,3,4,5,6,7,8,9,10,11,12,13,14,15,16,17,18,19,20,21,22,23],\"xaxis\":\"x\",\"y\":[41.94823126965945,18.79579108773669,-3.8697592290715805,-24.522034035114075,-43.496823999250054,-61.49260992665868,-79.22096028310678,-82.70413986856761,-63.86027782222734,-43.96180300406745,-22.980276160836556,-1.546397257913744,17.57048652931849,26.977524412107996,19.948478850927167,2.538841179623975,-15.671533212900862,-28.371834755673678,-30.552701835693785,-20.77719820535909,-2.270630540897158,21.243730683943884,45.111119639038264,55.48466498965586],\"yaxis\":\"y\",\"type\":\"scatter\"},{\"hovertemplate\":\"PRN=23.0<br>godzina od wybranej daty=%{x}<br>elewacja [\\u00b0]=%{y}<extra></extra>\",\"legendgroup\":\"23.0\",\"line\":{\"color\":\"#00cc96\",\"dash\":\"solid\"},\"marker\":{\"symbol\":\"circle\"},\"mode\":\"lines\",\"name\":\"23.0\",\"orientation\":\"v\",\"showlegend\":true,\"x\":[0,1,2,3,4,5,6,7,8,9,10,11,12,13,14,15,16,17,18,19,20,21,22,23],\"xaxis\":\"x\",\"y\":[-39.65778513195505,-57.326156694126,-74.73564076694248,-86.37686878919838,-68.1223662713208,-48.091828272212226,-26.848146713185475,-5.128043468250851,14.087631269941607,23.215519870361113,16.05871856870092,-0.9589512995425136,-18.506048557236287,-30.461180381840396,-31.99670066926261,-21.89835883725279,-3.2520433179079036,20.784387092762298,46.78434388839962,61.56669504325157,46.13972553163239,21.44285651713121,-1.6907908376280696,-22.23936592084524],\"yaxis\":\"y\",\"type\":\"scatter\"},{\"hovertemplate\":\"PRN=24.0<br>godzina od wybranej daty=%{x}<br>elewacja [\\u00b0]=%{y}<extra></extra>\",\"legendgroup\":\"24.0\",\"line\":{\"color\":\"#ab63fa\",\"dash\":\"solid\"},\"marker\":{\"symbol\":\"circle\"},\"mode\":\"lines\",\"name\":\"24.0\",\"orientation\":\"v\",\"showlegend\":true,\"x\":[0,1,2,3,4,5,6,7,8,9,10,11,12,13,14,15,16,17,18,19,20,21,22,23],\"xaxis\":\"x\",\"y\":[-20.805149102298206,-40.686817872755654,-59.70479657811707,-73.00039738122345,-67.8354168648359,-51.59836721262881,-33.132708057875114,-13.534825796463538,7.6094779932077135,31.11977836049572,57.487307018859184,81.20310989938925,59.55929321237836,31.147869285222697,5.507666172072522,-16.36025269036662,-33.05259002667055,-41.25455466721568,-37.811957802298714,-25.128541693356173,-8.993350149334947,4.013599710077377,6.352795439157374,-4.204820328731066],\"yaxis\":\"y\",\"type\":\"scatter\"},{\"hovertemplate\":\"PRN=25.0<br>godzina od wybranej daty=%{x}<br>elewacja [\\u00b0]=%{y}<extra></extra>\",\"legendgroup\":\"25.0\",\"line\":{\"color\":\"#FFA15A\",\"dash\":\"solid\"},\"marker\":{\"symbol\":\"circle\"},\"mode\":\"lines\",\"name\":\"25.0\",\"orientation\":\"v\",\"showlegend\":true,\"x\":[0,1,2,3,4,5,6,7,8,9,10,11,12,13,14,15,16,17,18,19,20,21,22,23],\"xaxis\":\"x\",\"y\":[-5.438780545391316,3.992133564764947,0.5586768638656192,-13.828925417761925,-32.76210201702402,-51.56365014813552,-65.2283451371292,-63.8185433038761,-49.20695858221633,-30.41725483939937,-9.957134977940436,11.974017444458584,35.808862020837,61.99594019725409,89.41603154627155,60.66596792437944,32.77930188389435,7.203581481116307,-15.567964603796737,-34.68373270421843,-47.295471799958,-48.23088243800449,-37.26812453660243,-20.633156570533604],\"yaxis\":\"y\",\"type\":\"scatter\"},{\"hovertemplate\":\"PRN=26.0<br>godzina od wybranej daty=%{x}<br>elewacja [\\u00b0]=%{y}<extra></extra>\",\"legendgroup\":\"26.0\",\"line\":{\"color\":\"#19d3f3\",\"dash\":\"solid\"},\"marker\":{\"symbol\":\"circle\"},\"mode\":\"lines\",\"name\":\"26.0\",\"orientation\":\"v\",\"showlegend\":true,\"x\":[0,1,2,3,4,5,6,7,8,9,10,11,12,13,14,15,16,17,18,19,20,21,22,23],\"xaxis\":\"x\",\"y\":[-22.635478008800778,-6.761194998361074,9.4588623464683,17.691511509263567,11.241676998888698,-5.950406401605314,-26.68631960883146,-47.5087693114687,-67.27459181424844,-83.55988265075008,-73.41403997713624,-56.018711158127665,-38.09881235368911,-19.16387745107282,1.6333422250286789,24.983422416544272,49.96331417155339,65.24083867187309,48.83528250193538,22.641871148806896,-1.3449897936893833,-20.326188015363638,-31.5545159819995,-31.864556297494858],\"yaxis\":\"y\",\"type\":\"scatter\"},{\"hovertemplate\":\"PRN=27.0<br>godzina od wybranej daty=%{x}<br>elewacja [\\u00b0]=%{y}<extra></extra>\",\"legendgroup\":\"27.0\",\"line\":{\"color\":\"#FF6692\",\"dash\":\"solid\"},\"marker\":{\"symbol\":\"circle\"},\"mode\":\"lines\",\"name\":\"27.0\",\"orientation\":\"v\",\"showlegend\":true,\"x\":[0,1,2,3,4,5,6,7,8,9,10,11,12,13,14,15,16,17,18,19,20,21,22,23],\"xaxis\":\"x\",\"y\":[-22.468107384007897,-36.947201255062524,-40.86386736244779,-32.7164309885012,-17.071895690032502,-0.12117826194960674,10.539050216113441,7.493676368861065,-7.68099724240942,-27.866346770362405,-48.70437792453885,-67.93358362960744,-77.6045222106164,-65.04060052796919,-47.11133247727535,-28.28523739545144,-8.493235363442084,13.062719896114379,37.355347185364046,64.5268441035148,78.08600086037515,50.35395249934321,21.955017927208022,-3.0909016587425966],\"yaxis\":\"y\",\"type\":\"scatter\"},{\"hovertemplate\":\"PRN=29.0<br>godzina od wybranej daty=%{x}<br>elewacja [\\u00b0]=%{y}<extra></extra>\",\"legendgroup\":\"29.0\",\"line\":{\"color\":\"#B6E880\",\"dash\":\"solid\"},\"marker\":{\"symbol\":\"circle\"},\"mode\":\"lines\",\"name\":\"29.0\",\"orientation\":\"v\",\"showlegend\":true,\"x\":[0,1,2,3,4,5,6,7,8,9,10,11,12,13,14,15,16,17,18,19,20,21,22,23],\"xaxis\":\"x\",\"y\":[-54.81486517419249,-35.84377981949886,-16.09794167178493,-0.07206205920220567,5.760358421129299,-1.9288007092946549,-18.086830292585624,-35.695809228597824,-48.698089041278955,-50.05653673309482,-38.32189926116333,-19.15798171319577,3.8788097346920822,29.638695978663076,57.42381861762349,85.37960212515179,65.9702693971495,40.30802254526117,16.64488870539409,-5.461855243009679,-26.407291850626617,-46.039834097885226,-62.32029325154772,-66.50879065171837],\"yaxis\":\"y\",\"type\":\"scatter\"},{\"hovertemplate\":\"PRN=30.0<br>godzina od wybranej daty=%{x}<br>elewacja [\\u00b0]=%{y}<extra></extra>\",\"legendgroup\":\"30.0\",\"line\":{\"color\":\"#FF97FF\",\"dash\":\"solid\"},\"marker\":{\"symbol\":\"circle\"},\"mode\":\"lines\",\"name\":\"30.0\",\"orientation\":\"v\",\"showlegend\":true,\"x\":[0,1,2,3,4,5,6,7,8,9,10,11,12,13,14,15,16,17,18,19,20,21,22,23],\"xaxis\":\"x\",\"y\":[-45.29675046559742,-37.45383538893275,-20.57539820806135,1.3710304624933753,26.70473563112824,54.54026939557525,82.5929499456378,67.00214820370333,40.88935846289735,17.074873806832578,-4.84361701689708,-25.45133552828168,-44.926796804989245,-62.11378996851984,-70.00429939680201,-59.597463449156116,-41.32468879307764,-21.856281722234893,-4.790570790988775,4.55124132821638,1.4529897668040992,-11.696763044339594,-28.05843459717673,-41.32510566583415],\"yaxis\":\"y\",\"type\":\"scatter\"},{\"hovertemplate\":\"PRN=31.0<br>godzina od wybranej daty=%{x}<br>elewacja [\\u00b0]=%{y}<extra></extra>\",\"legendgroup\":\"31.0\",\"line\":{\"color\":\"#FECB52\",\"dash\":\"solid\"},\"marker\":{\"symbol\":\"circle\"},\"mode\":\"lines\",\"name\":\"31.0\",\"orientation\":\"v\",\"showlegend\":true,\"x\":[0,1,2,3,4,5,6,7,8,9,10,11,12,13,14,15,16,17,18,19,20,21,22,23],\"xaxis\":\"x\",\"y\":[27.416827490402238,32.331322916627514,19.005102325789863,-2.169861744327968,-23.858472040172558,-44.10488572131277,-62.75322479735385,-80.11066887938185,-82.86065088533344,-66.15878215991916,-48.533291301484695,-29.320263227677003,-7.9699938834715365,15.432784084149844,38.086639196404164,48.234482779670365,35.0538052342869,12.675676655968065,-8.20586148555416,-23.3934661670262,-29.260325955710773,-23.68632652419458,-8.858789778140538,10.733738039360256],\"yaxis\":\"y\",\"type\":\"scatter\"},{\"hovertemplate\":\"PRN=32.0<br>godzina od wybranej daty=%{x}<br>elewacja [\\u00b0]=%{y}<extra></extra>\",\"legendgroup\":\"32.0\",\"line\":{\"color\":\"#636efa\",\"dash\":\"solid\"},\"marker\":{\"symbol\":\"circle\"},\"mode\":\"lines\",\"name\":\"32.0\",\"orientation\":\"v\",\"showlegend\":true,\"x\":[0,1,2,3,4,5,6,7,8,9,10,11,12,13,14,15,16,17,18,19,20,21,22,23],\"xaxis\":\"x\",\"y\":[24.971996621892522,1.5566586441391437,-19.98818187672452,-39.46487194313206,-57.46220496591114,-74.73031935288071,-87.89316293320329,-70.04317216774731,-51.03475917727559,-30.680233232823223,-9.141676918995474,12.05868566482333,27.352865507564417,27.05761482436127,11.92386123539195,-7.227742121555676,-22.944385162755488,-30.14368331934952,-25.663913520122062,-11.005801897286114,10.128055367175213,33.939522763659355,51.402925091987434,45.276348365713964],\"yaxis\":\"y\",\"type\":\"scatter\"}],                        {\"template\":{\"data\":{\"barpolar\":[{\"marker\":{\"line\":{\"color\":\"rgb(17,17,17)\",\"width\":0.5},\"pattern\":{\"fillmode\":\"overlay\",\"size\":10,\"solidity\":0.2}},\"type\":\"barpolar\"}],\"bar\":[{\"error_x\":{\"color\":\"#f2f5fa\"},\"error_y\":{\"color\":\"#f2f5fa\"},\"marker\":{\"line\":{\"color\":\"rgb(17,17,17)\",\"width\":0.5},\"pattern\":{\"fillmode\":\"overlay\",\"size\":10,\"solidity\":0.2}},\"type\":\"bar\"}],\"carpet\":[{\"aaxis\":{\"endlinecolor\":\"#A2B1C6\",\"gridcolor\":\"#506784\",\"linecolor\":\"#506784\",\"minorgridcolor\":\"#506784\",\"startlinecolor\":\"#A2B1C6\"},\"baxis\":{\"endlinecolor\":\"#A2B1C6\",\"gridcolor\":\"#506784\",\"linecolor\":\"#506784\",\"minorgridcolor\":\"#506784\",\"startlinecolor\":\"#A2B1C6\"},\"type\":\"carpet\"}],\"choropleth\":[{\"colorbar\":{\"outlinewidth\":0,\"ticks\":\"\"},\"type\":\"choropleth\"}],\"contourcarpet\":[{\"colorbar\":{\"outlinewidth\":0,\"ticks\":\"\"},\"type\":\"contourcarpet\"}],\"contour\":[{\"colorbar\":{\"outlinewidth\":0,\"ticks\":\"\"},\"colorscale\":[[0.0,\"#0d0887\"],[0.1111111111111111,\"#46039f\"],[0.2222222222222222,\"#7201a8\"],[0.3333333333333333,\"#9c179e\"],[0.4444444444444444,\"#bd3786\"],[0.5555555555555556,\"#d8576b\"],[0.6666666666666666,\"#ed7953\"],[0.7777777777777778,\"#fb9f3a\"],[0.8888888888888888,\"#fdca26\"],[1.0,\"#f0f921\"]],\"type\":\"contour\"}],\"heatmapgl\":[{\"colorbar\":{\"outlinewidth\":0,\"ticks\":\"\"},\"colorscale\":[[0.0,\"#0d0887\"],[0.1111111111111111,\"#46039f\"],[0.2222222222222222,\"#7201a8\"],[0.3333333333333333,\"#9c179e\"],[0.4444444444444444,\"#bd3786\"],[0.5555555555555556,\"#d8576b\"],[0.6666666666666666,\"#ed7953\"],[0.7777777777777778,\"#fb9f3a\"],[0.8888888888888888,\"#fdca26\"],[1.0,\"#f0f921\"]],\"type\":\"heatmapgl\"}],\"heatmap\":[{\"colorbar\":{\"outlinewidth\":0,\"ticks\":\"\"},\"colorscale\":[[0.0,\"#0d0887\"],[0.1111111111111111,\"#46039f\"],[0.2222222222222222,\"#7201a8\"],[0.3333333333333333,\"#9c179e\"],[0.4444444444444444,\"#bd3786\"],[0.5555555555555556,\"#d8576b\"],[0.6666666666666666,\"#ed7953\"],[0.7777777777777778,\"#fb9f3a\"],[0.8888888888888888,\"#fdca26\"],[1.0,\"#f0f921\"]],\"type\":\"heatmap\"}],\"histogram2dcontour\":[{\"colorbar\":{\"outlinewidth\":0,\"ticks\":\"\"},\"colorscale\":[[0.0,\"#0d0887\"],[0.1111111111111111,\"#46039f\"],[0.2222222222222222,\"#7201a8\"],[0.3333333333333333,\"#9c179e\"],[0.4444444444444444,\"#bd3786\"],[0.5555555555555556,\"#d8576b\"],[0.6666666666666666,\"#ed7953\"],[0.7777777777777778,\"#fb9f3a\"],[0.8888888888888888,\"#fdca26\"],[1.0,\"#f0f921\"]],\"type\":\"histogram2dcontour\"}],\"histogram2d\":[{\"colorbar\":{\"outlinewidth\":0,\"ticks\":\"\"},\"colorscale\":[[0.0,\"#0d0887\"],[0.1111111111111111,\"#46039f\"],[0.2222222222222222,\"#7201a8\"],[0.3333333333333333,\"#9c179e\"],[0.4444444444444444,\"#bd3786\"],[0.5555555555555556,\"#d8576b\"],[0.6666666666666666,\"#ed7953\"],[0.7777777777777778,\"#fb9f3a\"],[0.8888888888888888,\"#fdca26\"],[1.0,\"#f0f921\"]],\"type\":\"histogram2d\"}],\"histogram\":[{\"marker\":{\"pattern\":{\"fillmode\":\"overlay\",\"size\":10,\"solidity\":0.2}},\"type\":\"histogram\"}],\"mesh3d\":[{\"colorbar\":{\"outlinewidth\":0,\"ticks\":\"\"},\"type\":\"mesh3d\"}],\"parcoords\":[{\"line\":{\"colorbar\":{\"outlinewidth\":0,\"ticks\":\"\"}},\"type\":\"parcoords\"}],\"pie\":[{\"automargin\":true,\"type\":\"pie\"}],\"scatter3d\":[{\"line\":{\"colorbar\":{\"outlinewidth\":0,\"ticks\":\"\"}},\"marker\":{\"colorbar\":{\"outlinewidth\":0,\"ticks\":\"\"}},\"type\":\"scatter3d\"}],\"scattercarpet\":[{\"marker\":{\"colorbar\":{\"outlinewidth\":0,\"ticks\":\"\"}},\"type\":\"scattercarpet\"}],\"scattergeo\":[{\"marker\":{\"colorbar\":{\"outlinewidth\":0,\"ticks\":\"\"}},\"type\":\"scattergeo\"}],\"scattergl\":[{\"marker\":{\"line\":{\"color\":\"#283442\"}},\"type\":\"scattergl\"}],\"scattermapbox\":[{\"marker\":{\"colorbar\":{\"outlinewidth\":0,\"ticks\":\"\"}},\"type\":\"scattermapbox\"}],\"scatterpolargl\":[{\"marker\":{\"colorbar\":{\"outlinewidth\":0,\"ticks\":\"\"}},\"type\":\"scatterpolargl\"}],\"scatterpolar\":[{\"marker\":{\"colorbar\":{\"outlinewidth\":0,\"ticks\":\"\"}},\"type\":\"scatterpolar\"}],\"scatter\":[{\"marker\":{\"line\":{\"color\":\"#283442\"}},\"type\":\"scatter\"}],\"scatterternary\":[{\"marker\":{\"colorbar\":{\"outlinewidth\":0,\"ticks\":\"\"}},\"type\":\"scatterternary\"}],\"surface\":[{\"colorbar\":{\"outlinewidth\":0,\"ticks\":\"\"},\"colorscale\":[[0.0,\"#0d0887\"],[0.1111111111111111,\"#46039f\"],[0.2222222222222222,\"#7201a8\"],[0.3333333333333333,\"#9c179e\"],[0.4444444444444444,\"#bd3786\"],[0.5555555555555556,\"#d8576b\"],[0.6666666666666666,\"#ed7953\"],[0.7777777777777778,\"#fb9f3a\"],[0.8888888888888888,\"#fdca26\"],[1.0,\"#f0f921\"]],\"type\":\"surface\"}],\"table\":[{\"cells\":{\"fill\":{\"color\":\"#506784\"},\"line\":{\"color\":\"rgb(17,17,17)\"}},\"header\":{\"fill\":{\"color\":\"#2a3f5f\"},\"line\":{\"color\":\"rgb(17,17,17)\"}},\"type\":\"table\"}]},\"layout\":{\"annotationdefaults\":{\"arrowcolor\":\"#f2f5fa\",\"arrowhead\":0,\"arrowwidth\":1},\"autotypenumbers\":\"strict\",\"coloraxis\":{\"colorbar\":{\"outlinewidth\":0,\"ticks\":\"\"}},\"colorscale\":{\"diverging\":[[0,\"#8e0152\"],[0.1,\"#c51b7d\"],[0.2,\"#de77ae\"],[0.3,\"#f1b6da\"],[0.4,\"#fde0ef\"],[0.5,\"#f7f7f7\"],[0.6,\"#e6f5d0\"],[0.7,\"#b8e186\"],[0.8,\"#7fbc41\"],[0.9,\"#4d9221\"],[1,\"#276419\"]],\"sequential\":[[0.0,\"#0d0887\"],[0.1111111111111111,\"#46039f\"],[0.2222222222222222,\"#7201a8\"],[0.3333333333333333,\"#9c179e\"],[0.4444444444444444,\"#bd3786\"],[0.5555555555555556,\"#d8576b\"],[0.6666666666666666,\"#ed7953\"],[0.7777777777777778,\"#fb9f3a\"],[0.8888888888888888,\"#fdca26\"],[1.0,\"#f0f921\"]],\"sequentialminus\":[[0.0,\"#0d0887\"],[0.1111111111111111,\"#46039f\"],[0.2222222222222222,\"#7201a8\"],[0.3333333333333333,\"#9c179e\"],[0.4444444444444444,\"#bd3786\"],[0.5555555555555556,\"#d8576b\"],[0.6666666666666666,\"#ed7953\"],[0.7777777777777778,\"#fb9f3a\"],[0.8888888888888888,\"#fdca26\"],[1.0,\"#f0f921\"]]},\"colorway\":[\"#636efa\",\"#EF553B\",\"#00cc96\",\"#ab63fa\",\"#FFA15A\",\"#19d3f3\",\"#FF6692\",\"#B6E880\",\"#FF97FF\",\"#FECB52\"],\"font\":{\"color\":\"#f2f5fa\"},\"geo\":{\"bgcolor\":\"rgb(17,17,17)\",\"lakecolor\":\"rgb(17,17,17)\",\"landcolor\":\"rgb(17,17,17)\",\"showlakes\":true,\"showland\":true,\"subunitcolor\":\"#506784\"},\"hoverlabel\":{\"align\":\"left\"},\"hovermode\":\"closest\",\"mapbox\":{\"style\":\"dark\"},\"paper_bgcolor\":\"rgb(17,17,17)\",\"plot_bgcolor\":\"rgb(17,17,17)\",\"polar\":{\"angularaxis\":{\"gridcolor\":\"#506784\",\"linecolor\":\"#506784\",\"ticks\":\"\"},\"bgcolor\":\"rgb(17,17,17)\",\"radialaxis\":{\"gridcolor\":\"#506784\",\"linecolor\":\"#506784\",\"ticks\":\"\"}},\"scene\":{\"xaxis\":{\"backgroundcolor\":\"rgb(17,17,17)\",\"gridcolor\":\"#506784\",\"gridwidth\":2,\"linecolor\":\"#506784\",\"showbackground\":true,\"ticks\":\"\",\"zerolinecolor\":\"#C8D4E3\"},\"yaxis\":{\"backgroundcolor\":\"rgb(17,17,17)\",\"gridcolor\":\"#506784\",\"gridwidth\":2,\"linecolor\":\"#506784\",\"showbackground\":true,\"ticks\":\"\",\"zerolinecolor\":\"#C8D4E3\"},\"zaxis\":{\"backgroundcolor\":\"rgb(17,17,17)\",\"gridcolor\":\"#506784\",\"gridwidth\":2,\"linecolor\":\"#506784\",\"showbackground\":true,\"ticks\":\"\",\"zerolinecolor\":\"#C8D4E3\"}},\"shapedefaults\":{\"line\":{\"color\":\"#f2f5fa\"}},\"sliderdefaults\":{\"bgcolor\":\"#C8D4E3\",\"bordercolor\":\"rgb(17,17,17)\",\"borderwidth\":1,\"tickwidth\":0},\"ternary\":{\"aaxis\":{\"gridcolor\":\"#506784\",\"linecolor\":\"#506784\",\"ticks\":\"\"},\"baxis\":{\"gridcolor\":\"#506784\",\"linecolor\":\"#506784\",\"ticks\":\"\"},\"bgcolor\":\"rgb(17,17,17)\",\"caxis\":{\"gridcolor\":\"#506784\",\"linecolor\":\"#506784\",\"ticks\":\"\"}},\"title\":{\"x\":0.05},\"updatemenudefaults\":{\"bgcolor\":\"#506784\",\"borderwidth\":0},\"xaxis\":{\"automargin\":true,\"gridcolor\":\"#283442\",\"linecolor\":\"#506784\",\"ticks\":\"\",\"title\":{\"standoff\":15},\"zerolinecolor\":\"#283442\",\"zerolinewidth\":2},\"yaxis\":{\"automargin\":true,\"gridcolor\":\"#283442\",\"linecolor\":\"#506784\",\"ticks\":\"\",\"title\":{\"standoff\":15},\"zerolinecolor\":\"#283442\",\"zerolinewidth\":2}}},\"xaxis\":{\"anchor\":\"y\",\"domain\":[0.0,1.0],\"title\":{\"text\":\"godzina od wybranej daty\"},\"tickmode\":\"linear\",\"tick0\":0,\"dtick\":1,\"showspikes\":true},\"yaxis\":{\"anchor\":\"x\",\"domain\":[0.0,1.0],\"title\":{\"text\":\"elewacja [\\u00b0]\"}},\"legend\":{\"title\":{\"text\":\"PRN\"},\"tracegroupgap\":0},\"title\":{\"text\":\"Elewacje satewlit\\u00f3w\"},\"hovermode\":\"closest\"},                        {\"responsive\": true}                    ).then(function(){\n",
       "                            \n",
       "var gd = document.getElementById('fad0caf8-a52e-4c39-88ff-378c169f266b');\n",
       "var x = new MutationObserver(function (mutations, observer) {{\n",
       "        var display = window.getComputedStyle(gd).display;\n",
       "        if (!display || display === 'none') {{\n",
       "            console.log([gd, 'removed!']);\n",
       "            Plotly.purge(gd);\n",
       "            observer.disconnect();\n",
       "        }}\n",
       "}});\n",
       "\n",
       "// Listen for the removal of the full notebook cells\n",
       "var notebookContainer = gd.closest('#notebook-container');\n",
       "if (notebookContainer) {{\n",
       "    x.observe(notebookContainer, {childList: true});\n",
       "}}\n",
       "\n",
       "// Listen for the clearing of the current output cell\n",
       "var outputEl = gd.closest('.output');\n",
       "if (outputEl) {{\n",
       "    x.observe(outputEl, {childList: true});\n",
       "}}\n",
       "\n",
       "                        })                };                });            </script>        </div>"
      ]
     },
     "metadata": {},
     "output_type": "display_data"
    }
   ],
   "source": [
    "fig = px.line(eledf, x='h', y='el', color='PRN',title='Elewacje satewlitów', labels={'h':'godzina od wybranej daty','el':'elewacja [°]'}, template='plotly_dark')\n",
    "fig.update_layout(hovermode=\"closest\", xaxis = dict(tickmode = 'linear', tick0=0, dtick=1))\n",
    "fig.update_xaxes(showspikes=True)\n",
    "# fig.update_yaxes(showspikes=True)\n",
    "fig.show()"
   ]
  },
  {
   "cell_type": "markdown",
   "id": "1d0f40df",
   "metadata": {},
   "source": [
    "## Liczba widocznych satelitów"
   ]
  },
  {
   "cell_type": "code",
   "execution_count": 535,
   "id": "4faa5817",
   "metadata": {},
   "outputs": [
    {
     "data": {
      "image/png": "[encoded data removed]",
      "text/plain": [
       "<Figure size 921.6x633.6 with 1 Axes>"
      ]
     },
     "metadata": {},
     "output_type": "display_data"
    }
   ],
   "source": [
    "plt.scatter(range(0,24),ile_widocznych)   \n",
    "plt.title('Liczba widocznych satelitów powyżej maski: '+str(MASKA)+' stopni')\n",
    "plt.ylabel('liczba widocznych satelitów')\n",
    "plt.xlabel('godziny od wybranej daty ' + str(date(*DATA[0:3])) + ' ' + str(time(*DATA[3:])) + ' [h]')\n",
    "plt.xticks(np.arange(0,24))\n",
    "plt.yticks(np.arange(min(ile_widocznych),max(ile_widocznych)+1))\n",
    "plt.tight_layout()\n",
    "plt.show()"
   ]
  },
  {
   "cell_type": "code",
   "execution_count": 536,
   "id": "466dd23c",
   "metadata": {},
   "outputs": [],
   "source": [
    "iledf = pd.DataFrame(list(zip(ile_widocznych, godzinyy)), columns=['ile', 'h'])\n",
    "# iledf"
   ]
  },
  {
   "cell_type": "code",
   "execution_count": 537,
   "id": "1e48d858",
   "metadata": {
    "scrolled": false
   },
   "outputs": [
    {
     "data": {
      "application/vnd.plotly.v1+json": {
       "config": {
        "plotlyServerURL": "https://plot.ly"
       },
       "data": [
        {
         "hovertemplate": "godzina od wybranej daty=%{x}<br>liczba widocznych satelitów=%{y}<extra></extra>",
         "legendgroup": "",
         "marker": {
          "color": "blue",
          "line": {
           "color": "lightblue",
           "width": 2
          },
          "opacity": 1,
          "size": 14,
          "symbol": "circle"
         },
         "mode": "markers",
         "name": "",
         "orientation": "v",
         "showlegend": false,
         "type": "scatter",
         "x": [
          0,
          1,
          2,
          3,
          4,
          5,
          6,
          7,
          8,
          9,
          10,
          11,
          12,
          13,
          14,
          15,
          16,
          17,
          18,
          19,
          20,
          21,
          22,
          23
         ],
         "xaxis": "x",
         "y": [
          9,
          10,
          8,
          9,
          10,
          9,
          8,
          8,
          9,
          9,
          10,
          8,
          10,
          10,
          10,
          10,
          8,
          8,
          8,
          8,
          9,
          9,
          9,
          8
         ],
         "yaxis": "y"
        }
       ],
       "layout": {
        "hovermode": "closest",
        "legend": {
         "tracegroupgap": 0
        },
        "template": {
         "data": {
          "bar": [
           {
            "error_x": {
             "color": "#f2f5fa"
            },
            "error_y": {
             "color": "#f2f5fa"
            },
            "marker": {
             "line": {
              "color": "rgb(17,17,17)",
              "width": 0.5
             },
             "pattern": {
              "fillmode": "overlay",
              "size": 10,
              "solidity": 0.2
             }
            },
            "type": "bar"
           }
          ],
          "barpolar": [
           {
            "marker": {
             "line": {
              "color": "rgb(17,17,17)",
              "width": 0.5
             },
             "pattern": {
              "fillmode": "overlay",
              "size": 10,
              "solidity": 0.2
             }
            },
            "type": "barpolar"
           }
          ],
          "carpet": [
           {
            "aaxis": {
             "endlinecolor": "#A2B1C6",
             "gridcolor": "#506784",
             "linecolor": "#506784",
             "minorgridcolor": "#506784",
             "startlinecolor": "#A2B1C6"
            },
            "baxis": {
             "endlinecolor": "#A2B1C6",
             "gridcolor": "#506784",
             "linecolor": "#506784",
             "minorgridcolor": "#506784",
             "startlinecolor": "#A2B1C6"
            },
            "type": "carpet"
           }
          ],
          "choropleth": [
           {
            "colorbar": {
             "outlinewidth": 0,
             "ticks": ""
            },
            "type": "choropleth"
           }
          ],
          "contour": [
           {
            "colorbar": {
             "outlinewidth": 0,
             "ticks": ""
            },
            "colorscale": [
             [
              0,
              "#0d0887"
             ],
             [
              0.1111111111111111,
              "#46039f"
             ],
             [
              0.2222222222222222,
              "#7201a8"
             ],
             [
              0.3333333333333333,
              "#9c179e"
             ],
             [
              0.4444444444444444,
              "#bd3786"
             ],
             [
              0.5555555555555556,
              "#d8576b"
             ],
             [
              0.6666666666666666,
              "#ed7953"
             ],
             [
              0.7777777777777778,
              "#fb9f3a"
             ],
             [
              0.8888888888888888,
              "#fdca26"
             ],
             [
              1,
              "#f0f921"
             ]
            ],
            "type": "contour"
           }
          ],
          "contourcarpet": [
           {
            "colorbar": {
             "outlinewidth": 0,
             "ticks": ""
            },
            "type": "contourcarpet"
           }
          ],
          "heatmap": [
           {
            "colorbar": {
             "outlinewidth": 0,
             "ticks": ""
            },
            "colorscale": [
             [
              0,
              "#0d0887"
             ],
             [
              0.1111111111111111,
              "#46039f"
             ],
             [
              0.2222222222222222,
              "#7201a8"
             ],
             [
              0.3333333333333333,
              "#9c179e"
             ],
             [
              0.4444444444444444,
              "#bd3786"
             ],
             [
              0.5555555555555556,
              "#d8576b"
             ],
             [
              0.6666666666666666,
              "#ed7953"
             ],
             [
              0.7777777777777778,
              "#fb9f3a"
             ],
             [
              0.8888888888888888,
              "#fdca26"
             ],
             [
              1,
              "#f0f921"
             ]
            ],
            "type": "heatmap"
           }
          ],
          "heatmapgl": [
           {
            "colorbar": {
             "outlinewidth": 0,
             "ticks": ""
            },
            "colorscale": [
             [
              0,
              "#0d0887"
             ],
             [
              0.1111111111111111,
              "#46039f"
             ],
             [
              0.2222222222222222,
              "#7201a8"
             ],
             [
              0.3333333333333333,
              "#9c179e"
             ],
             [
              0.4444444444444444,
              "#bd3786"
             ],
             [
              0.5555555555555556,
              "#d8576b"
             ],
             [
              0.6666666666666666,
              "#ed7953"
             ],
             [
              0.7777777777777778,
              "#fb9f3a"
             ],
             [
              0.8888888888888888,
              "#fdca26"
             ],
             [
              1,
              "#f0f921"
             ]
            ],
            "type": "heatmapgl"
           }
          ],
          "histogram": [
           {
            "marker": {
             "pattern": {
              "fillmode": "overlay",
              "size": 10,
              "solidity": 0.2
             }
            },
            "type": "histogram"
           }
          ],
          "histogram2d": [
           {
            "colorbar": {
             "outlinewidth": 0,
             "ticks": ""
            },
            "colorscale": [
             [
              0,
              "#0d0887"
             ],
             [
              0.1111111111111111,
              "#46039f"
             ],
             [
              0.2222222222222222,
              "#7201a8"
             ],
             [
              0.3333333333333333,
              "#9c179e"
             ],
             [
              0.4444444444444444,
              "#bd3786"
             ],
             [
              0.5555555555555556,
              "#d8576b"
             ],
             [
              0.6666666666666666,
              "#ed7953"
             ],
             [
              0.7777777777777778,
              "#fb9f3a"
             ],
             [
              0.8888888888888888,
              "#fdca26"
             ],
             [
              1,
              "#f0f921"
             ]
            ],
            "type": "histogram2d"
           }
          ],
          "histogram2dcontour": [
           {
            "colorbar": {
             "outlinewidth": 0,
             "ticks": ""
            },
            "colorscale": [
             [
              0,
              "#0d0887"
             ],
             [
              0.1111111111111111,
              "#46039f"
             ],
             [
              0.2222222222222222,
              "#7201a8"
             ],
             [
              0.3333333333333333,
              "#9c179e"
             ],
             [
              0.4444444444444444,
              "#bd3786"
             ],
             [
              0.5555555555555556,
              "#d8576b"
             ],
             [
              0.6666666666666666,
              "#ed7953"
             ],
             [
              0.7777777777777778,
              "#fb9f3a"
             ],
             [
              0.8888888888888888,
              "#fdca26"
             ],
             [
              1,
              "#f0f921"
             ]
            ],
            "type": "histogram2dcontour"
           }
          ],
          "mesh3d": [
           {
            "colorbar": {
             "outlinewidth": 0,
             "ticks": ""
            },
            "type": "mesh3d"
           }
          ],
          "parcoords": [
           {
            "line": {
             "colorbar": {
              "outlinewidth": 0,
              "ticks": ""
             }
            },
            "type": "parcoords"
           }
          ],
          "pie": [
           {
            "automargin": true,
            "type": "pie"
           }
          ],
          "scatter": [
           {
            "marker": {
             "line": {
              "color": "#283442"
             }
            },
            "type": "scatter"
           }
          ],
          "scatter3d": [
           {
            "line": {
             "colorbar": {
              "outlinewidth": 0,
              "ticks": ""
             }
            },
            "marker": {
             "colorbar": {
              "outlinewidth": 0,
              "ticks": ""
             }
            },
            "type": "scatter3d"
           }
          ],
          "scattercarpet": [
           {
            "marker": {
             "colorbar": {
              "outlinewidth": 0,
              "ticks": ""
             }
            },
            "type": "scattercarpet"
           }
          ],
          "scattergeo": [
           {
            "marker": {
             "colorbar": {
              "outlinewidth": 0,
              "ticks": ""
             }
            },
            "type": "scattergeo"
           }
          ],
          "scattergl": [
           {
            "marker": {
             "line": {
              "color": "#283442"
             }
            },
            "type": "scattergl"
           }
          ],
          "scattermapbox": [
           {
            "marker": {
             "colorbar": {
              "outlinewidth": 0,
              "ticks": ""
             }
            },
            "type": "scattermapbox"
           }
          ],
          "scatterpolar": [
           {
            "marker": {
             "colorbar": {
              "outlinewidth": 0,
              "ticks": ""
             }
            },
            "type": "scatterpolar"
           }
          ],
          "scatterpolargl": [
           {
            "marker": {
             "colorbar": {
              "outlinewidth": 0,
              "ticks": ""
             }
            },
            "type": "scatterpolargl"
           }
          ],
          "scatterternary": [
           {
            "marker": {
             "colorbar": {
              "outlinewidth": 0,
              "ticks": ""
             }
            },
            "type": "scatterternary"
           }
          ],
          "surface": [
           {
            "colorbar": {
             "outlinewidth": 0,
             "ticks": ""
            },
            "colorscale": [
             [
              0,
              "#0d0887"
             ],
             [
              0.1111111111111111,
              "#46039f"
             ],
             [
              0.2222222222222222,
              "#7201a8"
             ],
             [
              0.3333333333333333,
              "#9c179e"
             ],
             [
              0.4444444444444444,
              "#bd3786"
             ],
             [
              0.5555555555555556,
              "#d8576b"
             ],
             [
              0.6666666666666666,
              "#ed7953"
             ],
             [
              0.7777777777777778,
              "#fb9f3a"
             ],
             [
              0.8888888888888888,
              "#fdca26"
             ],
             [
              1,
              "#f0f921"
             ]
            ],
            "type": "surface"
           }
          ],
          "table": [
           {
            "cells": {
             "fill": {
              "color": "#506784"
             },
             "line": {
              "color": "rgb(17,17,17)"
             }
            },
            "header": {
             "fill": {
              "color": "#2a3f5f"
             },
             "line": {
              "color": "rgb(17,17,17)"
             }
            },
            "type": "table"
           }
          ]
         },
         "layout": {
          "annotationdefaults": {
           "arrowcolor": "#f2f5fa",
           "arrowhead": 0,
           "arrowwidth": 1
          },
          "autotypenumbers": "strict",
          "coloraxis": {
           "colorbar": {
            "outlinewidth": 0,
            "ticks": ""
           }
          },
          "colorscale": {
           "diverging": [
            [
             0,
             "#8e0152"
            ],
            [
             0.1,
             "#c51b7d"
            ],
            [
             0.2,
             "#de77ae"
            ],
            [
             0.3,
             "#f1b6da"
            ],
            [
             0.4,
             "#fde0ef"
            ],
            [
             0.5,
             "#f7f7f7"
            ],
            [
             0.6,
             "#e6f5d0"
            ],
            [
             0.7,
             "#b8e186"
            ],
            [
             0.8,
             "#7fbc41"
            ],
            [
             0.9,
             "#4d9221"
            ],
            [
             1,
             "#276419"
            ]
           ],
           "sequential": [
            [
             0,
             "#0d0887"
            ],
            [
             0.1111111111111111,
             "#46039f"
            ],
            [
             0.2222222222222222,
             "#7201a8"
            ],
            [
             0.3333333333333333,
             "#9c179e"
            ],
            [
             0.4444444444444444,
             "#bd3786"
            ],
            [
             0.5555555555555556,
             "#d8576b"
            ],
            [
             0.6666666666666666,
             "#ed7953"
            ],
            [
             0.7777777777777778,
             "#fb9f3a"
            ],
            [
             0.8888888888888888,
             "#fdca26"
            ],
            [
             1,
             "#f0f921"
            ]
           ],
           "sequentialminus": [
            [
             0,
             "#0d0887"
            ],
            [
             0.1111111111111111,
             "#46039f"
            ],
            [
             0.2222222222222222,
             "#7201a8"
            ],
            [
             0.3333333333333333,
             "#9c179e"
            ],
            [
             0.4444444444444444,
             "#bd3786"
            ],
            [
             0.5555555555555556,
             "#d8576b"
            ],
            [
             0.6666666666666666,
             "#ed7953"
            ],
            [
             0.7777777777777778,
             "#fb9f3a"
            ],
            [
             0.8888888888888888,
             "#fdca26"
            ],
            [
             1,
             "#f0f921"
            ]
           ]
          },
          "colorway": [
           "#636efa",
           "#EF553B",
           "#00cc96",
           "#ab63fa",
           "#FFA15A",
           "#19d3f3",
           "#FF6692",
           "#B6E880",
           "#FF97FF",
           "#FECB52"
          ],
          "font": {
           "color": "#f2f5fa"
          },
          "geo": {
           "bgcolor": "rgb(17,17,17)",
           "lakecolor": "rgb(17,17,17)",
           "landcolor": "rgb(17,17,17)",
           "showlakes": true,
           "showland": true,
           "subunitcolor": "#506784"
          },
          "hoverlabel": {
           "align": "left"
          },
          "hovermode": "closest",
          "mapbox": {
           "style": "dark"
          },
          "paper_bgcolor": "rgb(17,17,17)",
          "plot_bgcolor": "rgb(17,17,17)",
          "polar": {
           "angularaxis": {
            "gridcolor": "#506784",
            "linecolor": "#506784",
            "ticks": ""
           },
           "bgcolor": "rgb(17,17,17)",
           "radialaxis": {
            "gridcolor": "#506784",
            "linecolor": "#506784",
            "ticks": ""
           }
          },
          "scene": {
           "xaxis": {
            "backgroundcolor": "rgb(17,17,17)",
            "gridcolor": "#506784",
            "gridwidth": 2,
            "linecolor": "#506784",
            "showbackground": true,
            "ticks": "",
            "zerolinecolor": "#C8D4E3"
           },
           "yaxis": {
            "backgroundcolor": "rgb(17,17,17)",
            "gridcolor": "#506784",
            "gridwidth": 2,
            "linecolor": "#506784",
            "showbackground": true,
            "ticks": "",
            "zerolinecolor": "#C8D4E3"
           },
           "zaxis": {
            "backgroundcolor": "rgb(17,17,17)",
            "gridcolor": "#506784",
            "gridwidth": 2,
            "linecolor": "#506784",
            "showbackground": true,
            "ticks": "",
            "zerolinecolor": "#C8D4E3"
           }
          },
          "shapedefaults": {
           "line": {
            "color": "#f2f5fa"
           }
          },
          "sliderdefaults": {
           "bgcolor": "#C8D4E3",
           "bordercolor": "rgb(17,17,17)",
           "borderwidth": 1,
           "tickwidth": 0
          },
          "ternary": {
           "aaxis": {
            "gridcolor": "#506784",
            "linecolor": "#506784",
            "ticks": ""
           },
           "baxis": {
            "gridcolor": "#506784",
            "linecolor": "#506784",
            "ticks": ""
           },
           "bgcolor": "rgb(17,17,17)",
           "caxis": {
            "gridcolor": "#506784",
            "linecolor": "#506784",
            "ticks": ""
           }
          },
          "title": {
           "x": 0.05
          },
          "updatemenudefaults": {
           "bgcolor": "#506784",
           "borderwidth": 0
          },
          "xaxis": {
           "automargin": true,
           "gridcolor": "#283442",
           "linecolor": "#506784",
           "ticks": "",
           "title": {
            "standoff": 15
           },
           "zerolinecolor": "#283442",
           "zerolinewidth": 2
          },
          "yaxis": {
           "automargin": true,
           "gridcolor": "#283442",
           "linecolor": "#506784",
           "ticks": "",
           "title": {
            "standoff": 15
           },
           "zerolinecolor": "#283442",
           "zerolinewidth": 2
          }
         }
        },
        "title": {
         "text": "Liczba widocznych satelitów powyżej maski: 10 stopni"
        },
        "xaxis": {
         "anchor": "y",
         "domain": [
          0,
          1
         ],
         "dtick": 1,
         "tick0": 0,
         "tickmode": "linear",
         "title": {
          "text": "godzina od wybranej daty"
         }
        },
        "yaxis": {
         "anchor": "x",
         "domain": [
          0,
          1
         ],
         "dtick": 1,
         "tick0": 8,
         "tickmode": "linear",
         "title": {
          "text": "liczba widocznych satelitów"
         }
        }
       }
      },
      "text/html": [
       "<div>                            <div id=\"6f903d30-c412-4949-9b56-9a7c663f4160\" class=\"plotly-graph-div\" style=\"height:525px; width:100%;\"></div>            <script type=\"text/javascript\">                require([\"plotly\"], function(Plotly) {                    window.PLOTLYENV=window.PLOTLYENV || {};                                    if (document.getElementById(\"6f903d30-c412-4949-9b56-9a7c663f4160\")) {                    Plotly.newPlot(                        \"6f903d30-c412-4949-9b56-9a7c663f4160\",                        [{\"hovertemplate\":\"godzina od wybranej daty=%{x}<br>liczba widocznych satelit\\u00f3w=%{y}<extra></extra>\",\"legendgroup\":\"\",\"marker\":{\"color\":\"blue\",\"symbol\":\"circle\",\"line\":{\"color\":\"lightblue\",\"width\":2},\"opacity\":1,\"size\":14},\"mode\":\"markers\",\"name\":\"\",\"orientation\":\"v\",\"showlegend\":false,\"x\":[0,1,2,3,4,5,6,7,8,9,10,11,12,13,14,15,16,17,18,19,20,21,22,23],\"xaxis\":\"x\",\"y\":[9,10,8,9,10,9,8,8,9,9,10,8,10,10,10,10,8,8,8,8,9,9,9,8],\"yaxis\":\"y\",\"type\":\"scatter\"}],                        {\"template\":{\"data\":{\"barpolar\":[{\"marker\":{\"line\":{\"color\":\"rgb(17,17,17)\",\"width\":0.5},\"pattern\":{\"fillmode\":\"overlay\",\"size\":10,\"solidity\":0.2}},\"type\":\"barpolar\"}],\"bar\":[{\"error_x\":{\"color\":\"#f2f5fa\"},\"error_y\":{\"color\":\"#f2f5fa\"},\"marker\":{\"line\":{\"color\":\"rgb(17,17,17)\",\"width\":0.5},\"pattern\":{\"fillmode\":\"overlay\",\"size\":10,\"solidity\":0.2}},\"type\":\"bar\"}],\"carpet\":[{\"aaxis\":{\"endlinecolor\":\"#A2B1C6\",\"gridcolor\":\"#506784\",\"linecolor\":\"#506784\",\"minorgridcolor\":\"#506784\",\"startlinecolor\":\"#A2B1C6\"},\"baxis\":{\"endlinecolor\":\"#A2B1C6\",\"gridcolor\":\"#506784\",\"linecolor\":\"#506784\",\"minorgridcolor\":\"#506784\",\"startlinecolor\":\"#A2B1C6\"},\"type\":\"carpet\"}],\"choropleth\":[{\"colorbar\":{\"outlinewidth\":0,\"ticks\":\"\"},\"type\":\"choropleth\"}],\"contourcarpet\":[{\"colorbar\":{\"outlinewidth\":0,\"ticks\":\"\"},\"type\":\"contourcarpet\"}],\"contour\":[{\"colorbar\":{\"outlinewidth\":0,\"ticks\":\"\"},\"colorscale\":[[0.0,\"#0d0887\"],[0.1111111111111111,\"#46039f\"],[0.2222222222222222,\"#7201a8\"],[0.3333333333333333,\"#9c179e\"],[0.4444444444444444,\"#bd3786\"],[0.5555555555555556,\"#d8576b\"],[0.6666666666666666,\"#ed7953\"],[0.7777777777777778,\"#fb9f3a\"],[0.8888888888888888,\"#fdca26\"],[1.0,\"#f0f921\"]],\"type\":\"contour\"}],\"heatmapgl\":[{\"colorbar\":{\"outlinewidth\":0,\"ticks\":\"\"},\"colorscale\":[[0.0,\"#0d0887\"],[0.1111111111111111,\"#46039f\"],[0.2222222222222222,\"#7201a8\"],[0.3333333333333333,\"#9c179e\"],[0.4444444444444444,\"#bd3786\"],[0.5555555555555556,\"#d8576b\"],[0.6666666666666666,\"#ed7953\"],[0.7777777777777778,\"#fb9f3a\"],[0.8888888888888888,\"#fdca26\"],[1.0,\"#f0f921\"]],\"type\":\"heatmapgl\"}],\"heatmap\":[{\"colorbar\":{\"outlinewidth\":0,\"ticks\":\"\"},\"colorscale\":[[0.0,\"#0d0887\"],[0.1111111111111111,\"#46039f\"],[0.2222222222222222,\"#7201a8\"],[0.3333333333333333,\"#9c179e\"],[0.4444444444444444,\"#bd3786\"],[0.5555555555555556,\"#d8576b\"],[0.6666666666666666,\"#ed7953\"],[0.7777777777777778,\"#fb9f3a\"],[0.8888888888888888,\"#fdca26\"],[1.0,\"#f0f921\"]],\"type\":\"heatmap\"}],\"histogram2dcontour\":[{\"colorbar\":{\"outlinewidth\":0,\"ticks\":\"\"},\"colorscale\":[[0.0,\"#0d0887\"],[0.1111111111111111,\"#46039f\"],[0.2222222222222222,\"#7201a8\"],[0.3333333333333333,\"#9c179e\"],[0.4444444444444444,\"#bd3786\"],[0.5555555555555556,\"#d8576b\"],[0.6666666666666666,\"#ed7953\"],[0.7777777777777778,\"#fb9f3a\"],[0.8888888888888888,\"#fdca26\"],[1.0,\"#f0f921\"]],\"type\":\"histogram2dcontour\"}],\"histogram2d\":[{\"colorbar\":{\"outlinewidth\":0,\"ticks\":\"\"},\"colorscale\":[[0.0,\"#0d0887\"],[0.1111111111111111,\"#46039f\"],[0.2222222222222222,\"#7201a8\"],[0.3333333333333333,\"#9c179e\"],[0.4444444444444444,\"#bd3786\"],[0.5555555555555556,\"#d8576b\"],[0.6666666666666666,\"#ed7953\"],[0.7777777777777778,\"#fb9f3a\"],[0.8888888888888888,\"#fdca26\"],[1.0,\"#f0f921\"]],\"type\":\"histogram2d\"}],\"histogram\":[{\"marker\":{\"pattern\":{\"fillmode\":\"overlay\",\"size\":10,\"solidity\":0.2}},\"type\":\"histogram\"}],\"mesh3d\":[{\"colorbar\":{\"outlinewidth\":0,\"ticks\":\"\"},\"type\":\"mesh3d\"}],\"parcoords\":[{\"line\":{\"colorbar\":{\"outlinewidth\":0,\"ticks\":\"\"}},\"type\":\"parcoords\"}],\"pie\":[{\"automargin\":true,\"type\":\"pie\"}],\"scatter3d\":[{\"line\":{\"colorbar\":{\"outlinewidth\":0,\"ticks\":\"\"}},\"marker\":{\"colorbar\":{\"outlinewidth\":0,\"ticks\":\"\"}},\"type\":\"scatter3d\"}],\"scattercarpet\":[{\"marker\":{\"colorbar\":{\"outlinewidth\":0,\"ticks\":\"\"}},\"type\":\"scattercarpet\"}],\"scattergeo\":[{\"marker\":{\"colorbar\":{\"outlinewidth\":0,\"ticks\":\"\"}},\"type\":\"scattergeo\"}],\"scattergl\":[{\"marker\":{\"line\":{\"color\":\"#283442\"}},\"type\":\"scattergl\"}],\"scattermapbox\":[{\"marker\":{\"colorbar\":{\"outlinewidth\":0,\"ticks\":\"\"}},\"type\":\"scattermapbox\"}],\"scatterpolargl\":[{\"marker\":{\"colorbar\":{\"outlinewidth\":0,\"ticks\":\"\"}},\"type\":\"scatterpolargl\"}],\"scatterpolar\":[{\"marker\":{\"colorbar\":{\"outlinewidth\":0,\"ticks\":\"\"}},\"type\":\"scatterpolar\"}],\"scatter\":[{\"marker\":{\"line\":{\"color\":\"#283442\"}},\"type\":\"scatter\"}],\"scatterternary\":[{\"marker\":{\"colorbar\":{\"outlinewidth\":0,\"ticks\":\"\"}},\"type\":\"scatterternary\"}],\"surface\":[{\"colorbar\":{\"outlinewidth\":0,\"ticks\":\"\"},\"colorscale\":[[0.0,\"#0d0887\"],[0.1111111111111111,\"#46039f\"],[0.2222222222222222,\"#7201a8\"],[0.3333333333333333,\"#9c179e\"],[0.4444444444444444,\"#bd3786\"],[0.5555555555555556,\"#d8576b\"],[0.6666666666666666,\"#ed7953\"],[0.7777777777777778,\"#fb9f3a\"],[0.8888888888888888,\"#fdca26\"],[1.0,\"#f0f921\"]],\"type\":\"surface\"}],\"table\":[{\"cells\":{\"fill\":{\"color\":\"#506784\"},\"line\":{\"color\":\"rgb(17,17,17)\"}},\"header\":{\"fill\":{\"color\":\"#2a3f5f\"},\"line\":{\"color\":\"rgb(17,17,17)\"}},\"type\":\"table\"}]},\"layout\":{\"annotationdefaults\":{\"arrowcolor\":\"#f2f5fa\",\"arrowhead\":0,\"arrowwidth\":1},\"autotypenumbers\":\"strict\",\"coloraxis\":{\"colorbar\":{\"outlinewidth\":0,\"ticks\":\"\"}},\"colorscale\":{\"diverging\":[[0,\"#8e0152\"],[0.1,\"#c51b7d\"],[0.2,\"#de77ae\"],[0.3,\"#f1b6da\"],[0.4,\"#fde0ef\"],[0.5,\"#f7f7f7\"],[0.6,\"#e6f5d0\"],[0.7,\"#b8e186\"],[0.8,\"#7fbc41\"],[0.9,\"#4d9221\"],[1,\"#276419\"]],\"sequential\":[[0.0,\"#0d0887\"],[0.1111111111111111,\"#46039f\"],[0.2222222222222222,\"#7201a8\"],[0.3333333333333333,\"#9c179e\"],[0.4444444444444444,\"#bd3786\"],[0.5555555555555556,\"#d8576b\"],[0.6666666666666666,\"#ed7953\"],[0.7777777777777778,\"#fb9f3a\"],[0.8888888888888888,\"#fdca26\"],[1.0,\"#f0f921\"]],\"sequentialminus\":[[0.0,\"#0d0887\"],[0.1111111111111111,\"#46039f\"],[0.2222222222222222,\"#7201a8\"],[0.3333333333333333,\"#9c179e\"],[0.4444444444444444,\"#bd3786\"],[0.5555555555555556,\"#d8576b\"],[0.6666666666666666,\"#ed7953\"],[0.7777777777777778,\"#fb9f3a\"],[0.8888888888888888,\"#fdca26\"],[1.0,\"#f0f921\"]]},\"colorway\":[\"#636efa\",\"#EF553B\",\"#00cc96\",\"#ab63fa\",\"#FFA15A\",\"#19d3f3\",\"#FF6692\",\"#B6E880\",\"#FF97FF\",\"#FECB52\"],\"font\":{\"color\":\"#f2f5fa\"},\"geo\":{\"bgcolor\":\"rgb(17,17,17)\",\"lakecolor\":\"rgb(17,17,17)\",\"landcolor\":\"rgb(17,17,17)\",\"showlakes\":true,\"showland\":true,\"subunitcolor\":\"#506784\"},\"hoverlabel\":{\"align\":\"left\"},\"hovermode\":\"closest\",\"mapbox\":{\"style\":\"dark\"},\"paper_bgcolor\":\"rgb(17,17,17)\",\"plot_bgcolor\":\"rgb(17,17,17)\",\"polar\":{\"angularaxis\":{\"gridcolor\":\"#506784\",\"linecolor\":\"#506784\",\"ticks\":\"\"},\"bgcolor\":\"rgb(17,17,17)\",\"radialaxis\":{\"gridcolor\":\"#506784\",\"linecolor\":\"#506784\",\"ticks\":\"\"}},\"scene\":{\"xaxis\":{\"backgroundcolor\":\"rgb(17,17,17)\",\"gridcolor\":\"#506784\",\"gridwidth\":2,\"linecolor\":\"#506784\",\"showbackground\":true,\"ticks\":\"\",\"zerolinecolor\":\"#C8D4E3\"},\"yaxis\":{\"backgroundcolor\":\"rgb(17,17,17)\",\"gridcolor\":\"#506784\",\"gridwidth\":2,\"linecolor\":\"#506784\",\"showbackground\":true,\"ticks\":\"\",\"zerolinecolor\":\"#C8D4E3\"},\"zaxis\":{\"backgroundcolor\":\"rgb(17,17,17)\",\"gridcolor\":\"#506784\",\"gridwidth\":2,\"linecolor\":\"#506784\",\"showbackground\":true,\"ticks\":\"\",\"zerolinecolor\":\"#C8D4E3\"}},\"shapedefaults\":{\"line\":{\"color\":\"#f2f5fa\"}},\"sliderdefaults\":{\"bgcolor\":\"#C8D4E3\",\"bordercolor\":\"rgb(17,17,17)\",\"borderwidth\":1,\"tickwidth\":0},\"ternary\":{\"aaxis\":{\"gridcolor\":\"#506784\",\"linecolor\":\"#506784\",\"ticks\":\"\"},\"baxis\":{\"gridcolor\":\"#506784\",\"linecolor\":\"#506784\",\"ticks\":\"\"},\"bgcolor\":\"rgb(17,17,17)\",\"caxis\":{\"gridcolor\":\"#506784\",\"linecolor\":\"#506784\",\"ticks\":\"\"}},\"title\":{\"x\":0.05},\"updatemenudefaults\":{\"bgcolor\":\"#506784\",\"borderwidth\":0},\"xaxis\":{\"automargin\":true,\"gridcolor\":\"#283442\",\"linecolor\":\"#506784\",\"ticks\":\"\",\"title\":{\"standoff\":15},\"zerolinecolor\":\"#283442\",\"zerolinewidth\":2},\"yaxis\":{\"automargin\":true,\"gridcolor\":\"#283442\",\"linecolor\":\"#506784\",\"ticks\":\"\",\"title\":{\"standoff\":15},\"zerolinecolor\":\"#283442\",\"zerolinewidth\":2}}},\"xaxis\":{\"anchor\":\"y\",\"domain\":[0.0,1.0],\"title\":{\"text\":\"godzina od wybranej daty\"},\"tickmode\":\"linear\",\"tick0\":0,\"dtick\":1},\"yaxis\":{\"anchor\":\"x\",\"domain\":[0.0,1.0],\"title\":{\"text\":\"liczba widocznych satelit\\u00f3w\"},\"tickmode\":\"linear\",\"tick0\":8,\"dtick\":1},\"legend\":{\"tracegroupgap\":0},\"title\":{\"text\":\"Liczba widocznych satelit\\u00f3w powy\\u017cej maski: 10 stopni\"},\"hovermode\":\"closest\"},                        {\"responsive\": true}                    ).then(function(){\n",
       "                            \n",
       "var gd = document.getElementById('6f903d30-c412-4949-9b56-9a7c663f4160');\n",
       "var x = new MutationObserver(function (mutations, observer) {{\n",
       "        var display = window.getComputedStyle(gd).display;\n",
       "        if (!display || display === 'none') {{\n",
       "            console.log([gd, 'removed!']);\n",
       "            Plotly.purge(gd);\n",
       "            observer.disconnect();\n",
       "        }}\n",
       "}});\n",
       "\n",
       "// Listen for the removal of the full notebook cells\n",
       "var notebookContainer = gd.closest('#notebook-container');\n",
       "if (notebookContainer) {{\n",
       "    x.observe(notebookContainer, {childList: true});\n",
       "}}\n",
       "\n",
       "// Listen for the clearing of the current output cell\n",
       "var outputEl = gd.closest('.output');\n",
       "if (outputEl) {{\n",
       "    x.observe(outputEl, {childList: true});\n",
       "}}\n",
       "\n",
       "                        })                };                });            </script>        </div>"
      ]
     },
     "metadata": {},
     "output_type": "display_data"
    }
   ],
   "source": [
    "fig = px.scatter(iledf, x='h', y='ile', title='Liczba widocznych satelitów powyżej maski: '+str(MASKA)+' stopni', labels={'h':'godzina od wybranej daty','ile':'liczba widocznych satelitów'}, template='plotly_dark')\n",
    "fig.update_traces(marker=dict(color='blue',opacity=1,size=14,\n",
    "                              line=dict(width=2,\n",
    "                                        color='lightblue')))\n",
    "fig.update_layout(hovermode=\"closest\", xaxis = dict(tickmode = 'linear', tick0=0, dtick=1),\n",
    "                 yaxis=dict(tickmode='linear', tick0=min(ile_widocznych), dtick=1))\n",
    "\n",
    "fig.show()"
   ]
  },
  {
   "cell_type": "code",
   "execution_count": 538,
   "id": "0825a592",
   "metadata": {},
   "outputs": [
    {
     "data": {
      "image/png": "[encoded data removed]",
      "text/plain": [
       "<Figure size 921.6x633.6 with 1 Axes>"
      ]
     },
     "metadata": {},
     "output_type": "display_data"
    }
   ],
   "source": [
    "plt.bar(range(0,24),ile_widocznych)\n",
    "plt.title('Liczba widocznych satelitów powyżej maski: '+str(MASKA)+' stopni')\n",
    "plt.ylabel('liczba widocznych satelitów')\n",
    "plt.xlabel('godziny od wybranej daty ' + str(date(*DATA[0:3])) + ' ' + str(time(*DATA[3:])) + ' [h]')\n",
    "plt.xticks(np.arange(0,24))\n",
    "plt.yticks(np.arange(0,max(ile_widocznych)+1))\n",
    "plt.tight_layout()\n",
    "plt.show()"
   ]
  },
  {
   "cell_type": "markdown",
   "id": "2350b681",
   "metadata": {},
   "source": [
    "## Współczynniki DOP"
   ]
  },
  {
   "cell_type": "code",
   "execution_count": 539,
   "id": "5202aa95",
   "metadata": {
    "scrolled": false
   },
   "outputs": [
    {
     "data": {
      "image/png": "[encoded data removed]",
      "text/plain": [
       "<Figure size 921.6x633.6 with 1 Axes>"
      ]
     },
     "metadata": {},
     "output_type": "display_data"
    }
   ],
   "source": [
    "for k, v in DOP.items():\n",
    "    plt.plot(range(0,24), v, label=k)\n",
    "    \n",
    "plt.title('Współczynniki DOP')\n",
    "plt.ylabel('wartości współczynników')\n",
    "plt.xlabel('godziny od wybranej daty ' + str(date(*DATA[0:3])) + ' ' + str(time(*DATA[3:])) + ' [h]')\n",
    "plt.xticks(np.arange(0,24))\n",
    "ax = plt.gca()\n",
    "ax.legend(loc='upper center', bbox_to_anchor=(0.5, -0.15),\n",
    "          fancybox=True, shadow=True, ncol=5)\n",
    "plt.tight_layout()\n",
    "plt.show()"
   ]
  },
  {
   "cell_type": "code",
   "execution_count": 540,
   "id": "e1e56675",
   "metadata": {},
   "outputs": [],
   "source": [
    "dopdf = pd.DataFrame(list(zip(godzinyy, DOP['GDOP'], DOP['PDOP'], DOP['TDOP'], DOP['HDOP'], DOP['VDOP'])), columns=['h', 'GDOP', 'PDOP', 'TDOP', 'HDOP', 'VDOP'])"
   ]
  },
  {
   "cell_type": "code",
   "execution_count": 541,
   "id": "62060ffd",
   "metadata": {},
   "outputs": [
    {
     "data": {
      "application/vnd.plotly.v1+json": {
       "config": {
        "plotlyServerURL": "https://plot.ly"
       },
       "data": [
        {
         "hovertemplate": "variable=GDOP<br>godzina od wybranej daty=%{x}<br>value=%{y}<extra></extra>",
         "legendgroup": "GDOP",
         "line": {
          "color": "#636efa",
          "dash": "solid"
         },
         "marker": {
          "symbol": "circle"
         },
         "mode": "lines",
         "name": "GDOP",
         "orientation": "v",
         "showlegend": true,
         "type": "scatter",
         "x": [
          0,
          1,
          2,
          3,
          4,
          5,
          6,
          7,
          8,
          9,
          10,
          11,
          12,
          13,
          14,
          15,
          16,
          17,
          18,
          19,
          20,
          21,
          22,
          23
         ],
         "xaxis": "x",
         "y": [
          2.2881065941826875,
          1.8998747724291056,
          1.848486928868121,
          1.934246847836042,
          2.172451212840377,
          2.180080846761741,
          1.9952418502565867,
          2.589499054767193,
          1.675113021279894,
          2.1443726153829186,
          2.1814093668890755,
          1.7257013584070187,
          1.9731594917541615,
          2.228326425101555,
          1.7672277247271204,
          1.9920711655016143,
          2.477777325986273,
          1.8800047968772806,
          2.449809392600222,
          2.313453053501213,
          1.6681870273799984,
          1.9198772149292194,
          2.020800594859434,
          1.9606508464578647
         ],
         "yaxis": "y"
        },
        {
         "hovertemplate": "variable=PDOP<br>godzina od wybranej daty=%{x}<br>value=%{y}<extra></extra>",
         "legendgroup": "PDOP",
         "line": {
          "color": "#EF553B",
          "dash": "solid"
         },
         "marker": {
          "symbol": "circle"
         },
         "mode": "lines",
         "name": "PDOP",
         "orientation": "v",
         "showlegend": true,
         "type": "scatter",
         "x": [
          0,
          1,
          2,
          3,
          4,
          5,
          6,
          7,
          8,
          9,
          10,
          11,
          12,
          13,
          14,
          15,
          16,
          17,
          18,
          19,
          20,
          21,
          22,
          23
         ],
         "xaxis": "x",
         "y": [
          1.9802088005866127,
          1.6894516605812666,
          1.6422257397419797,
          1.7152973151414221,
          1.9168697346514096,
          1.9373049769224373,
          1.7572242265976323,
          2.238108887724863,
          1.4983526217001064,
          1.93490389111254,
          1.9604329103244187,
          1.55724606823633,
          1.7614779214622016,
          1.9534938287772936,
          1.6061845202417346,
          1.7527471943930253,
          2.166995142388692,
          1.6685252513625437,
          2.1246110881059894,
          2.0005356343503813,
          1.488518071170936,
          1.7071202559492875,
          1.7679769913933305,
          1.7155396983940856
         ],
         "yaxis": "y"
        },
        {
         "hovertemplate": "variable=TDOP<br>godzina od wybranej daty=%{x}<br>value=%{y}<extra></extra>",
         "legendgroup": "TDOP",
         "line": {
          "color": "#00cc96",
          "dash": "solid"
         },
         "marker": {
          "symbol": "circle"
         },
         "mode": "lines",
         "name": "TDOP",
         "orientation": "v",
         "showlegend": true,
         "type": "scatter",
         "x": [
          0,
          1,
          2,
          3,
          4,
          5,
          6,
          7,
          8,
          9,
          10,
          11,
          12,
          13,
          14,
          15,
          16,
          17,
          18,
          19,
          20,
          21,
          22,
          23
         ],
         "xaxis": "x",
         "y": [
          1.1463877583181123,
          0.8690668774448526,
          0.8485272806016345,
          0.8939049105091061,
          1.0223280748121217,
          0.9998009425925461,
          0.9450677533773333,
          1.3024492164100536,
          0.7489613174963523,
          0.9243813313572118,
          0.9566867983140179,
          0.7436597752805517,
          0.8891309870321376,
          1.072054344580957,
          0.7370652060571191,
          0.9466915025341353,
          1.2014626627721305,
          0.8662802790362625,
          1.2196695390020003,
          1.161861526365515,
          0.753101527097424,
          0.8784468977303153,
          0.9787197771006934,
          0.9492498538055573
         ],
         "yaxis": "y"
        },
        {
         "hovertemplate": "variable=HDOP<br>godzina od wybranej daty=%{x}<br>value=%{y}<extra></extra>",
         "legendgroup": "HDOP",
         "line": {
          "color": "#ab63fa",
          "dash": "solid"
         },
         "marker": {
          "symbol": "circle"
         },
         "mode": "lines",
         "name": "HDOP",
         "orientation": "v",
         "showlegend": true,
         "type": "scatter",
         "x": [
          0,
          1,
          2,
          3,
          4,
          5,
          6,
          7,
          8,
          9,
          10,
          11,
          12,
          13,
          14,
          15,
          16,
          17,
          18,
          19,
          20,
          21,
          22,
          23
         ],
         "xaxis": "x",
         "y": [
          0.9198223599362811,
          0.807393295482208,
          1.0080998926016826,
          0.919777517906455,
          0.8990049920964073,
          1.1144554411355534,
          1.0180484883239516,
          1.1096938358943245,
          0.8914967159394189,
          1.1504747470157406,
          0.8989110023539301,
          0.918686520342207,
          0.8995110822430904,
          0.9038411675755893,
          1.1033994058259409,
          0.8932802801010397,
          0.9932037174182838,
          0.9689844951341322,
          1.146916169474604,
          1.0097318930550239,
          0.9251273769692545,
          0.9351022034059316,
          0.9358828280747014,
          1.043394925109687
         ],
         "yaxis": "y"
        },
        {
         "hovertemplate": "variable=VDOP<br>godzina od wybranej daty=%{x}<br>value=%{y}<extra></extra>",
         "legendgroup": "VDOP",
         "line": {
          "color": "#FFA15A",
          "dash": "solid"
         },
         "marker": {
          "symbol": "circle"
         },
         "mode": "lines",
         "name": "VDOP",
         "orientation": "v",
         "showlegend": true,
         "type": "scatter",
         "x": [
          0,
          1,
          2,
          3,
          4,
          5,
          6,
          7,
          8,
          9,
          10,
          11,
          12,
          13,
          14,
          15,
          16,
          17,
          18,
          19,
          20,
          21,
          22,
          23
         ],
         "xaxis": "x",
         "y": [
          1.7536116217914168,
          1.4840360439865263,
          1.2963949964449757,
          1.447844672913919,
          1.6929795048400036,
          1.5846575792049853,
          1.4322759014809139,
          1.9436334489535734,
          1.204281605117679,
          1.5557187806032027,
          1.7421986699943621,
          1.257390311072515,
          1.5144914264269251,
          1.7318225321511918,
          1.1671925566448458,
          1.5080361629069876,
          1.9259839882103613,
          1.358324542450769,
          1.7884506076211937,
          1.7270160185861625,
          1.1661155108240482,
          1.4282308768044938,
          1.4999553240717243,
          1.3617648427762483
         ],
         "yaxis": "y"
        }
       ],
       "layout": {
        "hovermode": "closest",
        "legend": {
         "title": {
          "text": "variable"
         },
         "tracegroupgap": 0
        },
        "template": {
         "data": {
          "bar": [
           {
            "error_x": {
             "color": "#f2f5fa"
            },
            "error_y": {
             "color": "#f2f5fa"
            },
            "marker": {
             "line": {
              "color": "rgb(17,17,17)",
              "width": 0.5
             },
             "pattern": {
              "fillmode": "overlay",
              "size": 10,
              "solidity": 0.2
             }
            },
            "type": "bar"
           }
          ],
          "barpolar": [
           {
            "marker": {
             "line": {
              "color": "rgb(17,17,17)",
              "width": 0.5
             },
             "pattern": {
              "fillmode": "overlay",
              "size": 10,
              "solidity": 0.2
             }
            },
            "type": "barpolar"
           }
          ],
          "carpet": [
           {
            "aaxis": {
             "endlinecolor": "#A2B1C6",
             "gridcolor": "#506784",
             "linecolor": "#506784",
             "minorgridcolor": "#506784",
             "startlinecolor": "#A2B1C6"
            },
            "baxis": {
             "endlinecolor": "#A2B1C6",
             "gridcolor": "#506784",
             "linecolor": "#506784",
             "minorgridcolor": "#506784",
             "startlinecolor": "#A2B1C6"
            },
            "type": "carpet"
           }
          ],
          "choropleth": [
           {
            "colorbar": {
             "outlinewidth": 0,
             "ticks": ""
            },
            "type": "choropleth"
           }
          ],
          "contour": [
           {
            "colorbar": {
             "outlinewidth": 0,
             "ticks": ""
            },
            "colorscale": [
             [
              0,
              "#0d0887"
             ],
             [
              0.1111111111111111,
              "#46039f"
             ],
             [
              0.2222222222222222,
              "#7201a8"
             ],
             [
              0.3333333333333333,
              "#9c179e"
             ],
             [
              0.4444444444444444,
              "#bd3786"
             ],
             [
              0.5555555555555556,
              "#d8576b"
             ],
             [
              0.6666666666666666,
              "#ed7953"
             ],
             [
              0.7777777777777778,
              "#fb9f3a"
             ],
             [
              0.8888888888888888,
              "#fdca26"
             ],
             [
              1,
              "#f0f921"
             ]
            ],
            "type": "contour"
           }
          ],
          "contourcarpet": [
           {
            "colorbar": {
             "outlinewidth": 0,
             "ticks": ""
            },
            "type": "contourcarpet"
           }
          ],
          "heatmap": [
           {
            "colorbar": {
             "outlinewidth": 0,
             "ticks": ""
            },
            "colorscale": [
             [
              0,
              "#0d0887"
             ],
             [
              0.1111111111111111,
              "#46039f"
             ],
             [
              0.2222222222222222,
              "#7201a8"
             ],
             [
              0.3333333333333333,
              "#9c179e"
             ],
             [
              0.4444444444444444,
              "#bd3786"
             ],
             [
              0.5555555555555556,
              "#d8576b"
             ],
             [
              0.6666666666666666,
              "#ed7953"
             ],
             [
              0.7777777777777778,
              "#fb9f3a"
             ],
             [
              0.8888888888888888,
              "#fdca26"
             ],
             [
              1,
              "#f0f921"
             ]
            ],
            "type": "heatmap"
           }
          ],
          "heatmapgl": [
           {
            "colorbar": {
             "outlinewidth": 0,
             "ticks": ""
            },
            "colorscale": [
             [
              0,
              "#0d0887"
             ],
             [
              0.1111111111111111,
              "#46039f"
             ],
             [
              0.2222222222222222,
              "#7201a8"
             ],
             [
              0.3333333333333333,
              "#9c179e"
             ],
             [
              0.4444444444444444,
              "#bd3786"
             ],
             [
              0.5555555555555556,
              "#d8576b"
             ],
             [
              0.6666666666666666,
              "#ed7953"
             ],
             [
              0.7777777777777778,
              "#fb9f3a"
             ],
             [
              0.8888888888888888,
              "#fdca26"
             ],
             [
              1,
              "#f0f921"
             ]
            ],
            "type": "heatmapgl"
           }
          ],
          "histogram": [
           {
            "marker": {
             "pattern": {
              "fillmode": "overlay",
              "size": 10,
              "solidity": 0.2
             }
            },
            "type": "histogram"
           }
          ],
          "histogram2d": [
           {
            "colorbar": {
             "outlinewidth": 0,
             "ticks": ""
            },
            "colorscale": [
             [
              0,
              "#0d0887"
             ],
             [
              0.1111111111111111,
              "#46039f"
             ],
             [
              0.2222222222222222,
              "#7201a8"
             ],
             [
              0.3333333333333333,
              "#9c179e"
             ],
             [
              0.4444444444444444,
              "#bd3786"
             ],
             [
              0.5555555555555556,
              "#d8576b"
             ],
             [
              0.6666666666666666,
              "#ed7953"
             ],
             [
              0.7777777777777778,
              "#fb9f3a"
             ],
             [
              0.8888888888888888,
              "#fdca26"
             ],
             [
              1,
              "#f0f921"
             ]
            ],
            "type": "histogram2d"
           }
          ],
          "histogram2dcontour": [
           {
            "colorbar": {
             "outlinewidth": 0,
             "ticks": ""
            },
            "colorscale": [
             [
              0,
              "#0d0887"
             ],
             [
              0.1111111111111111,
              "#46039f"
             ],
             [
              0.2222222222222222,
              "#7201a8"
             ],
             [
              0.3333333333333333,
              "#9c179e"
             ],
             [
              0.4444444444444444,
              "#bd3786"
             ],
             [
              0.5555555555555556,
              "#d8576b"
             ],
             [
              0.6666666666666666,
              "#ed7953"
             ],
             [
              0.7777777777777778,
              "#fb9f3a"
             ],
             [
              0.8888888888888888,
              "#fdca26"
             ],
             [
              1,
              "#f0f921"
             ]
            ],
            "type": "histogram2dcontour"
           }
          ],
          "mesh3d": [
           {
            "colorbar": {
             "outlinewidth": 0,
             "ticks": ""
            },
            "type": "mesh3d"
           }
          ],
          "parcoords": [
           {
            "line": {
             "colorbar": {
              "outlinewidth": 0,
              "ticks": ""
             }
            },
            "type": "parcoords"
           }
          ],
          "pie": [
           {
            "automargin": true,
            "type": "pie"
           }
          ],
          "scatter": [
           {
            "marker": {
             "line": {
              "color": "#283442"
             }
            },
            "type": "scatter"
           }
          ],
          "scatter3d": [
           {
            "line": {
             "colorbar": {
              "outlinewidth": 0,
              "ticks": ""
             }
            },
            "marker": {
             "colorbar": {
              "outlinewidth": 0,
              "ticks": ""
             }
            },
            "type": "scatter3d"
           }
          ],
          "scattercarpet": [
           {
            "marker": {
             "colorbar": {
              "outlinewidth": 0,
              "ticks": ""
             }
            },
            "type": "scattercarpet"
           }
          ],
          "scattergeo": [
           {
            "marker": {
             "colorbar": {
              "outlinewidth": 0,
              "ticks": ""
             }
            },
            "type": "scattergeo"
           }
          ],
          "scattergl": [
           {
            "marker": {
             "line": {
              "color": "#283442"
             }
            },
            "type": "scattergl"
           }
          ],
          "scattermapbox": [
           {
            "marker": {
             "colorbar": {
              "outlinewidth": 0,
              "ticks": ""
             }
            },
            "type": "scattermapbox"
           }
          ],
          "scatterpolar": [
           {
            "marker": {
             "colorbar": {
              "outlinewidth": 0,
              "ticks": ""
             }
            },
            "type": "scatterpolar"
           }
          ],
          "scatterpolargl": [
           {
            "marker": {
             "colorbar": {
              "outlinewidth": 0,
              "ticks": ""
             }
            },
            "type": "scatterpolargl"
           }
          ],
          "scatterternary": [
           {
            "marker": {
             "colorbar": {
              "outlinewidth": 0,
              "ticks": ""
             }
            },
            "type": "scatterternary"
           }
          ],
          "surface": [
           {
            "colorbar": {
             "outlinewidth": 0,
             "ticks": ""
            },
            "colorscale": [
             [
              0,
              "#0d0887"
             ],
             [
              0.1111111111111111,
              "#46039f"
             ],
             [
              0.2222222222222222,
              "#7201a8"
             ],
             [
              0.3333333333333333,
              "#9c179e"
             ],
             [
              0.4444444444444444,
              "#bd3786"
             ],
             [
              0.5555555555555556,
              "#d8576b"
             ],
             [
              0.6666666666666666,
              "#ed7953"
             ],
             [
              0.7777777777777778,
              "#fb9f3a"
             ],
             [
              0.8888888888888888,
              "#fdca26"
             ],
             [
              1,
              "#f0f921"
             ]
            ],
            "type": "surface"
           }
          ],
          "table": [
           {
            "cells": {
             "fill": {
              "color": "#506784"
             },
             "line": {
              "color": "rgb(17,17,17)"
             }
            },
            "header": {
             "fill": {
              "color": "#2a3f5f"
             },
             "line": {
              "color": "rgb(17,17,17)"
             }
            },
            "type": "table"
           }
          ]
         },
         "layout": {
          "annotationdefaults": {
           "arrowcolor": "#f2f5fa",
           "arrowhead": 0,
           "arrowwidth": 1
          },
          "autotypenumbers": "strict",
          "coloraxis": {
           "colorbar": {
            "outlinewidth": 0,
            "ticks": ""
           }
          },
          "colorscale": {
           "diverging": [
            [
             0,
             "#8e0152"
            ],
            [
             0.1,
             "#c51b7d"
            ],
            [
             0.2,
             "#de77ae"
            ],
            [
             0.3,
             "#f1b6da"
            ],
            [
             0.4,
             "#fde0ef"
            ],
            [
             0.5,
             "#f7f7f7"
            ],
            [
             0.6,
             "#e6f5d0"
            ],
            [
             0.7,
             "#b8e186"
            ],
            [
             0.8,
             "#7fbc41"
            ],
            [
             0.9,
             "#4d9221"
            ],
            [
             1,
             "#276419"
            ]
           ],
           "sequential": [
            [
             0,
             "#0d0887"
            ],
            [
             0.1111111111111111,
             "#46039f"
            ],
            [
             0.2222222222222222,
             "#7201a8"
            ],
            [
             0.3333333333333333,
             "#9c179e"
            ],
            [
             0.4444444444444444,
             "#bd3786"
            ],
            [
             0.5555555555555556,
             "#d8576b"
            ],
            [
             0.6666666666666666,
             "#ed7953"
            ],
            [
             0.7777777777777778,
             "#fb9f3a"
            ],
            [
             0.8888888888888888,
             "#fdca26"
            ],
            [
             1,
             "#f0f921"
            ]
           ],
           "sequentialminus": [
            [
             0,
             "#0d0887"
            ],
            [
             0.1111111111111111,
             "#46039f"
            ],
            [
             0.2222222222222222,
             "#7201a8"
            ],
            [
             0.3333333333333333,
             "#9c179e"
            ],
            [
             0.4444444444444444,
             "#bd3786"
            ],
            [
             0.5555555555555556,
             "#d8576b"
            ],
            [
             0.6666666666666666,
             "#ed7953"
            ],
            [
             0.7777777777777778,
             "#fb9f3a"
            ],
            [
             0.8888888888888888,
             "#fdca26"
            ],
            [
             1,
             "#f0f921"
            ]
           ]
          },
          "colorway": [
           "#636efa",
           "#EF553B",
           "#00cc96",
           "#ab63fa",
           "#FFA15A",
           "#19d3f3",
           "#FF6692",
           "#B6E880",
           "#FF97FF",
           "#FECB52"
          ],
          "font": {
           "color": "#f2f5fa"
          },
          "geo": {
           "bgcolor": "rgb(17,17,17)",
           "lakecolor": "rgb(17,17,17)",
           "landcolor": "rgb(17,17,17)",
           "showlakes": true,
           "showland": true,
           "subunitcolor": "#506784"
          },
          "hoverlabel": {
           "align": "left"
          },
          "hovermode": "closest",
          "mapbox": {
           "style": "dark"
          },
          "paper_bgcolor": "rgb(17,17,17)",
          "plot_bgcolor": "rgb(17,17,17)",
          "polar": {
           "angularaxis": {
            "gridcolor": "#506784",
            "linecolor": "#506784",
            "ticks": ""
           },
           "bgcolor": "rgb(17,17,17)",
           "radialaxis": {
            "gridcolor": "#506784",
            "linecolor": "#506784",
            "ticks": ""
           }
          },
          "scene": {
           "xaxis": {
            "backgroundcolor": "rgb(17,17,17)",
            "gridcolor": "#506784",
            "gridwidth": 2,
            "linecolor": "#506784",
            "showbackground": true,
            "ticks": "",
            "zerolinecolor": "#C8D4E3"
           },
           "yaxis": {
            "backgroundcolor": "rgb(17,17,17)",
            "gridcolor": "#506784",
            "gridwidth": 2,
            "linecolor": "#506784",
            "showbackground": true,
            "ticks": "",
            "zerolinecolor": "#C8D4E3"
           },
           "zaxis": {
            "backgroundcolor": "rgb(17,17,17)",
            "gridcolor": "#506784",
            "gridwidth": 2,
            "linecolor": "#506784",
            "showbackground": true,
            "ticks": "",
            "zerolinecolor": "#C8D4E3"
           }
          },
          "shapedefaults": {
           "line": {
            "color": "#f2f5fa"
           }
          },
          "sliderdefaults": {
           "bgcolor": "#C8D4E3",
           "bordercolor": "rgb(17,17,17)",
           "borderwidth": 1,
           "tickwidth": 0
          },
          "ternary": {
           "aaxis": {
            "gridcolor": "#506784",
            "linecolor": "#506784",
            "ticks": ""
           },
           "baxis": {
            "gridcolor": "#506784",
            "linecolor": "#506784",
            "ticks": ""
           },
           "bgcolor": "rgb(17,17,17)",
           "caxis": {
            "gridcolor": "#506784",
            "linecolor": "#506784",
            "ticks": ""
           }
          },
          "title": {
           "x": 0.05
          },
          "updatemenudefaults": {
           "bgcolor": "#506784",
           "borderwidth": 0
          },
          "xaxis": {
           "automargin": true,
           "gridcolor": "#283442",
           "linecolor": "#506784",
           "ticks": "",
           "title": {
            "standoff": 15
           },
           "zerolinecolor": "#283442",
           "zerolinewidth": 2
          },
          "yaxis": {
           "automargin": true,
           "gridcolor": "#283442",
           "linecolor": "#506784",
           "ticks": "",
           "title": {
            "standoff": 15
           },
           "zerolinecolor": "#283442",
           "zerolinewidth": 2
          }
         }
        },
        "title": {
         "text": "Współczynniki DOP"
        },
        "xaxis": {
         "anchor": "y",
         "domain": [
          0,
          1
         ],
         "dtick": 1,
         "tick0": 0,
         "tickmode": "linear",
         "title": {
          "text": "godzina od wybranej daty"
         }
        },
        "yaxis": {
         "anchor": "x",
         "domain": [
          0,
          1
         ],
         "title": {
          "text": "value"
         }
        }
       }
      },
      "text/html": [
       "<div>                            <div id=\"9bfeb9e8-9d52-428a-b106-cbc0f10eeabf\" class=\"plotly-graph-div\" style=\"height:525px; width:100%;\"></div>            <script type=\"text/javascript\">                require([\"plotly\"], function(Plotly) {                    window.PLOTLYENV=window.PLOTLYENV || {};                                    if (document.getElementById(\"9bfeb9e8-9d52-428a-b106-cbc0f10eeabf\")) {                    Plotly.newPlot(                        \"9bfeb9e8-9d52-428a-b106-cbc0f10eeabf\",                        [{\"hovertemplate\":\"variable=GDOP<br>godzina od wybranej daty=%{x}<br>value=%{y}<extra></extra>\",\"legendgroup\":\"GDOP\",\"line\":{\"color\":\"#636efa\",\"dash\":\"solid\"},\"marker\":{\"symbol\":\"circle\"},\"mode\":\"lines\",\"name\":\"GDOP\",\"orientation\":\"v\",\"showlegend\":true,\"x\":[0,1,2,3,4,5,6,7,8,9,10,11,12,13,14,15,16,17,18,19,20,21,22,23],\"xaxis\":\"x\",\"y\":[2.2881065941826875,1.8998747724291056,1.848486928868121,1.934246847836042,2.172451212840377,2.180080846761741,1.9952418502565867,2.589499054767193,1.675113021279894,2.1443726153829186,2.1814093668890755,1.7257013584070187,1.9731594917541615,2.228326425101555,1.7672277247271204,1.9920711655016143,2.477777325986273,1.8800047968772806,2.449809392600222,2.313453053501213,1.6681870273799984,1.9198772149292194,2.020800594859434,1.9606508464578647],\"yaxis\":\"y\",\"type\":\"scatter\"},{\"hovertemplate\":\"variable=PDOP<br>godzina od wybranej daty=%{x}<br>value=%{y}<extra></extra>\",\"legendgroup\":\"PDOP\",\"line\":{\"color\":\"#EF553B\",\"dash\":\"solid\"},\"marker\":{\"symbol\":\"circle\"},\"mode\":\"lines\",\"name\":\"PDOP\",\"orientation\":\"v\",\"showlegend\":true,\"x\":[0,1,2,3,4,5,6,7,8,9,10,11,12,13,14,15,16,17,18,19,20,21,22,23],\"xaxis\":\"x\",\"y\":[1.9802088005866127,1.6894516605812666,1.6422257397419797,1.7152973151414221,1.9168697346514096,1.9373049769224373,1.7572242265976323,2.238108887724863,1.4983526217001064,1.93490389111254,1.9604329103244187,1.55724606823633,1.7614779214622016,1.9534938287772936,1.6061845202417346,1.7527471943930253,2.166995142388692,1.6685252513625437,2.1246110881059894,2.0005356343503813,1.488518071170936,1.7071202559492875,1.7679769913933305,1.7155396983940856],\"yaxis\":\"y\",\"type\":\"scatter\"},{\"hovertemplate\":\"variable=TDOP<br>godzina od wybranej daty=%{x}<br>value=%{y}<extra></extra>\",\"legendgroup\":\"TDOP\",\"line\":{\"color\":\"#00cc96\",\"dash\":\"solid\"},\"marker\":{\"symbol\":\"circle\"},\"mode\":\"lines\",\"name\":\"TDOP\",\"orientation\":\"v\",\"showlegend\":true,\"x\":[0,1,2,3,4,5,6,7,8,9,10,11,12,13,14,15,16,17,18,19,20,21,22,23],\"xaxis\":\"x\",\"y\":[1.1463877583181123,0.8690668774448526,0.8485272806016345,0.8939049105091061,1.0223280748121217,0.9998009425925461,0.9450677533773333,1.3024492164100536,0.7489613174963523,0.9243813313572118,0.9566867983140179,0.7436597752805517,0.8891309870321376,1.072054344580957,0.7370652060571191,0.9466915025341353,1.2014626627721305,0.8662802790362625,1.2196695390020003,1.161861526365515,0.753101527097424,0.8784468977303153,0.9787197771006934,0.9492498538055573],\"yaxis\":\"y\",\"type\":\"scatter\"},{\"hovertemplate\":\"variable=HDOP<br>godzina od wybranej daty=%{x}<br>value=%{y}<extra></extra>\",\"legendgroup\":\"HDOP\",\"line\":{\"color\":\"#ab63fa\",\"dash\":\"solid\"},\"marker\":{\"symbol\":\"circle\"},\"mode\":\"lines\",\"name\":\"HDOP\",\"orientation\":\"v\",\"showlegend\":true,\"x\":[0,1,2,3,4,5,6,7,8,9,10,11,12,13,14,15,16,17,18,19,20,21,22,23],\"xaxis\":\"x\",\"y\":[0.9198223599362811,0.807393295482208,1.0080998926016826,0.919777517906455,0.8990049920964073,1.1144554411355534,1.0180484883239516,1.1096938358943245,0.8914967159394189,1.1504747470157406,0.8989110023539301,0.918686520342207,0.8995110822430904,0.9038411675755893,1.1033994058259409,0.8932802801010397,0.9932037174182838,0.9689844951341322,1.146916169474604,1.0097318930550239,0.9251273769692545,0.9351022034059316,0.9358828280747014,1.043394925109687],\"yaxis\":\"y\",\"type\":\"scatter\"},{\"hovertemplate\":\"variable=VDOP<br>godzina od wybranej daty=%{x}<br>value=%{y}<extra></extra>\",\"legendgroup\":\"VDOP\",\"line\":{\"color\":\"#FFA15A\",\"dash\":\"solid\"},\"marker\":{\"symbol\":\"circle\"},\"mode\":\"lines\",\"name\":\"VDOP\",\"orientation\":\"v\",\"showlegend\":true,\"x\":[0,1,2,3,4,5,6,7,8,9,10,11,12,13,14,15,16,17,18,19,20,21,22,23],\"xaxis\":\"x\",\"y\":[1.7536116217914168,1.4840360439865263,1.2963949964449757,1.447844672913919,1.6929795048400036,1.5846575792049853,1.4322759014809139,1.9436334489535734,1.204281605117679,1.5557187806032027,1.7421986699943621,1.257390311072515,1.5144914264269251,1.7318225321511918,1.1671925566448458,1.5080361629069876,1.9259839882103613,1.358324542450769,1.7884506076211937,1.7270160185861625,1.1661155108240482,1.4282308768044938,1.4999553240717243,1.3617648427762483],\"yaxis\":\"y\",\"type\":\"scatter\"}],                        {\"template\":{\"data\":{\"barpolar\":[{\"marker\":{\"line\":{\"color\":\"rgb(17,17,17)\",\"width\":0.5},\"pattern\":{\"fillmode\":\"overlay\",\"size\":10,\"solidity\":0.2}},\"type\":\"barpolar\"}],\"bar\":[{\"error_x\":{\"color\":\"#f2f5fa\"},\"error_y\":{\"color\":\"#f2f5fa\"},\"marker\":{\"line\":{\"color\":\"rgb(17,17,17)\",\"width\":0.5},\"pattern\":{\"fillmode\":\"overlay\",\"size\":10,\"solidity\":0.2}},\"type\":\"bar\"}],\"carpet\":[{\"aaxis\":{\"endlinecolor\":\"#A2B1C6\",\"gridcolor\":\"#506784\",\"linecolor\":\"#506784\",\"minorgridcolor\":\"#506784\",\"startlinecolor\":\"#A2B1C6\"},\"baxis\":{\"endlinecolor\":\"#A2B1C6\",\"gridcolor\":\"#506784\",\"linecolor\":\"#506784\",\"minorgridcolor\":\"#506784\",\"startlinecolor\":\"#A2B1C6\"},\"type\":\"carpet\"}],\"choropleth\":[{\"colorbar\":{\"outlinewidth\":0,\"ticks\":\"\"},\"type\":\"choropleth\"}],\"contourcarpet\":[{\"colorbar\":{\"outlinewidth\":0,\"ticks\":\"\"},\"type\":\"contourcarpet\"}],\"contour\":[{\"colorbar\":{\"outlinewidth\":0,\"ticks\":\"\"},\"colorscale\":[[0.0,\"#0d0887\"],[0.1111111111111111,\"#46039f\"],[0.2222222222222222,\"#7201a8\"],[0.3333333333333333,\"#9c179e\"],[0.4444444444444444,\"#bd3786\"],[0.5555555555555556,\"#d8576b\"],[0.6666666666666666,\"#ed7953\"],[0.7777777777777778,\"#fb9f3a\"],[0.8888888888888888,\"#fdca26\"],[1.0,\"#f0f921\"]],\"type\":\"contour\"}],\"heatmapgl\":[{\"colorbar\":{\"outlinewidth\":0,\"ticks\":\"\"},\"colorscale\":[[0.0,\"#0d0887\"],[0.1111111111111111,\"#46039f\"],[0.2222222222222222,\"#7201a8\"],[0.3333333333333333,\"#9c179e\"],[0.4444444444444444,\"#bd3786\"],[0.5555555555555556,\"#d8576b\"],[0.6666666666666666,\"#ed7953\"],[0.7777777777777778,\"#fb9f3a\"],[0.8888888888888888,\"#fdca26\"],[1.0,\"#f0f921\"]],\"type\":\"heatmapgl\"}],\"heatmap\":[{\"colorbar\":{\"outlinewidth\":0,\"ticks\":\"\"},\"colorscale\":[[0.0,\"#0d0887\"],[0.1111111111111111,\"#46039f\"],[0.2222222222222222,\"#7201a8\"],[0.3333333333333333,\"#9c179e\"],[0.4444444444444444,\"#bd3786\"],[0.5555555555555556,\"#d8576b\"],[0.6666666666666666,\"#ed7953\"],[0.7777777777777778,\"#fb9f3a\"],[0.8888888888888888,\"#fdca26\"],[1.0,\"#f0f921\"]],\"type\":\"heatmap\"}],\"histogram2dcontour\":[{\"colorbar\":{\"outlinewidth\":0,\"ticks\":\"\"},\"colorscale\":[[0.0,\"#0d0887\"],[0.1111111111111111,\"#46039f\"],[0.2222222222222222,\"#7201a8\"],[0.3333333333333333,\"#9c179e\"],[0.4444444444444444,\"#bd3786\"],[0.5555555555555556,\"#d8576b\"],[0.6666666666666666,\"#ed7953\"],[0.7777777777777778,\"#fb9f3a\"],[0.8888888888888888,\"#fdca26\"],[1.0,\"#f0f921\"]],\"type\":\"histogram2dcontour\"}],\"histogram2d\":[{\"colorbar\":{\"outlinewidth\":0,\"ticks\":\"\"},\"colorscale\":[[0.0,\"#0d0887\"],[0.1111111111111111,\"#46039f\"],[0.2222222222222222,\"#7201a8\"],[0.3333333333333333,\"#9c179e\"],[0.4444444444444444,\"#bd3786\"],[0.5555555555555556,\"#d8576b\"],[0.6666666666666666,\"#ed7953\"],[0.7777777777777778,\"#fb9f3a\"],[0.8888888888888888,\"#fdca26\"],[1.0,\"#f0f921\"]],\"type\":\"histogram2d\"}],\"histogram\":[{\"marker\":{\"pattern\":{\"fillmode\":\"overlay\",\"size\":10,\"solidity\":0.2}},\"type\":\"histogram\"}],\"mesh3d\":[{\"colorbar\":{\"outlinewidth\":0,\"ticks\":\"\"},\"type\":\"mesh3d\"}],\"parcoords\":[{\"line\":{\"colorbar\":{\"outlinewidth\":0,\"ticks\":\"\"}},\"type\":\"parcoords\"}],\"pie\":[{\"automargin\":true,\"type\":\"pie\"}],\"scatter3d\":[{\"line\":{\"colorbar\":{\"outlinewidth\":0,\"ticks\":\"\"}},\"marker\":{\"colorbar\":{\"outlinewidth\":0,\"ticks\":\"\"}},\"type\":\"scatter3d\"}],\"scattercarpet\":[{\"marker\":{\"colorbar\":{\"outlinewidth\":0,\"ticks\":\"\"}},\"type\":\"scattercarpet\"}],\"scattergeo\":[{\"marker\":{\"colorbar\":{\"outlinewidth\":0,\"ticks\":\"\"}},\"type\":\"scattergeo\"}],\"scattergl\":[{\"marker\":{\"line\":{\"color\":\"#283442\"}},\"type\":\"scattergl\"}],\"scattermapbox\":[{\"marker\":{\"colorbar\":{\"outlinewidth\":0,\"ticks\":\"\"}},\"type\":\"scattermapbox\"}],\"scatterpolargl\":[{\"marker\":{\"colorbar\":{\"outlinewidth\":0,\"ticks\":\"\"}},\"type\":\"scatterpolargl\"}],\"scatterpolar\":[{\"marker\":{\"colorbar\":{\"outlinewidth\":0,\"ticks\":\"\"}},\"type\":\"scatterpolar\"}],\"scatter\":[{\"marker\":{\"line\":{\"color\":\"#283442\"}},\"type\":\"scatter\"}],\"scatterternary\":[{\"marker\":{\"colorbar\":{\"outlinewidth\":0,\"ticks\":\"\"}},\"type\":\"scatterternary\"}],\"surface\":[{\"colorbar\":{\"outlinewidth\":0,\"ticks\":\"\"},\"colorscale\":[[0.0,\"#0d0887\"],[0.1111111111111111,\"#46039f\"],[0.2222222222222222,\"#7201a8\"],[0.3333333333333333,\"#9c179e\"],[0.4444444444444444,\"#bd3786\"],[0.5555555555555556,\"#d8576b\"],[0.6666666666666666,\"#ed7953\"],[0.7777777777777778,\"#fb9f3a\"],[0.8888888888888888,\"#fdca26\"],[1.0,\"#f0f921\"]],\"type\":\"surface\"}],\"table\":[{\"cells\":{\"fill\":{\"color\":\"#506784\"},\"line\":{\"color\":\"rgb(17,17,17)\"}},\"header\":{\"fill\":{\"color\":\"#2a3f5f\"},\"line\":{\"color\":\"rgb(17,17,17)\"}},\"type\":\"table\"}]},\"layout\":{\"annotationdefaults\":{\"arrowcolor\":\"#f2f5fa\",\"arrowhead\":0,\"arrowwidth\":1},\"autotypenumbers\":\"strict\",\"coloraxis\":{\"colorbar\":{\"outlinewidth\":0,\"ticks\":\"\"}},\"colorscale\":{\"diverging\":[[0,\"#8e0152\"],[0.1,\"#c51b7d\"],[0.2,\"#de77ae\"],[0.3,\"#f1b6da\"],[0.4,\"#fde0ef\"],[0.5,\"#f7f7f7\"],[0.6,\"#e6f5d0\"],[0.7,\"#b8e186\"],[0.8,\"#7fbc41\"],[0.9,\"#4d9221\"],[1,\"#276419\"]],\"sequential\":[[0.0,\"#0d0887\"],[0.1111111111111111,\"#46039f\"],[0.2222222222222222,\"#7201a8\"],[0.3333333333333333,\"#9c179e\"],[0.4444444444444444,\"#bd3786\"],[0.5555555555555556,\"#d8576b\"],[0.6666666666666666,\"#ed7953\"],[0.7777777777777778,\"#fb9f3a\"],[0.8888888888888888,\"#fdca26\"],[1.0,\"#f0f921\"]],\"sequentialminus\":[[0.0,\"#0d0887\"],[0.1111111111111111,\"#46039f\"],[0.2222222222222222,\"#7201a8\"],[0.3333333333333333,\"#9c179e\"],[0.4444444444444444,\"#bd3786\"],[0.5555555555555556,\"#d8576b\"],[0.6666666666666666,\"#ed7953\"],[0.7777777777777778,\"#fb9f3a\"],[0.8888888888888888,\"#fdca26\"],[1.0,\"#f0f921\"]]},\"colorway\":[\"#636efa\",\"#EF553B\",\"#00cc96\",\"#ab63fa\",\"#FFA15A\",\"#19d3f3\",\"#FF6692\",\"#B6E880\",\"#FF97FF\",\"#FECB52\"],\"font\":{\"color\":\"#f2f5fa\"},\"geo\":{\"bgcolor\":\"rgb(17,17,17)\",\"lakecolor\":\"rgb(17,17,17)\",\"landcolor\":\"rgb(17,17,17)\",\"showlakes\":true,\"showland\":true,\"subunitcolor\":\"#506784\"},\"hoverlabel\":{\"align\":\"left\"},\"hovermode\":\"closest\",\"mapbox\":{\"style\":\"dark\"},\"paper_bgcolor\":\"rgb(17,17,17)\",\"plot_bgcolor\":\"rgb(17,17,17)\",\"polar\":{\"angularaxis\":{\"gridcolor\":\"#506784\",\"linecolor\":\"#506784\",\"ticks\":\"\"},\"bgcolor\":\"rgb(17,17,17)\",\"radialaxis\":{\"gridcolor\":\"#506784\",\"linecolor\":\"#506784\",\"ticks\":\"\"}},\"scene\":{\"xaxis\":{\"backgroundcolor\":\"rgb(17,17,17)\",\"gridcolor\":\"#506784\",\"gridwidth\":2,\"linecolor\":\"#506784\",\"showbackground\":true,\"ticks\":\"\",\"zerolinecolor\":\"#C8D4E3\"},\"yaxis\":{\"backgroundcolor\":\"rgb(17,17,17)\",\"gridcolor\":\"#506784\",\"gridwidth\":2,\"linecolor\":\"#506784\",\"showbackground\":true,\"ticks\":\"\",\"zerolinecolor\":\"#C8D4E3\"},\"zaxis\":{\"backgroundcolor\":\"rgb(17,17,17)\",\"gridcolor\":\"#506784\",\"gridwidth\":2,\"linecolor\":\"#506784\",\"showbackground\":true,\"ticks\":\"\",\"zerolinecolor\":\"#C8D4E3\"}},\"shapedefaults\":{\"line\":{\"color\":\"#f2f5fa\"}},\"sliderdefaults\":{\"bgcolor\":\"#C8D4E3\",\"bordercolor\":\"rgb(17,17,17)\",\"borderwidth\":1,\"tickwidth\":0},\"ternary\":{\"aaxis\":{\"gridcolor\":\"#506784\",\"linecolor\":\"#506784\",\"ticks\":\"\"},\"baxis\":{\"gridcolor\":\"#506784\",\"linecolor\":\"#506784\",\"ticks\":\"\"},\"bgcolor\":\"rgb(17,17,17)\",\"caxis\":{\"gridcolor\":\"#506784\",\"linecolor\":\"#506784\",\"ticks\":\"\"}},\"title\":{\"x\":0.05},\"updatemenudefaults\":{\"bgcolor\":\"#506784\",\"borderwidth\":0},\"xaxis\":{\"automargin\":true,\"gridcolor\":\"#283442\",\"linecolor\":\"#506784\",\"ticks\":\"\",\"title\":{\"standoff\":15},\"zerolinecolor\":\"#283442\",\"zerolinewidth\":2},\"yaxis\":{\"automargin\":true,\"gridcolor\":\"#283442\",\"linecolor\":\"#506784\",\"ticks\":\"\",\"title\":{\"standoff\":15},\"zerolinecolor\":\"#283442\",\"zerolinewidth\":2}}},\"xaxis\":{\"anchor\":\"y\",\"domain\":[0.0,1.0],\"title\":{\"text\":\"godzina od wybranej daty\"},\"tickmode\":\"linear\",\"tick0\":0,\"dtick\":1},\"yaxis\":{\"anchor\":\"x\",\"domain\":[0.0,1.0],\"title\":{\"text\":\"value\"}},\"legend\":{\"title\":{\"text\":\"variable\"},\"tracegroupgap\":0},\"title\":{\"text\":\"Wsp\\u00f3\\u0142czynniki DOP\"},\"hovermode\":\"closest\"},                        {\"responsive\": true}                    ).then(function(){\n",
       "                            \n",
       "var gd = document.getElementById('9bfeb9e8-9d52-428a-b106-cbc0f10eeabf');\n",
       "var x = new MutationObserver(function (mutations, observer) {{\n",
       "        var display = window.getComputedStyle(gd).display;\n",
       "        if (!display || display === 'none') {{\n",
       "            console.log([gd, 'removed!']);\n",
       "            Plotly.purge(gd);\n",
       "            observer.disconnect();\n",
       "        }}\n",
       "}});\n",
       "\n",
       "// Listen for the removal of the full notebook cells\n",
       "var notebookContainer = gd.closest('#notebook-container');\n",
       "if (notebookContainer) {{\n",
       "    x.observe(notebookContainer, {childList: true});\n",
       "}}\n",
       "\n",
       "// Listen for the clearing of the current output cell\n",
       "var outputEl = gd.closest('.output');\n",
       "if (outputEl) {{\n",
       "    x.observe(outputEl, {childList: true});\n",
       "}}\n",
       "\n",
       "                        })                };                });            </script>        </div>"
      ]
     },
     "metadata": {},
     "output_type": "display_data"
    }
   ],
   "source": [
    "fig = px.line(dopdf, x='h', y=['GDOP', 'PDOP', 'TDOP', 'HDOP', 'VDOP'], title='Współczynniki DOP', labels={'h':'godzina od wybranej daty'}, template='plotly_dark')\n",
    "fig.update_layout(hovermode=\"closest\", xaxis = dict(tickmode = 'linear', tick0=0, dtick=1))\n",
    "fig.show()"
   ]
  },
  {
   "cell_type": "markdown",
   "id": "41720b0a",
   "metadata": {},
   "source": [
    "## Wyszczególnienie widocznych satelitów"
   ]
  },
  {
   "cell_type": "code",
   "execution_count": 542,
   "id": "eab9b72f",
   "metadata": {},
   "outputs": [],
   "source": [
    "godzinyyy = []\n",
    "numeryyy = []\n",
    "useless = []\n",
    "for k, v in jakie_widoczne.items():\n",
    "    for i in range(len(v)):\n",
    "        godzinyyy.append(k)\n",
    "        useless.append(1)\n",
    "    numeryyy.extend(v)"
   ]
  },
  {
   "cell_type": "code",
   "execution_count": 543,
   "id": "de0408db",
   "metadata": {},
   "outputs": [],
   "source": [
    "jakiedf = pd.DataFrame(list(zip(godzinyyy, numeryyy, useless)), columns=['h', 'PRN', 'widoczne'])"
   ]
  },
  {
   "cell_type": "code",
   "execution_count": 544,
   "id": "b24cb1f6",
   "metadata": {},
   "outputs": [
    {
     "data": {
      "application/vnd.plotly.v1+json": {
       "config": {
        "plotlyServerURL": "https://plot.ly"
       },
       "data": [
        {
         "alignmentgroup": "True",
         "hovertemplate": "PRN=1.0<br>godzina od wybranej daty=%{x}<br>liczba widocznych satelitów=%{y}<extra></extra>",
         "legendgroup": "1.0",
         "marker": {
          "color": "#636efa",
          "pattern": {
           "shape": ""
          }
         },
         "name": "1.0",
         "offsetgroup": "1.0",
         "orientation": "v",
         "showlegend": true,
         "textposition": "auto",
         "type": "bar",
         "x": [
          0,
          1,
          2,
          10,
          21,
          22,
          23
         ],
         "xaxis": "x",
         "y": [
          1,
          1,
          1,
          1,
          1,
          1,
          1
         ],
         "yaxis": "y"
        },
        {
         "alignmentgroup": "True",
         "hovertemplate": "PRN=3.0<br>godzina od wybranej daty=%{x}<br>liczba widocznych satelitów=%{y}<extra></extra>",
         "legendgroup": "3.0",
         "marker": {
          "color": "#EF553B",
          "pattern": {
           "shape": ""
          }
         },
         "name": "3.0",
         "offsetgroup": "3.0",
         "orientation": "v",
         "showlegend": true,
         "textposition": "auto",
         "type": "bar",
         "x": [
          0,
          1,
          2,
          3,
          22,
          23
         ],
         "xaxis": "x",
         "y": [
          1,
          1,
          1,
          1,
          1,
          1
         ],
         "yaxis": "y"
        },
        {
         "alignmentgroup": "True",
         "hovertemplate": "PRN=4.0<br>godzina od wybranej daty=%{x}<br>liczba widocznych satelitów=%{y}<extra></extra>",
         "legendgroup": "4.0",
         "marker": {
          "color": "#00cc96",
          "pattern": {
           "shape": ""
          }
         },
         "name": "4.0",
         "offsetgroup": "4.0",
         "orientation": "v",
         "showlegend": true,
         "textposition": "auto",
         "type": "bar",
         "x": [
          0,
          1,
          2,
          3,
          4,
          5
         ],
         "xaxis": "x",
         "y": [
          1,
          1,
          1,
          1,
          1,
          1
         ],
         "yaxis": "y"
        },
        {
         "alignmentgroup": "True",
         "hovertemplate": "PRN=17.0<br>godzina od wybranej daty=%{x}<br>liczba widocznych satelitów=%{y}<extra></extra>",
         "legendgroup": "17.0",
         "marker": {
          "color": "#ab63fa",
          "pattern": {
           "shape": ""
          }
         },
         "name": "17.0",
         "offsetgroup": "17.0",
         "orientation": "v",
         "showlegend": true,
         "textposition": "auto",
         "type": "bar",
         "x": [
          0,
          1,
          2,
          8,
          9,
          10,
          11,
          12,
          23
         ],
         "xaxis": "x",
         "y": [
          1,
          1,
          1,
          1,
          1,
          1,
          1,
          1,
          1
         ],
         "yaxis": "y"
        },
        {
         "alignmentgroup": "True",
         "hovertemplate": "PRN=19.0<br>godzina od wybranej daty=%{x}<br>liczba widocznych satelitów=%{y}<extra></extra>",
         "legendgroup": "19.0",
         "marker": {
          "color": "#FFA15A",
          "pattern": {
           "shape": ""
          }
         },
         "name": "19.0",
         "offsetgroup": "19.0",
         "orientation": "v",
         "showlegend": true,
         "textposition": "auto",
         "type": "bar",
         "x": [
          0,
          1,
          2,
          9,
          10,
          11,
          12
         ],
         "xaxis": "x",
         "y": [
          1,
          1,
          1,
          1,
          1,
          1,
          1
         ],
         "yaxis": "y"
        },
        {
         "alignmentgroup": "True",
         "hovertemplate": "PRN=21.0<br>godzina od wybranej daty=%{x}<br>liczba widocznych satelitów=%{y}<extra></extra>",
         "legendgroup": "21.0",
         "marker": {
          "color": "#19d3f3",
          "pattern": {
           "shape": ""
          }
         },
         "name": "21.0",
         "offsetgroup": "21.0",
         "orientation": "v",
         "showlegend": true,
         "textposition": "auto",
         "type": "bar",
         "x": [
          0,
          1,
          20,
          21,
          22,
          23
         ],
         "xaxis": "x",
         "y": [
          1,
          1,
          1,
          1,
          1,
          1
         ],
         "yaxis": "y"
        },
        {
         "alignmentgroup": "True",
         "hovertemplate": "PRN=22.0<br>godzina od wybranej daty=%{x}<br>liczba widocznych satelitów=%{y}<extra></extra>",
         "legendgroup": "22.0",
         "marker": {
          "color": "#FF6692",
          "pattern": {
           "shape": ""
          }
         },
         "name": "22.0",
         "offsetgroup": "22.0",
         "orientation": "v",
         "showlegend": true,
         "textposition": "auto",
         "type": "bar",
         "x": [
          0,
          1,
          12,
          13,
          14,
          21,
          22,
          23
         ],
         "xaxis": "x",
         "y": [
          1,
          1,
          1,
          1,
          1,
          1,
          1,
          1
         ],
         "yaxis": "y"
        },
        {
         "alignmentgroup": "True",
         "hovertemplate": "PRN=31.0<br>godzina od wybranej daty=%{x}<br>liczba widocznych satelitów=%{y}<extra></extra>",
         "legendgroup": "31.0",
         "marker": {
          "color": "#B6E880",
          "pattern": {
           "shape": ""
          }
         },
         "name": "31.0",
         "offsetgroup": "31.0",
         "orientation": "v",
         "showlegend": true,
         "textposition": "auto",
         "type": "bar",
         "x": [
          0,
          1,
          2,
          13,
          14,
          15,
          16,
          17,
          23
         ],
         "xaxis": "x",
         "y": [
          1,
          1,
          1,
          1,
          1,
          1,
          1,
          1,
          1
         ],
         "yaxis": "y"
        },
        {
         "alignmentgroup": "True",
         "hovertemplate": "PRN=32.0<br>godzina od wybranej daty=%{x}<br>liczba widocznych satelitów=%{y}<extra></extra>",
         "legendgroup": "32.0",
         "marker": {
          "color": "#FF97FF",
          "pattern": {
           "shape": ""
          }
         },
         "name": "32.0",
         "offsetgroup": "32.0",
         "orientation": "v",
         "showlegend": true,
         "textposition": "auto",
         "type": "bar",
         "x": [
          0,
          11,
          12,
          13,
          14,
          20,
          21,
          22,
          23
         ],
         "xaxis": "x",
         "y": [
          1,
          1,
          1,
          1,
          1,
          1,
          1,
          1,
          1
         ],
         "yaxis": "y"
        },
        {
         "alignmentgroup": "True",
         "hovertemplate": "PRN=6.0<br>godzina od wybranej daty=%{x}<br>liczba widocznych satelitów=%{y}<extra></extra>",
         "legendgroup": "6.0",
         "marker": {
          "color": "#FECB52",
          "pattern": {
           "shape": ""
          }
         },
         "name": "6.0",
         "offsetgroup": "6.0",
         "orientation": "v",
         "showlegend": true,
         "textposition": "auto",
         "type": "bar",
         "x": [
          1,
          2,
          3,
          4,
          11,
          12,
          13,
          14
         ],
         "xaxis": "x",
         "y": [
          1,
          1,
          1,
          1,
          1,
          1,
          1,
          1
         ],
         "yaxis": "y"
        },
        {
         "alignmentgroup": "True",
         "hovertemplate": "PRN=9.0<br>godzina od wybranej daty=%{x}<br>liczba widocznych satelitów=%{y}<extra></extra>",
         "legendgroup": "9.0",
         "marker": {
          "color": "#636efa",
          "pattern": {
           "shape": ""
          }
         },
         "name": "9.0",
         "offsetgroup": "9.0",
         "orientation": "v",
         "showlegend": true,
         "textposition": "auto",
         "type": "bar",
         "x": [
          1,
          2,
          3,
          4,
          5,
          6
         ],
         "xaxis": "x",
         "y": [
          1,
          1,
          1,
          1,
          1,
          1
         ],
         "yaxis": "y"
        },
        {
         "alignmentgroup": "True",
         "hovertemplate": "PRN=2.0<br>godzina od wybranej daty=%{x}<br>liczba widocznych satelitów=%{y}<extra></extra>",
         "legendgroup": "2.0",
         "marker": {
          "color": "#EF553B",
          "pattern": {
           "shape": ""
          }
         },
         "name": "2.0",
         "offsetgroup": "2.0",
         "orientation": "v",
         "showlegend": true,
         "textposition": "auto",
         "type": "bar",
         "x": [
          3,
          4,
          5,
          12,
          13,
          14,
          15
         ],
         "xaxis": "x",
         "y": [
          1,
          1,
          1,
          1,
          1,
          1,
          1
         ],
         "yaxis": "y"
        },
        {
         "alignmentgroup": "True",
         "hovertemplate": "PRN=7.0<br>godzina od wybranej daty=%{x}<br>liczba widocznych satelitów=%{y}<extra></extra>",
         "legendgroup": "7.0",
         "marker": {
          "color": "#00cc96",
          "pattern": {
           "shape": ""
          }
         },
         "name": "7.0",
         "offsetgroup": "7.0",
         "orientation": "v",
         "showlegend": true,
         "textposition": "auto",
         "type": "bar",
         "x": [
          3,
          4,
          5,
          6,
          7,
          8
         ],
         "xaxis": "x",
         "y": [
          1,
          1,
          1,
          1,
          1,
          1
         ],
         "yaxis": "y"
        },
        {
         "alignmentgroup": "True",
         "hovertemplate": "PRN=11.0<br>godzina od wybranej daty=%{x}<br>liczba widocznych satelitów=%{y}<extra></extra>",
         "legendgroup": "11.0",
         "marker": {
          "color": "#ab63fa",
          "pattern": {
           "shape": ""
          }
         },
         "name": "11.0",
         "offsetgroup": "11.0",
         "orientation": "v",
         "showlegend": true,
         "textposition": "auto",
         "type": "bar",
         "x": [
          3,
          4,
          5,
          12,
          13,
          14,
          15
         ],
         "xaxis": "x",
         "y": [
          1,
          1,
          1,
          1,
          1,
          1,
          1
         ],
         "yaxis": "y"
        },
        {
         "alignmentgroup": "True",
         "hovertemplate": "PRN=16.0<br>godzina od wybranej daty=%{x}<br>liczba widocznych satelitów=%{y}<extra></extra>",
         "legendgroup": "16.0",
         "marker": {
          "color": "#FFA15A",
          "pattern": {
           "shape": ""
          }
         },
         "name": "16.0",
         "offsetgroup": "16.0",
         "orientation": "v",
         "showlegend": true,
         "textposition": "auto",
         "type": "bar",
         "x": [
          3,
          4,
          5,
          16,
          17,
          18,
          19,
          20
         ],
         "xaxis": "x",
         "y": [
          1,
          1,
          1,
          1,
          1,
          1,
          1,
          1
         ],
         "yaxis": "y"
        },
        {
         "alignmentgroup": "True",
         "hovertemplate": "PRN=26.0<br>godzina od wybranej daty=%{x}<br>liczba widocznych satelitów=%{y}<extra></extra>",
         "legendgroup": "26.0",
         "marker": {
          "color": "#19d3f3",
          "pattern": {
           "shape": ""
          }
         },
         "name": "26.0",
         "offsetgroup": "26.0",
         "orientation": "v",
         "showlegend": true,
         "textposition": "auto",
         "type": "bar",
         "x": [
          3,
          4,
          15,
          16,
          17,
          18,
          19
         ],
         "xaxis": "x",
         "y": [
          1,
          1,
          1,
          1,
          1,
          1,
          1
         ],
         "yaxis": "y"
        },
        {
         "alignmentgroup": "True",
         "hovertemplate": "PRN=20.0<br>godzina od wybranej daty=%{x}<br>liczba widocznych satelitów=%{y}<extra></extra>",
         "legendgroup": "20.0",
         "marker": {
          "color": "#FF6692",
          "pattern": {
           "shape": ""
          }
         },
         "name": "20.0",
         "offsetgroup": "20.0",
         "orientation": "v",
         "showlegend": true,
         "textposition": "auto",
         "type": "bar",
         "x": [
          4,
          5,
          6,
          7,
          14,
          15,
          16
         ],
         "xaxis": "x",
         "y": [
          1,
          1,
          1,
          1,
          1,
          1,
          1
         ],
         "yaxis": "y"
        },
        {
         "alignmentgroup": "True",
         "hovertemplate": "PRN=30.0<br>godzina od wybranej daty=%{x}<br>liczba widocznych satelitów=%{y}<extra></extra>",
         "legendgroup": "30.0",
         "marker": {
          "color": "#B6E880",
          "pattern": {
           "shape": ""
          }
         },
         "name": "30.0",
         "offsetgroup": "30.0",
         "orientation": "v",
         "showlegend": true,
         "textposition": "auto",
         "type": "bar",
         "x": [
          4,
          5,
          6,
          7,
          8,
          9
         ],
         "xaxis": "x",
         "y": [
          1,
          1,
          1,
          1,
          1,
          1
         ],
         "yaxis": "y"
        },
        {
         "alignmentgroup": "True",
         "hovertemplate": "PRN=5.0<br>godzina od wybranej daty=%{x}<br>liczba widocznych satelitów=%{y}<extra></extra>",
         "legendgroup": "5.0",
         "marker": {
          "color": "#FF97FF",
          "pattern": {
           "shape": ""
          }
         },
         "name": "5.0",
         "offsetgroup": "5.0",
         "orientation": "v",
         "showlegend": true,
         "textposition": "auto",
         "type": "bar",
         "x": [
          5,
          6,
          7,
          8,
          15,
          16,
          17
         ],
         "xaxis": "x",
         "y": [
          1,
          1,
          1,
          1,
          1,
          1,
          1
         ],
         "yaxis": "y"
        },
        {
         "alignmentgroup": "True",
         "hovertemplate": "PRN=13.0<br>godzina od wybranej daty=%{x}<br>liczba widocznych satelitów=%{y}<extra></extra>",
         "legendgroup": "13.0",
         "marker": {
          "color": "#FECB52",
          "pattern": {
           "shape": ""
          }
         },
         "name": "13.0",
         "offsetgroup": "13.0",
         "orientation": "v",
         "showlegend": true,
         "textposition": "auto",
         "type": "bar",
         "x": [
          6,
          7,
          8,
          9,
          10
         ],
         "xaxis": "x",
         "y": [
          1,
          1,
          1,
          1,
          1
         ],
         "yaxis": "y"
        },
        {
         "alignmentgroup": "True",
         "hovertemplate": "PRN=14.0<br>godzina od wybranej daty=%{x}<br>liczba widocznych satelitów=%{y}<extra></extra>",
         "legendgroup": "14.0",
         "marker": {
          "color": "#636efa",
          "pattern": {
           "shape": ""
          }
         },
         "name": "14.0",
         "offsetgroup": "14.0",
         "orientation": "v",
         "showlegend": true,
         "textposition": "auto",
         "type": "bar",
         "x": [
          6,
          7,
          8,
          9,
          10,
          21,
          22
         ],
         "xaxis": "x",
         "y": [
          1,
          1,
          1,
          1,
          1,
          1,
          1
         ],
         "yaxis": "y"
        },
        {
         "alignmentgroup": "True",
         "hovertemplate": "PRN=27.0<br>godzina od wybranej daty=%{x}<br>liczba widocznych satelitów=%{y}<extra></extra>",
         "legendgroup": "27.0",
         "marker": {
          "color": "#EF553B",
          "pattern": {
           "shape": ""
          }
         },
         "name": "27.0",
         "offsetgroup": "27.0",
         "orientation": "v",
         "showlegend": true,
         "textposition": "auto",
         "type": "bar",
         "x": [
          6,
          17,
          18,
          19,
          20,
          21,
          22
         ],
         "xaxis": "x",
         "y": [
          1,
          1,
          1,
          1,
          1,
          1,
          1
         ],
         "yaxis": "y"
        },
        {
         "alignmentgroup": "True",
         "hovertemplate": "PRN=8.0<br>godzina od wybranej daty=%{x}<br>liczba widocznych satelitów=%{y}<extra></extra>",
         "legendgroup": "8.0",
         "marker": {
          "color": "#00cc96",
          "pattern": {
           "shape": ""
          }
         },
         "name": "8.0",
         "offsetgroup": "8.0",
         "orientation": "v",
         "showlegend": true,
         "textposition": "auto",
         "type": "bar",
         "x": [
          7,
          8,
          19,
          20,
          21,
          22,
          23
         ],
         "xaxis": "x",
         "y": [
          1,
          1,
          1,
          1,
          1,
          1,
          1
         ],
         "yaxis": "y"
        },
        {
         "alignmentgroup": "True",
         "hovertemplate": "PRN=15.0<br>godzina od wybranej daty=%{x}<br>liczba widocznych satelitów=%{y}<extra></extra>",
         "legendgroup": "15.0",
         "marker": {
          "color": "#ab63fa",
          "pattern": {
           "shape": ""
          }
         },
         "name": "15.0",
         "offsetgroup": "15.0",
         "orientation": "v",
         "showlegend": true,
         "textposition": "auto",
         "type": "bar",
         "x": [
          7,
          8,
          9,
          10,
          11,
          18,
          19,
          20
         ],
         "xaxis": "x",
         "y": [
          1,
          1,
          1,
          1,
          1,
          1,
          1,
          1
         ],
         "yaxis": "y"
        },
        {
         "alignmentgroup": "True",
         "hovertemplate": "PRN=23.0<br>godzina od wybranej daty=%{x}<br>liczba widocznych satelitów=%{y}<extra></extra>",
         "legendgroup": "23.0",
         "marker": {
          "color": "#FFA15A",
          "pattern": {
           "shape": ""
          }
         },
         "name": "23.0",
         "offsetgroup": "23.0",
         "orientation": "v",
         "showlegend": true,
         "textposition": "auto",
         "type": "bar",
         "x": [
          8,
          9,
          10,
          17,
          18,
          19,
          20,
          21
         ],
         "xaxis": "x",
         "y": [
          1,
          1,
          1,
          1,
          1,
          1,
          1,
          1
         ],
         "yaxis": "y"
        },
        {
         "alignmentgroup": "True",
         "hovertemplate": "PRN=10.0<br>godzina od wybranej daty=%{x}<br>liczba widocznych satelitów=%{y}<extra></extra>",
         "legendgroup": "10.0",
         "marker": {
          "color": "#19d3f3",
          "pattern": {
           "shape": ""
          }
         },
         "name": "10.0",
         "offsetgroup": "10.0",
         "orientation": "v",
         "showlegend": true,
         "textposition": "auto",
         "type": "bar",
         "x": [
          9,
          10,
          18,
          19,
          20,
          21,
          22
         ],
         "xaxis": "x",
         "y": [
          1,
          1,
          1,
          1,
          1,
          1,
          1
         ],
         "yaxis": "y"
        },
        {
         "alignmentgroup": "True",
         "hovertemplate": "PRN=24.0<br>godzina od wybranej daty=%{x}<br>liczba widocznych satelitów=%{y}<extra></extra>",
         "legendgroup": "24.0",
         "marker": {
          "color": "#FF6692",
          "pattern": {
           "shape": ""
          }
         },
         "name": "24.0",
         "offsetgroup": "24.0",
         "orientation": "v",
         "showlegend": true,
         "textposition": "auto",
         "type": "bar",
         "x": [
          9,
          10,
          11,
          12,
          13
         ],
         "xaxis": "x",
         "y": [
          1,
          1,
          1,
          1,
          1
         ],
         "yaxis": "y"
        },
        {
         "alignmentgroup": "True",
         "hovertemplate": "PRN=12.0<br>godzina od wybranej daty=%{x}<br>liczba widocznych satelitów=%{y}<extra></extra>",
         "legendgroup": "12.0",
         "marker": {
          "color": "#B6E880",
          "pattern": {
           "shape": ""
          }
         },
         "name": "12.0",
         "offsetgroup": "12.0",
         "orientation": "v",
         "showlegend": true,
         "textposition": "auto",
         "type": "bar",
         "x": [
          10,
          11,
          12,
          13,
          14,
          15
         ],
         "xaxis": "x",
         "y": [
          1,
          1,
          1,
          1,
          1,
          1
         ],
         "yaxis": "y"
        },
        {
         "alignmentgroup": "True",
         "hovertemplate": "PRN=25.0<br>godzina od wybranej daty=%{x}<br>liczba widocznych satelitów=%{y}<extra></extra>",
         "legendgroup": "25.0",
         "marker": {
          "color": "#FF97FF",
          "pattern": {
           "shape": ""
          }
         },
         "name": "25.0",
         "offsetgroup": "25.0",
         "orientation": "v",
         "showlegend": true,
         "textposition": "auto",
         "type": "bar",
         "x": [
          11,
          12,
          13,
          14,
          15,
          16
         ],
         "xaxis": "x",
         "y": [
          1,
          1,
          1,
          1,
          1,
          1
         ],
         "yaxis": "y"
        },
        {
         "alignmentgroup": "True",
         "hovertemplate": "PRN=29.0<br>godzina od wybranej daty=%{x}<br>liczba widocznych satelitów=%{y}<extra></extra>",
         "legendgroup": "29.0",
         "marker": {
          "color": "#FECB52",
          "pattern": {
           "shape": ""
          }
         },
         "name": "29.0",
         "offsetgroup": "29.0",
         "orientation": "v",
         "showlegend": true,
         "textposition": "auto",
         "type": "bar",
         "x": [
          13,
          14,
          15,
          16,
          17,
          18
         ],
         "xaxis": "x",
         "y": [
          1,
          1,
          1,
          1,
          1,
          1
         ],
         "yaxis": "y"
        },
        {
         "alignmentgroup": "True",
         "hovertemplate": "PRN=18.0<br>godzina od wybranej daty=%{x}<br>liczba widocznych satelitów=%{y}<extra></extra>",
         "legendgroup": "18.0",
         "marker": {
          "color": "#636efa",
          "pattern": {
           "shape": ""
          }
         },
         "name": "18.0",
         "offsetgroup": "18.0",
         "orientation": "v",
         "showlegend": true,
         "textposition": "auto",
         "type": "bar",
         "x": [
          15,
          16,
          17,
          18,
          19,
          20
         ],
         "xaxis": "x",
         "y": [
          1,
          1,
          1,
          1,
          1,
          1
         ],
         "yaxis": "y"
        }
       ],
       "layout": {
        "barmode": "relative",
        "legend": {
         "title": {
          "text": "PRN"
         },
         "tracegroupgap": 0
        },
        "template": {
         "data": {
          "bar": [
           {
            "error_x": {
             "color": "#2a3f5f"
            },
            "error_y": {
             "color": "#2a3f5f"
            },
            "marker": {
             "line": {
              "color": "#E5ECF6",
              "width": 0.5
             },
             "pattern": {
              "fillmode": "overlay",
              "size": 10,
              "solidity": 0.2
             }
            },
            "type": "bar"
           }
          ],
          "barpolar": [
           {
            "marker": {
             "line": {
              "color": "#E5ECF6",
              "width": 0.5
             },
             "pattern": {
              "fillmode": "overlay",
              "size": 10,
              "solidity": 0.2
             }
            },
            "type": "barpolar"
           }
          ],
          "carpet": [
           {
            "aaxis": {
             "endlinecolor": "#2a3f5f",
             "gridcolor": "white",
             "linecolor": "white",
             "minorgridcolor": "white",
             "startlinecolor": "#2a3f5f"
            },
            "baxis": {
             "endlinecolor": "#2a3f5f",
             "gridcolor": "white",
             "linecolor": "white",
             "minorgridcolor": "white",
             "startlinecolor": "#2a3f5f"
            },
            "type": "carpet"
           }
          ],
          "choropleth": [
           {
            "colorbar": {
             "outlinewidth": 0,
             "ticks": ""
            },
            "type": "choropleth"
           }
          ],
          "contour": [
           {
            "colorbar": {
             "outlinewidth": 0,
             "ticks": ""
            },
            "colorscale": [
             [
              0,
              "#0d0887"
             ],
             [
              0.1111111111111111,
              "#46039f"
             ],
             [
              0.2222222222222222,
              "#7201a8"
             ],
             [
              0.3333333333333333,
              "#9c179e"
             ],
             [
              0.4444444444444444,
              "#bd3786"
             ],
             [
              0.5555555555555556,
              "#d8576b"
             ],
             [
              0.6666666666666666,
              "#ed7953"
             ],
             [
              0.7777777777777778,
              "#fb9f3a"
             ],
             [
              0.8888888888888888,
              "#fdca26"
             ],
             [
              1,
              "#f0f921"
             ]
            ],
            "type": "contour"
           }
          ],
          "contourcarpet": [
           {
            "colorbar": {
             "outlinewidth": 0,
             "ticks": ""
            },
            "type": "contourcarpet"
           }
          ],
          "heatmap": [
           {
            "colorbar": {
             "outlinewidth": 0,
             "ticks": ""
            },
            "colorscale": [
             [
              0,
              "#0d0887"
             ],
             [
              0.1111111111111111,
              "#46039f"
             ],
             [
              0.2222222222222222,
              "#7201a8"
             ],
             [
              0.3333333333333333,
              "#9c179e"
             ],
             [
              0.4444444444444444,
              "#bd3786"
             ],
             [
              0.5555555555555556,
              "#d8576b"
             ],
             [
              0.6666666666666666,
              "#ed7953"
             ],
             [
              0.7777777777777778,
              "#fb9f3a"
             ],
             [
              0.8888888888888888,
              "#fdca26"
             ],
             [
              1,
              "#f0f921"
             ]
            ],
            "type": "heatmap"
           }
          ],
          "heatmapgl": [
           {
            "colorbar": {
             "outlinewidth": 0,
             "ticks": ""
            },
            "colorscale": [
             [
              0,
              "#0d0887"
             ],
             [
              0.1111111111111111,
              "#46039f"
             ],
             [
              0.2222222222222222,
              "#7201a8"
             ],
             [
              0.3333333333333333,
              "#9c179e"
             ],
             [
              0.4444444444444444,
              "#bd3786"
             ],
             [
              0.5555555555555556,
              "#d8576b"
             ],
             [
              0.6666666666666666,
              "#ed7953"
             ],
             [
              0.7777777777777778,
              "#fb9f3a"
             ],
             [
              0.8888888888888888,
              "#fdca26"
             ],
             [
              1,
              "#f0f921"
             ]
            ],
            "type": "heatmapgl"
           }
          ],
          "histogram": [
           {
            "marker": {
             "pattern": {
              "fillmode": "overlay",
              "size": 10,
              "solidity": 0.2
             }
            },
            "type": "histogram"
           }
          ],
          "histogram2d": [
           {
            "colorbar": {
             "outlinewidth": 0,
             "ticks": ""
            },
            "colorscale": [
             [
              0,
              "#0d0887"
             ],
             [
              0.1111111111111111,
              "#46039f"
             ],
             [
              0.2222222222222222,
              "#7201a8"
             ],
             [
              0.3333333333333333,
              "#9c179e"
             ],
             [
              0.4444444444444444,
              "#bd3786"
             ],
             [
              0.5555555555555556,
              "#d8576b"
             ],
             [
              0.6666666666666666,
              "#ed7953"
             ],
             [
              0.7777777777777778,
              "#fb9f3a"
             ],
             [
              0.8888888888888888,
              "#fdca26"
             ],
             [
              1,
              "#f0f921"
             ]
            ],
            "type": "histogram2d"
           }
          ],
          "histogram2dcontour": [
           {
            "colorbar": {
             "outlinewidth": 0,
             "ticks": ""
            },
            "colorscale": [
             [
              0,
              "#0d0887"
             ],
             [
              0.1111111111111111,
              "#46039f"
             ],
             [
              0.2222222222222222,
              "#7201a8"
             ],
             [
              0.3333333333333333,
              "#9c179e"
             ],
             [
              0.4444444444444444,
              "#bd3786"
             ],
             [
              0.5555555555555556,
              "#d8576b"
             ],
             [
              0.6666666666666666,
              "#ed7953"
             ],
             [
              0.7777777777777778,
              "#fb9f3a"
             ],
             [
              0.8888888888888888,
              "#fdca26"
             ],
             [
              1,
              "#f0f921"
             ]
            ],
            "type": "histogram2dcontour"
           }
          ],
          "mesh3d": [
           {
            "colorbar": {
             "outlinewidth": 0,
             "ticks": ""
            },
            "type": "mesh3d"
           }
          ],
          "parcoords": [
           {
            "line": {
             "colorbar": {
              "outlinewidth": 0,
              "ticks": ""
             }
            },
            "type": "parcoords"
           }
          ],
          "pie": [
           {
            "automargin": true,
            "type": "pie"
           }
          ],
          "scatter": [
           {
            "marker": {
             "colorbar": {
              "outlinewidth": 0,
              "ticks": ""
             }
            },
            "type": "scatter"
           }
          ],
          "scatter3d": [
           {
            "line": {
             "colorbar": {
              "outlinewidth": 0,
              "ticks": ""
             }
            },
            "marker": {
             "colorbar": {
              "outlinewidth": 0,
              "ticks": ""
             }
            },
            "type": "scatter3d"
           }
          ],
          "scattercarpet": [
           {
            "marker": {
             "colorbar": {
              "outlinewidth": 0,
              "ticks": ""
             }
            },
            "type": "scattercarpet"
           }
          ],
          "scattergeo": [
           {
            "marker": {
             "colorbar": {
              "outlinewidth": 0,
              "ticks": ""
             }
            },
            "type": "scattergeo"
           }
          ],
          "scattergl": [
           {
            "marker": {
             "colorbar": {
              "outlinewidth": 0,
              "ticks": ""
             }
            },
            "type": "scattergl"
           }
          ],
          "scattermapbox": [
           {
            "marker": {
             "colorbar": {
              "outlinewidth": 0,
              "ticks": ""
             }
            },
            "type": "scattermapbox"
           }
          ],
          "scatterpolar": [
           {
            "marker": {
             "colorbar": {
              "outlinewidth": 0,
              "ticks": ""
             }
            },
            "type": "scatterpolar"
           }
          ],
          "scatterpolargl": [
           {
            "marker": {
             "colorbar": {
              "outlinewidth": 0,
              "ticks": ""
             }
            },
            "type": "scatterpolargl"
           }
          ],
          "scatterternary": [
           {
            "marker": {
             "colorbar": {
              "outlinewidth": 0,
              "ticks": ""
             }
            },
            "type": "scatterternary"
           }
          ],
          "surface": [
           {
            "colorbar": {
             "outlinewidth": 0,
             "ticks": ""
            },
            "colorscale": [
             [
              0,
              "#0d0887"
             ],
             [
              0.1111111111111111,
              "#46039f"
             ],
             [
              0.2222222222222222,
              "#7201a8"
             ],
             [
              0.3333333333333333,
              "#9c179e"
             ],
             [
              0.4444444444444444,
              "#bd3786"
             ],
             [
              0.5555555555555556,
              "#d8576b"
             ],
             [
              0.6666666666666666,
              "#ed7953"
             ],
             [
              0.7777777777777778,
              "#fb9f3a"
             ],
             [
              0.8888888888888888,
              "#fdca26"
             ],
             [
              1,
              "#f0f921"
             ]
            ],
            "type": "surface"
           }
          ],
          "table": [
           {
            "cells": {
             "fill": {
              "color": "#EBF0F8"
             },
             "line": {
              "color": "white"
             }
            },
            "header": {
             "fill": {
              "color": "#C8D4E3"
             },
             "line": {
              "color": "white"
             }
            },
            "type": "table"
           }
          ]
         },
         "layout": {
          "annotationdefaults": {
           "arrowcolor": "#2a3f5f",
           "arrowhead": 0,
           "arrowwidth": 1
          },
          "autotypenumbers": "strict",
          "coloraxis": {
           "colorbar": {
            "outlinewidth": 0,
            "ticks": ""
           }
          },
          "colorscale": {
           "diverging": [
            [
             0,
             "#8e0152"
            ],
            [
             0.1,
             "#c51b7d"
            ],
            [
             0.2,
             "#de77ae"
            ],
            [
             0.3,
             "#f1b6da"
            ],
            [
             0.4,
             "#fde0ef"
            ],
            [
             0.5,
             "#f7f7f7"
            ],
            [
             0.6,
             "#e6f5d0"
            ],
            [
             0.7,
             "#b8e186"
            ],
            [
             0.8,
             "#7fbc41"
            ],
            [
             0.9,
             "#4d9221"
            ],
            [
             1,
             "#276419"
            ]
           ],
           "sequential": [
            [
             0,
             "#0d0887"
            ],
            [
             0.1111111111111111,
             "#46039f"
            ],
            [
             0.2222222222222222,
             "#7201a8"
            ],
            [
             0.3333333333333333,
             "#9c179e"
            ],
            [
             0.4444444444444444,
             "#bd3786"
            ],
            [
             0.5555555555555556,
             "#d8576b"
            ],
            [
             0.6666666666666666,
             "#ed7953"
            ],
            [
             0.7777777777777778,
             "#fb9f3a"
            ],
            [
             0.8888888888888888,
             "#fdca26"
            ],
            [
             1,
             "#f0f921"
            ]
           ],
           "sequentialminus": [
            [
             0,
             "#0d0887"
            ],
            [
             0.1111111111111111,
             "#46039f"
            ],
            [
             0.2222222222222222,
             "#7201a8"
            ],
            [
             0.3333333333333333,
             "#9c179e"
            ],
            [
             0.4444444444444444,
             "#bd3786"
            ],
            [
             0.5555555555555556,
             "#d8576b"
            ],
            [
             0.6666666666666666,
             "#ed7953"
            ],
            [
             0.7777777777777778,
             "#fb9f3a"
            ],
            [
             0.8888888888888888,
             "#fdca26"
            ],
            [
             1,
             "#f0f921"
            ]
           ]
          },
          "colorway": [
           "#636efa",
           "#EF553B",
           "#00cc96",
           "#ab63fa",
           "#FFA15A",
           "#19d3f3",
           "#FF6692",
           "#B6E880",
           "#FF97FF",
           "#FECB52"
          ],
          "font": {
           "color": "#2a3f5f"
          },
          "geo": {
           "bgcolor": "white",
           "lakecolor": "white",
           "landcolor": "#E5ECF6",
           "showlakes": true,
           "showland": true,
           "subunitcolor": "white"
          },
          "hoverlabel": {
           "align": "left"
          },
          "hovermode": "closest",
          "mapbox": {
           "style": "light"
          },
          "paper_bgcolor": "white",
          "plot_bgcolor": "#E5ECF6",
          "polar": {
           "angularaxis": {
            "gridcolor": "white",
            "linecolor": "white",
            "ticks": ""
           },
           "bgcolor": "#E5ECF6",
           "radialaxis": {
            "gridcolor": "white",
            "linecolor": "white",
            "ticks": ""
           }
          },
          "scene": {
           "xaxis": {
            "backgroundcolor": "#E5ECF6",
            "gridcolor": "white",
            "gridwidth": 2,
            "linecolor": "white",
            "showbackground": true,
            "ticks": "",
            "zerolinecolor": "white"
           },
           "yaxis": {
            "backgroundcolor": "#E5ECF6",
            "gridcolor": "white",
            "gridwidth": 2,
            "linecolor": "white",
            "showbackground": true,
            "ticks": "",
            "zerolinecolor": "white"
           },
           "zaxis": {
            "backgroundcolor": "#E5ECF6",
            "gridcolor": "white",
            "gridwidth": 2,
            "linecolor": "white",
            "showbackground": true,
            "ticks": "",
            "zerolinecolor": "white"
           }
          },
          "shapedefaults": {
           "line": {
            "color": "#2a3f5f"
           }
          },
          "ternary": {
           "aaxis": {
            "gridcolor": "white",
            "linecolor": "white",
            "ticks": ""
           },
           "baxis": {
            "gridcolor": "white",
            "linecolor": "white",
            "ticks": ""
           },
           "bgcolor": "#E5ECF6",
           "caxis": {
            "gridcolor": "white",
            "linecolor": "white",
            "ticks": ""
           }
          },
          "title": {
           "x": 0.05
          },
          "xaxis": {
           "automargin": true,
           "gridcolor": "white",
           "linecolor": "white",
           "ticks": "",
           "title": {
            "standoff": 15
           },
           "zerolinecolor": "white",
           "zerolinewidth": 2
          },
          "yaxis": {
           "automargin": true,
           "gridcolor": "white",
           "linecolor": "white",
           "ticks": "",
           "title": {
            "standoff": 15
           },
           "zerolinecolor": "white",
           "zerolinewidth": 2
          }
         }
        },
        "title": {
         "text": "Wyszczególnienie widocznych satelitów"
        },
        "xaxis": {
         "anchor": "y",
         "domain": [
          0,
          1
         ],
         "title": {
          "text": "godzina od wybranej daty"
         }
        },
        "yaxis": {
         "anchor": "x",
         "domain": [
          0,
          1
         ],
         "title": {
          "text": "liczba widocznych satelitów"
         }
        }
       }
      },
      "text/html": [
       "<div>                            <div id=\"5b777a46-3260-4198-b16c-7caf4aa5f53d\" class=\"plotly-graph-div\" style=\"height:525px; width:100%;\"></div>            <script type=\"text/javascript\">                require([\"plotly\"], function(Plotly) {                    window.PLOTLYENV=window.PLOTLYENV || {};                                    if (document.getElementById(\"5b777a46-3260-4198-b16c-7caf4aa5f53d\")) {                    Plotly.newPlot(                        \"5b777a46-3260-4198-b16c-7caf4aa5f53d\",                        [{\"alignmentgroup\":\"True\",\"hovertemplate\":\"PRN=1.0<br>godzina od wybranej daty=%{x}<br>liczba widocznych satelit\\u00f3w=%{y}<extra></extra>\",\"legendgroup\":\"1.0\",\"marker\":{\"color\":\"#636efa\",\"pattern\":{\"shape\":\"\"}},\"name\":\"1.0\",\"offsetgroup\":\"1.0\",\"orientation\":\"v\",\"showlegend\":true,\"textposition\":\"auto\",\"x\":[0,1,2,10,21,22,23],\"xaxis\":\"x\",\"y\":[1,1,1,1,1,1,1],\"yaxis\":\"y\",\"type\":\"bar\"},{\"alignmentgroup\":\"True\",\"hovertemplate\":\"PRN=3.0<br>godzina od wybranej daty=%{x}<br>liczba widocznych satelit\\u00f3w=%{y}<extra></extra>\",\"legendgroup\":\"3.0\",\"marker\":{\"color\":\"#EF553B\",\"pattern\":{\"shape\":\"\"}},\"name\":\"3.0\",\"offsetgroup\":\"3.0\",\"orientation\":\"v\",\"showlegend\":true,\"textposition\":\"auto\",\"x\":[0,1,2,3,22,23],\"xaxis\":\"x\",\"y\":[1,1,1,1,1,1],\"yaxis\":\"y\",\"type\":\"bar\"},{\"alignmentgroup\":\"True\",\"hovertemplate\":\"PRN=4.0<br>godzina od wybranej daty=%{x}<br>liczba widocznych satelit\\u00f3w=%{y}<extra></extra>\",\"legendgroup\":\"4.0\",\"marker\":{\"color\":\"#00cc96\",\"pattern\":{\"shape\":\"\"}},\"name\":\"4.0\",\"offsetgroup\":\"4.0\",\"orientation\":\"v\",\"showlegend\":true,\"textposition\":\"auto\",\"x\":[0,1,2,3,4,5],\"xaxis\":\"x\",\"y\":[1,1,1,1,1,1],\"yaxis\":\"y\",\"type\":\"bar\"},{\"alignmentgroup\":\"True\",\"hovertemplate\":\"PRN=17.0<br>godzina od wybranej daty=%{x}<br>liczba widocznych satelit\\u00f3w=%{y}<extra></extra>\",\"legendgroup\":\"17.0\",\"marker\":{\"color\":\"#ab63fa\",\"pattern\":{\"shape\":\"\"}},\"name\":\"17.0\",\"offsetgroup\":\"17.0\",\"orientation\":\"v\",\"showlegend\":true,\"textposition\":\"auto\",\"x\":[0,1,2,8,9,10,11,12,23],\"xaxis\":\"x\",\"y\":[1,1,1,1,1,1,1,1,1],\"yaxis\":\"y\",\"type\":\"bar\"},{\"alignmentgroup\":\"True\",\"hovertemplate\":\"PRN=19.0<br>godzina od wybranej daty=%{x}<br>liczba widocznych satelit\\u00f3w=%{y}<extra></extra>\",\"legendgroup\":\"19.0\",\"marker\":{\"color\":\"#FFA15A\",\"pattern\":{\"shape\":\"\"}},\"name\":\"19.0\",\"offsetgroup\":\"19.0\",\"orientation\":\"v\",\"showlegend\":true,\"textposition\":\"auto\",\"x\":[0,1,2,9,10,11,12],\"xaxis\":\"x\",\"y\":[1,1,1,1,1,1,1],\"yaxis\":\"y\",\"type\":\"bar\"},{\"alignmentgroup\":\"True\",\"hovertemplate\":\"PRN=21.0<br>godzina od wybranej daty=%{x}<br>liczba widocznych satelit\\u00f3w=%{y}<extra></extra>\",\"legendgroup\":\"21.0\",\"marker\":{\"color\":\"#19d3f3\",\"pattern\":{\"shape\":\"\"}},\"name\":\"21.0\",\"offsetgroup\":\"21.0\",\"orientation\":\"v\",\"showlegend\":true,\"textposition\":\"auto\",\"x\":[0,1,20,21,22,23],\"xaxis\":\"x\",\"y\":[1,1,1,1,1,1],\"yaxis\":\"y\",\"type\":\"bar\"},{\"alignmentgroup\":\"True\",\"hovertemplate\":\"PRN=22.0<br>godzina od wybranej daty=%{x}<br>liczba widocznych satelit\\u00f3w=%{y}<extra></extra>\",\"legendgroup\":\"22.0\",\"marker\":{\"color\":\"#FF6692\",\"pattern\":{\"shape\":\"\"}},\"name\":\"22.0\",\"offsetgroup\":\"22.0\",\"orientation\":\"v\",\"showlegend\":true,\"textposition\":\"auto\",\"x\":[0,1,12,13,14,21,22,23],\"xaxis\":\"x\",\"y\":[1,1,1,1,1,1,1,1],\"yaxis\":\"y\",\"type\":\"bar\"},{\"alignmentgroup\":\"True\",\"hovertemplate\":\"PRN=31.0<br>godzina od wybranej daty=%{x}<br>liczba widocznych satelit\\u00f3w=%{y}<extra></extra>\",\"legendgroup\":\"31.0\",\"marker\":{\"color\":\"#B6E880\",\"pattern\":{\"shape\":\"\"}},\"name\":\"31.0\",\"offsetgroup\":\"31.0\",\"orientation\":\"v\",\"showlegend\":true,\"textposition\":\"auto\",\"x\":[0,1,2,13,14,15,16,17,23],\"xaxis\":\"x\",\"y\":[1,1,1,1,1,1,1,1,1],\"yaxis\":\"y\",\"type\":\"bar\"},{\"alignmentgroup\":\"True\",\"hovertemplate\":\"PRN=32.0<br>godzina od wybranej daty=%{x}<br>liczba widocznych satelit\\u00f3w=%{y}<extra></extra>\",\"legendgroup\":\"32.0\",\"marker\":{\"color\":\"#FF97FF\",\"pattern\":{\"shape\":\"\"}},\"name\":\"32.0\",\"offsetgroup\":\"32.0\",\"orientation\":\"v\",\"showlegend\":true,\"textposition\":\"auto\",\"x\":[0,11,12,13,14,20,21,22,23],\"xaxis\":\"x\",\"y\":[1,1,1,1,1,1,1,1,1],\"yaxis\":\"y\",\"type\":\"bar\"},{\"alignmentgroup\":\"True\",\"hovertemplate\":\"PRN=6.0<br>godzina od wybranej daty=%{x}<br>liczba widocznych satelit\\u00f3w=%{y}<extra></extra>\",\"legendgroup\":\"6.0\",\"marker\":{\"color\":\"#FECB52\",\"pattern\":{\"shape\":\"\"}},\"name\":\"6.0\",\"offsetgroup\":\"6.0\",\"orientation\":\"v\",\"showlegend\":true,\"textposition\":\"auto\",\"x\":[1,2,3,4,11,12,13,14],\"xaxis\":\"x\",\"y\":[1,1,1,1,1,1,1,1],\"yaxis\":\"y\",\"type\":\"bar\"},{\"alignmentgroup\":\"True\",\"hovertemplate\":\"PRN=9.0<br>godzina od wybranej daty=%{x}<br>liczba widocznych satelit\\u00f3w=%{y}<extra></extra>\",\"legendgroup\":\"9.0\",\"marker\":{\"color\":\"#636efa\",\"pattern\":{\"shape\":\"\"}},\"name\":\"9.0\",\"offsetgroup\":\"9.0\",\"orientation\":\"v\",\"showlegend\":true,\"textposition\":\"auto\",\"x\":[1,2,3,4,5,6],\"xaxis\":\"x\",\"y\":[1,1,1,1,1,1],\"yaxis\":\"y\",\"type\":\"bar\"},{\"alignmentgroup\":\"True\",\"hovertemplate\":\"PRN=2.0<br>godzina od wybranej daty=%{x}<br>liczba widocznych satelit\\u00f3w=%{y}<extra></extra>\",\"legendgroup\":\"2.0\",\"marker\":{\"color\":\"#EF553B\",\"pattern\":{\"shape\":\"\"}},\"name\":\"2.0\",\"offsetgroup\":\"2.0\",\"orientation\":\"v\",\"showlegend\":true,\"textposition\":\"auto\",\"x\":[3,4,5,12,13,14,15],\"xaxis\":\"x\",\"y\":[1,1,1,1,1,1,1],\"yaxis\":\"y\",\"type\":\"bar\"},{\"alignmentgroup\":\"True\",\"hovertemplate\":\"PRN=7.0<br>godzina od wybranej daty=%{x}<br>liczba widocznych satelit\\u00f3w=%{y}<extra></extra>\",\"legendgroup\":\"7.0\",\"marker\":{\"color\":\"#00cc96\",\"pattern\":{\"shape\":\"\"}},\"name\":\"7.0\",\"offsetgroup\":\"7.0\",\"orientation\":\"v\",\"showlegend\":true,\"textposition\":\"auto\",\"x\":[3,4,5,6,7,8],\"xaxis\":\"x\",\"y\":[1,1,1,1,1,1],\"yaxis\":\"y\",\"type\":\"bar\"},{\"alignmentgroup\":\"True\",\"hovertemplate\":\"PRN=11.0<br>godzina od wybranej daty=%{x}<br>liczba widocznych satelit\\u00f3w=%{y}<extra></extra>\",\"legendgroup\":\"11.0\",\"marker\":{\"color\":\"#ab63fa\",\"pattern\":{\"shape\":\"\"}},\"name\":\"11.0\",\"offsetgroup\":\"11.0\",\"orientation\":\"v\",\"showlegend\":true,\"textposition\":\"auto\",\"x\":[3,4,5,12,13,14,15],\"xaxis\":\"x\",\"y\":[1,1,1,1,1,1,1],\"yaxis\":\"y\",\"type\":\"bar\"},{\"alignmentgroup\":\"True\",\"hovertemplate\":\"PRN=16.0<br>godzina od wybranej daty=%{x}<br>liczba widocznych satelit\\u00f3w=%{y}<extra></extra>\",\"legendgroup\":\"16.0\",\"marker\":{\"color\":\"#FFA15A\",\"pattern\":{\"shape\":\"\"}},\"name\":\"16.0\",\"offsetgroup\":\"16.0\",\"orientation\":\"v\",\"showlegend\":true,\"textposition\":\"auto\",\"x\":[3,4,5,16,17,18,19,20],\"xaxis\":\"x\",\"y\":[1,1,1,1,1,1,1,1],\"yaxis\":\"y\",\"type\":\"bar\"},{\"alignmentgroup\":\"True\",\"hovertemplate\":\"PRN=26.0<br>godzina od wybranej daty=%{x}<br>liczba widocznych satelit\\u00f3w=%{y}<extra></extra>\",\"legendgroup\":\"26.0\",\"marker\":{\"color\":\"#19d3f3\",\"pattern\":{\"shape\":\"\"}},\"name\":\"26.0\",\"offsetgroup\":\"26.0\",\"orientation\":\"v\",\"showlegend\":true,\"textposition\":\"auto\",\"x\":[3,4,15,16,17,18,19],\"xaxis\":\"x\",\"y\":[1,1,1,1,1,1,1],\"yaxis\":\"y\",\"type\":\"bar\"},{\"alignmentgroup\":\"True\",\"hovertemplate\":\"PRN=20.0<br>godzina od wybranej daty=%{x}<br>liczba widocznych satelit\\u00f3w=%{y}<extra></extra>\",\"legendgroup\":\"20.0\",\"marker\":{\"color\":\"#FF6692\",\"pattern\":{\"shape\":\"\"}},\"name\":\"20.0\",\"offsetgroup\":\"20.0\",\"orientation\":\"v\",\"showlegend\":true,\"textposition\":\"auto\",\"x\":[4,5,6,7,14,15,16],\"xaxis\":\"x\",\"y\":[1,1,1,1,1,1,1],\"yaxis\":\"y\",\"type\":\"bar\"},{\"alignmentgroup\":\"True\",\"hovertemplate\":\"PRN=30.0<br>godzina od wybranej daty=%{x}<br>liczba widocznych satelit\\u00f3w=%{y}<extra></extra>\",\"legendgroup\":\"30.0\",\"marker\":{\"color\":\"#B6E880\",\"pattern\":{\"shape\":\"\"}},\"name\":\"30.0\",\"offsetgroup\":\"30.0\",\"orientation\":\"v\",\"showlegend\":true,\"textposition\":\"auto\",\"x\":[4,5,6,7,8,9],\"xaxis\":\"x\",\"y\":[1,1,1,1,1,1],\"yaxis\":\"y\",\"type\":\"bar\"},{\"alignmentgroup\":\"True\",\"hovertemplate\":\"PRN=5.0<br>godzina od wybranej daty=%{x}<br>liczba widocznych satelit\\u00f3w=%{y}<extra></extra>\",\"legendgroup\":\"5.0\",\"marker\":{\"color\":\"#FF97FF\",\"pattern\":{\"shape\":\"\"}},\"name\":\"5.0\",\"offsetgroup\":\"5.0\",\"orientation\":\"v\",\"showlegend\":true,\"textposition\":\"auto\",\"x\":[5,6,7,8,15,16,17],\"xaxis\":\"x\",\"y\":[1,1,1,1,1,1,1],\"yaxis\":\"y\",\"type\":\"bar\"},{\"alignmentgroup\":\"True\",\"hovertemplate\":\"PRN=13.0<br>godzina od wybranej daty=%{x}<br>liczba widocznych satelit\\u00f3w=%{y}<extra></extra>\",\"legendgroup\":\"13.0\",\"marker\":{\"color\":\"#FECB52\",\"pattern\":{\"shape\":\"\"}},\"name\":\"13.0\",\"offsetgroup\":\"13.0\",\"orientation\":\"v\",\"showlegend\":true,\"textposition\":\"auto\",\"x\":[6,7,8,9,10],\"xaxis\":\"x\",\"y\":[1,1,1,1,1],\"yaxis\":\"y\",\"type\":\"bar\"},{\"alignmentgroup\":\"True\",\"hovertemplate\":\"PRN=14.0<br>godzina od wybranej daty=%{x}<br>liczba widocznych satelit\\u00f3w=%{y}<extra></extra>\",\"legendgroup\":\"14.0\",\"marker\":{\"color\":\"#636efa\",\"pattern\":{\"shape\":\"\"}},\"name\":\"14.0\",\"offsetgroup\":\"14.0\",\"orientation\":\"v\",\"showlegend\":true,\"textposition\":\"auto\",\"x\":[6,7,8,9,10,21,22],\"xaxis\":\"x\",\"y\":[1,1,1,1,1,1,1],\"yaxis\":\"y\",\"type\":\"bar\"},{\"alignmentgroup\":\"True\",\"hovertemplate\":\"PRN=27.0<br>godzina od wybranej daty=%{x}<br>liczba widocznych satelit\\u00f3w=%{y}<extra></extra>\",\"legendgroup\":\"27.0\",\"marker\":{\"color\":\"#EF553B\",\"pattern\":{\"shape\":\"\"}},\"name\":\"27.0\",\"offsetgroup\":\"27.0\",\"orientation\":\"v\",\"showlegend\":true,\"textposition\":\"auto\",\"x\":[6,17,18,19,20,21,22],\"xaxis\":\"x\",\"y\":[1,1,1,1,1,1,1],\"yaxis\":\"y\",\"type\":\"bar\"},{\"alignmentgroup\":\"True\",\"hovertemplate\":\"PRN=8.0<br>godzina od wybranej daty=%{x}<br>liczba widocznych satelit\\u00f3w=%{y}<extra></extra>\",\"legendgroup\":\"8.0\",\"marker\":{\"color\":\"#00cc96\",\"pattern\":{\"shape\":\"\"}},\"name\":\"8.0\",\"offsetgroup\":\"8.0\",\"orientation\":\"v\",\"showlegend\":true,\"textposition\":\"auto\",\"x\":[7,8,19,20,21,22,23],\"xaxis\":\"x\",\"y\":[1,1,1,1,1,1,1],\"yaxis\":\"y\",\"type\":\"bar\"},{\"alignmentgroup\":\"True\",\"hovertemplate\":\"PRN=15.0<br>godzina od wybranej daty=%{x}<br>liczba widocznych satelit\\u00f3w=%{y}<extra></extra>\",\"legendgroup\":\"15.0\",\"marker\":{\"color\":\"#ab63fa\",\"pattern\":{\"shape\":\"\"}},\"name\":\"15.0\",\"offsetgroup\":\"15.0\",\"orientation\":\"v\",\"showlegend\":true,\"textposition\":\"auto\",\"x\":[7,8,9,10,11,18,19,20],\"xaxis\":\"x\",\"y\":[1,1,1,1,1,1,1,1],\"yaxis\":\"y\",\"type\":\"bar\"},{\"alignmentgroup\":\"True\",\"hovertemplate\":\"PRN=23.0<br>godzina od wybranej daty=%{x}<br>liczba widocznych satelit\\u00f3w=%{y}<extra></extra>\",\"legendgroup\":\"23.0\",\"marker\":{\"color\":\"#FFA15A\",\"pattern\":{\"shape\":\"\"}},\"name\":\"23.0\",\"offsetgroup\":\"23.0\",\"orientation\":\"v\",\"showlegend\":true,\"textposition\":\"auto\",\"x\":[8,9,10,17,18,19,20,21],\"xaxis\":\"x\",\"y\":[1,1,1,1,1,1,1,1],\"yaxis\":\"y\",\"type\":\"bar\"},{\"alignmentgroup\":\"True\",\"hovertemplate\":\"PRN=10.0<br>godzina od wybranej daty=%{x}<br>liczba widocznych satelit\\u00f3w=%{y}<extra></extra>\",\"legendgroup\":\"10.0\",\"marker\":{\"color\":\"#19d3f3\",\"pattern\":{\"shape\":\"\"}},\"name\":\"10.0\",\"offsetgroup\":\"10.0\",\"orientation\":\"v\",\"showlegend\":true,\"textposition\":\"auto\",\"x\":[9,10,18,19,20,21,22],\"xaxis\":\"x\",\"y\":[1,1,1,1,1,1,1],\"yaxis\":\"y\",\"type\":\"bar\"},{\"alignmentgroup\":\"True\",\"hovertemplate\":\"PRN=24.0<br>godzina od wybranej daty=%{x}<br>liczba widocznych satelit\\u00f3w=%{y}<extra></extra>\",\"legendgroup\":\"24.0\",\"marker\":{\"color\":\"#FF6692\",\"pattern\":{\"shape\":\"\"}},\"name\":\"24.0\",\"offsetgroup\":\"24.0\",\"orientation\":\"v\",\"showlegend\":true,\"textposition\":\"auto\",\"x\":[9,10,11,12,13],\"xaxis\":\"x\",\"y\":[1,1,1,1,1],\"yaxis\":\"y\",\"type\":\"bar\"},{\"alignmentgroup\":\"True\",\"hovertemplate\":\"PRN=12.0<br>godzina od wybranej daty=%{x}<br>liczba widocznych satelit\\u00f3w=%{y}<extra></extra>\",\"legendgroup\":\"12.0\",\"marker\":{\"color\":\"#B6E880\",\"pattern\":{\"shape\":\"\"}},\"name\":\"12.0\",\"offsetgroup\":\"12.0\",\"orientation\":\"v\",\"showlegend\":true,\"textposition\":\"auto\",\"x\":[10,11,12,13,14,15],\"xaxis\":\"x\",\"y\":[1,1,1,1,1,1],\"yaxis\":\"y\",\"type\":\"bar\"},{\"alignmentgroup\":\"True\",\"hovertemplate\":\"PRN=25.0<br>godzina od wybranej daty=%{x}<br>liczba widocznych satelit\\u00f3w=%{y}<extra></extra>\",\"legendgroup\":\"25.0\",\"marker\":{\"color\":\"#FF97FF\",\"pattern\":{\"shape\":\"\"}},\"name\":\"25.0\",\"offsetgroup\":\"25.0\",\"orientation\":\"v\",\"showlegend\":true,\"textposition\":\"auto\",\"x\":[11,12,13,14,15,16],\"xaxis\":\"x\",\"y\":[1,1,1,1,1,1],\"yaxis\":\"y\",\"type\":\"bar\"},{\"alignmentgroup\":\"True\",\"hovertemplate\":\"PRN=29.0<br>godzina od wybranej daty=%{x}<br>liczba widocznych satelit\\u00f3w=%{y}<extra></extra>\",\"legendgroup\":\"29.0\",\"marker\":{\"color\":\"#FECB52\",\"pattern\":{\"shape\":\"\"}},\"name\":\"29.0\",\"offsetgroup\":\"29.0\",\"orientation\":\"v\",\"showlegend\":true,\"textposition\":\"auto\",\"x\":[13,14,15,16,17,18],\"xaxis\":\"x\",\"y\":[1,1,1,1,1,1],\"yaxis\":\"y\",\"type\":\"bar\"},{\"alignmentgroup\":\"True\",\"hovertemplate\":\"PRN=18.0<br>godzina od wybranej daty=%{x}<br>liczba widocznych satelit\\u00f3w=%{y}<extra></extra>\",\"legendgroup\":\"18.0\",\"marker\":{\"color\":\"#636efa\",\"pattern\":{\"shape\":\"\"}},\"name\":\"18.0\",\"offsetgroup\":\"18.0\",\"orientation\":\"v\",\"showlegend\":true,\"textposition\":\"auto\",\"x\":[15,16,17,18,19,20],\"xaxis\":\"x\",\"y\":[1,1,1,1,1,1],\"yaxis\":\"y\",\"type\":\"bar\"}],                        {\"template\":{\"data\":{\"bar\":[{\"error_x\":{\"color\":\"#2a3f5f\"},\"error_y\":{\"color\":\"#2a3f5f\"},\"marker\":{\"line\":{\"color\":\"#E5ECF6\",\"width\":0.5},\"pattern\":{\"fillmode\":\"overlay\",\"size\":10,\"solidity\":0.2}},\"type\":\"bar\"}],\"barpolar\":[{\"marker\":{\"line\":{\"color\":\"#E5ECF6\",\"width\":0.5},\"pattern\":{\"fillmode\":\"overlay\",\"size\":10,\"solidity\":0.2}},\"type\":\"barpolar\"}],\"carpet\":[{\"aaxis\":{\"endlinecolor\":\"#2a3f5f\",\"gridcolor\":\"white\",\"linecolor\":\"white\",\"minorgridcolor\":\"white\",\"startlinecolor\":\"#2a3f5f\"},\"baxis\":{\"endlinecolor\":\"#2a3f5f\",\"gridcolor\":\"white\",\"linecolor\":\"white\",\"minorgridcolor\":\"white\",\"startlinecolor\":\"#2a3f5f\"},\"type\":\"carpet\"}],\"choropleth\":[{\"colorbar\":{\"outlinewidth\":0,\"ticks\":\"\"},\"type\":\"choropleth\"}],\"contour\":[{\"colorbar\":{\"outlinewidth\":0,\"ticks\":\"\"},\"colorscale\":[[0.0,\"#0d0887\"],[0.1111111111111111,\"#46039f\"],[0.2222222222222222,\"#7201a8\"],[0.3333333333333333,\"#9c179e\"],[0.4444444444444444,\"#bd3786\"],[0.5555555555555556,\"#d8576b\"],[0.6666666666666666,\"#ed7953\"],[0.7777777777777778,\"#fb9f3a\"],[0.8888888888888888,\"#fdca26\"],[1.0,\"#f0f921\"]],\"type\":\"contour\"}],\"contourcarpet\":[{\"colorbar\":{\"outlinewidth\":0,\"ticks\":\"\"},\"type\":\"contourcarpet\"}],\"heatmap\":[{\"colorbar\":{\"outlinewidth\":0,\"ticks\":\"\"},\"colorscale\":[[0.0,\"#0d0887\"],[0.1111111111111111,\"#46039f\"],[0.2222222222222222,\"#7201a8\"],[0.3333333333333333,\"#9c179e\"],[0.4444444444444444,\"#bd3786\"],[0.5555555555555556,\"#d8576b\"],[0.6666666666666666,\"#ed7953\"],[0.7777777777777778,\"#fb9f3a\"],[0.8888888888888888,\"#fdca26\"],[1.0,\"#f0f921\"]],\"type\":\"heatmap\"}],\"heatmapgl\":[{\"colorbar\":{\"outlinewidth\":0,\"ticks\":\"\"},\"colorscale\":[[0.0,\"#0d0887\"],[0.1111111111111111,\"#46039f\"],[0.2222222222222222,\"#7201a8\"],[0.3333333333333333,\"#9c179e\"],[0.4444444444444444,\"#bd3786\"],[0.5555555555555556,\"#d8576b\"],[0.6666666666666666,\"#ed7953\"],[0.7777777777777778,\"#fb9f3a\"],[0.8888888888888888,\"#fdca26\"],[1.0,\"#f0f921\"]],\"type\":\"heatmapgl\"}],\"histogram\":[{\"marker\":{\"pattern\":{\"fillmode\":\"overlay\",\"size\":10,\"solidity\":0.2}},\"type\":\"histogram\"}],\"histogram2d\":[{\"colorbar\":{\"outlinewidth\":0,\"ticks\":\"\"},\"colorscale\":[[0.0,\"#0d0887\"],[0.1111111111111111,\"#46039f\"],[0.2222222222222222,\"#7201a8\"],[0.3333333333333333,\"#9c179e\"],[0.4444444444444444,\"#bd3786\"],[0.5555555555555556,\"#d8576b\"],[0.6666666666666666,\"#ed7953\"],[0.7777777777777778,\"#fb9f3a\"],[0.8888888888888888,\"#fdca26\"],[1.0,\"#f0f921\"]],\"type\":\"histogram2d\"}],\"histogram2dcontour\":[{\"colorbar\":{\"outlinewidth\":0,\"ticks\":\"\"},\"colorscale\":[[0.0,\"#0d0887\"],[0.1111111111111111,\"#46039f\"],[0.2222222222222222,\"#7201a8\"],[0.3333333333333333,\"#9c179e\"],[0.4444444444444444,\"#bd3786\"],[0.5555555555555556,\"#d8576b\"],[0.6666666666666666,\"#ed7953\"],[0.7777777777777778,\"#fb9f3a\"],[0.8888888888888888,\"#fdca26\"],[1.0,\"#f0f921\"]],\"type\":\"histogram2dcontour\"}],\"mesh3d\":[{\"colorbar\":{\"outlinewidth\":0,\"ticks\":\"\"},\"type\":\"mesh3d\"}],\"parcoords\":[{\"line\":{\"colorbar\":{\"outlinewidth\":0,\"ticks\":\"\"}},\"type\":\"parcoords\"}],\"pie\":[{\"automargin\":true,\"type\":\"pie\"}],\"scatter\":[{\"marker\":{\"colorbar\":{\"outlinewidth\":0,\"ticks\":\"\"}},\"type\":\"scatter\"}],\"scatter3d\":[{\"line\":{\"colorbar\":{\"outlinewidth\":0,\"ticks\":\"\"}},\"marker\":{\"colorbar\":{\"outlinewidth\":0,\"ticks\":\"\"}},\"type\":\"scatter3d\"}],\"scattercarpet\":[{\"marker\":{\"colorbar\":{\"outlinewidth\":0,\"ticks\":\"\"}},\"type\":\"scattercarpet\"}],\"scattergeo\":[{\"marker\":{\"colorbar\":{\"outlinewidth\":0,\"ticks\":\"\"}},\"type\":\"scattergeo\"}],\"scattergl\":[{\"marker\":{\"colorbar\":{\"outlinewidth\":0,\"ticks\":\"\"}},\"type\":\"scattergl\"}],\"scattermapbox\":[{\"marker\":{\"colorbar\":{\"outlinewidth\":0,\"ticks\":\"\"}},\"type\":\"scattermapbox\"}],\"scatterpolar\":[{\"marker\":{\"colorbar\":{\"outlinewidth\":0,\"ticks\":\"\"}},\"type\":\"scatterpolar\"}],\"scatterpolargl\":[{\"marker\":{\"colorbar\":{\"outlinewidth\":0,\"ticks\":\"\"}},\"type\":\"scatterpolargl\"}],\"scatterternary\":[{\"marker\":{\"colorbar\":{\"outlinewidth\":0,\"ticks\":\"\"}},\"type\":\"scatterternary\"}],\"surface\":[{\"colorbar\":{\"outlinewidth\":0,\"ticks\":\"\"},\"colorscale\":[[0.0,\"#0d0887\"],[0.1111111111111111,\"#46039f\"],[0.2222222222222222,\"#7201a8\"],[0.3333333333333333,\"#9c179e\"],[0.4444444444444444,\"#bd3786\"],[0.5555555555555556,\"#d8576b\"],[0.6666666666666666,\"#ed7953\"],[0.7777777777777778,\"#fb9f3a\"],[0.8888888888888888,\"#fdca26\"],[1.0,\"#f0f921\"]],\"type\":\"surface\"}],\"table\":[{\"cells\":{\"fill\":{\"color\":\"#EBF0F8\"},\"line\":{\"color\":\"white\"}},\"header\":{\"fill\":{\"color\":\"#C8D4E3\"},\"line\":{\"color\":\"white\"}},\"type\":\"table\"}]},\"layout\":{\"annotationdefaults\":{\"arrowcolor\":\"#2a3f5f\",\"arrowhead\":0,\"arrowwidth\":1},\"autotypenumbers\":\"strict\",\"coloraxis\":{\"colorbar\":{\"outlinewidth\":0,\"ticks\":\"\"}},\"colorscale\":{\"diverging\":[[0,\"#8e0152\"],[0.1,\"#c51b7d\"],[0.2,\"#de77ae\"],[0.3,\"#f1b6da\"],[0.4,\"#fde0ef\"],[0.5,\"#f7f7f7\"],[0.6,\"#e6f5d0\"],[0.7,\"#b8e186\"],[0.8,\"#7fbc41\"],[0.9,\"#4d9221\"],[1,\"#276419\"]],\"sequential\":[[0.0,\"#0d0887\"],[0.1111111111111111,\"#46039f\"],[0.2222222222222222,\"#7201a8\"],[0.3333333333333333,\"#9c179e\"],[0.4444444444444444,\"#bd3786\"],[0.5555555555555556,\"#d8576b\"],[0.6666666666666666,\"#ed7953\"],[0.7777777777777778,\"#fb9f3a\"],[0.8888888888888888,\"#fdca26\"],[1.0,\"#f0f921\"]],\"sequentialminus\":[[0.0,\"#0d0887\"],[0.1111111111111111,\"#46039f\"],[0.2222222222222222,\"#7201a8\"],[0.3333333333333333,\"#9c179e\"],[0.4444444444444444,\"#bd3786\"],[0.5555555555555556,\"#d8576b\"],[0.6666666666666666,\"#ed7953\"],[0.7777777777777778,\"#fb9f3a\"],[0.8888888888888888,\"#fdca26\"],[1.0,\"#f0f921\"]]},\"colorway\":[\"#636efa\",\"#EF553B\",\"#00cc96\",\"#ab63fa\",\"#FFA15A\",\"#19d3f3\",\"#FF6692\",\"#B6E880\",\"#FF97FF\",\"#FECB52\"],\"font\":{\"color\":\"#2a3f5f\"},\"geo\":{\"bgcolor\":\"white\",\"lakecolor\":\"white\",\"landcolor\":\"#E5ECF6\",\"showlakes\":true,\"showland\":true,\"subunitcolor\":\"white\"},\"hoverlabel\":{\"align\":\"left\"},\"hovermode\":\"closest\",\"mapbox\":{\"style\":\"light\"},\"paper_bgcolor\":\"white\",\"plot_bgcolor\":\"#E5ECF6\",\"polar\":{\"angularaxis\":{\"gridcolor\":\"white\",\"linecolor\":\"white\",\"ticks\":\"\"},\"bgcolor\":\"#E5ECF6\",\"radialaxis\":{\"gridcolor\":\"white\",\"linecolor\":\"white\",\"ticks\":\"\"}},\"scene\":{\"xaxis\":{\"backgroundcolor\":\"#E5ECF6\",\"gridcolor\":\"white\",\"gridwidth\":2,\"linecolor\":\"white\",\"showbackground\":true,\"ticks\":\"\",\"zerolinecolor\":\"white\"},\"yaxis\":{\"backgroundcolor\":\"#E5ECF6\",\"gridcolor\":\"white\",\"gridwidth\":2,\"linecolor\":\"white\",\"showbackground\":true,\"ticks\":\"\",\"zerolinecolor\":\"white\"},\"zaxis\":{\"backgroundcolor\":\"#E5ECF6\",\"gridcolor\":\"white\",\"gridwidth\":2,\"linecolor\":\"white\",\"showbackground\":true,\"ticks\":\"\",\"zerolinecolor\":\"white\"}},\"shapedefaults\":{\"line\":{\"color\":\"#2a3f5f\"}},\"ternary\":{\"aaxis\":{\"gridcolor\":\"white\",\"linecolor\":\"white\",\"ticks\":\"\"},\"baxis\":{\"gridcolor\":\"white\",\"linecolor\":\"white\",\"ticks\":\"\"},\"bgcolor\":\"#E5ECF6\",\"caxis\":{\"gridcolor\":\"white\",\"linecolor\":\"white\",\"ticks\":\"\"}},\"title\":{\"x\":0.05},\"xaxis\":{\"automargin\":true,\"gridcolor\":\"white\",\"linecolor\":\"white\",\"ticks\":\"\",\"title\":{\"standoff\":15},\"zerolinecolor\":\"white\",\"zerolinewidth\":2},\"yaxis\":{\"automargin\":true,\"gridcolor\":\"white\",\"linecolor\":\"white\",\"ticks\":\"\",\"title\":{\"standoff\":15},\"zerolinecolor\":\"white\",\"zerolinewidth\":2}}},\"xaxis\":{\"anchor\":\"y\",\"domain\":[0.0,1.0],\"title\":{\"text\":\"godzina od wybranej daty\"}},\"yaxis\":{\"anchor\":\"x\",\"domain\":[0.0,1.0],\"title\":{\"text\":\"liczba widocznych satelit\\u00f3w\"}},\"legend\":{\"title\":{\"text\":\"PRN\"},\"tracegroupgap\":0},\"title\":{\"text\":\"Wyszczeg\\u00f3lnienie widocznych satelit\\u00f3w\"},\"barmode\":\"relative\"},                        {\"responsive\": true}                    ).then(function(){\n",
       "                            \n",
       "var gd = document.getElementById('5b777a46-3260-4198-b16c-7caf4aa5f53d');\n",
       "var x = new MutationObserver(function (mutations, observer) {{\n",
       "        var display = window.getComputedStyle(gd).display;\n",
       "        if (!display || display === 'none') {{\n",
       "            console.log([gd, 'removed!']);\n",
       "            Plotly.purge(gd);\n",
       "            observer.disconnect();\n",
       "        }}\n",
       "}});\n",
       "\n",
       "// Listen for the removal of the full notebook cells\n",
       "var notebookContainer = gd.closest('#notebook-container');\n",
       "if (notebookContainer) {{\n",
       "    x.observe(notebookContainer, {childList: true});\n",
       "}}\n",
       "\n",
       "// Listen for the clearing of the current output cell\n",
       "var outputEl = gd.closest('.output');\n",
       "if (outputEl) {{\n",
       "    x.observe(outputEl, {childList: true});\n",
       "}}\n",
       "\n",
       "                        })                };                });            </script>        </div>"
      ]
     },
     "metadata": {},
     "output_type": "display_data"
    }
   ],
   "source": [
    "jakiedf[\"PRN\"] = jakiedf[\"PRN\"].astype(str)\n",
    "fig = px.bar(jakiedf, x=\"h\", y=\"widoczne\", color=\"PRN\", title=\"Wyszczególnienie widocznych satelitów\", labels={'widoczne':'liczba widocznych satelitów','h':'godzina od wybranej daty'})\n",
    "fig.show()"
   ]
  },
  {
   "cell_type": "markdown",
   "id": "25366e6c",
   "metadata": {},
   "source": [
    "## Skyplot"
   ]
  },
  {
   "cell_type": "code",
   "execution_count": 545,
   "id": "32a86b26",
   "metadata": {
    "scrolled": true
   },
   "outputs": [],
   "source": [
    "# print(sorted(satelity_elaz))  # [NR, EL, AZ]"
   ]
  },
  {
   "cell_type": "code",
   "execution_count": 546,
   "id": "ca074a79",
   "metadata": {},
   "outputs": [],
   "source": [
    "# plot_skyplot(satelity_elaz)"
   ]
  },
  {
   "cell_type": "markdown",
   "id": "e3314a7b",
   "metadata": {},
   "source": [
    "## Groundtrack"
   ]
  },
  {
   "cell_type": "code",
   "execution_count": 547,
   "id": "397b7e94",
   "metadata": {},
   "outputs": [
    {
     "name": "stdout",
     "output_type": "stream",
     "text": [
      "{1.0: [[-5246841.918266001, 1042778.3253596826, 19579972.31241733], [-14779139.995629763, 4540431.079613047, 15330647.375856116], [-22533546.163909372, 5536614.042197178, 6978967.6724453075], [19471052.131955512, 14009407.208167689, 4385431.875957597], [3813119.687748989, -21500941.001571074, 8229498.267860861], [5723268.906141844, -13713054.266705606, 15307001.138235342], [2157851.5971987573, -5147224.726407247, 19401388.109128114]], 3.0: [[682171.9925742261, -9134458.459162064, 18457950.875425063], [1523269.4022616744, 685531.5142477853, 20065908.841220364], [-2758223.106523579, 9682044.115608372, 18175444.8261633], [-10238064.361748155, 15380553.743282616, 12733131.38392161], [-11545804.547764812, -20210078.280715287, 6262791.890947872], [-4282354.216655354, -16376196.959966877, 13969408.809898986]], 4.0: [[-18834648.69735769, -8735019.744685955, 10248910.745639142], [-10459450.977667458, -6302923.931696653, 17256943.446837265], [-2088147.476658281, -655611.3893656363, 20126744.11331214], [3011342.828854194, 7711398.153727655, 18875221.6726942], [3024759.920571978, 16541543.19506699, 14167948.536179597], [-1498797.4838931067, 22956594.717107795, 6826623.214026105]], 17.0: [[7773514.067488499, -16625367.25408047, 13306994.423693383], [-2101400.8723920127, -19590411.127549164, 11784762.431034982], [-11050939.617592325, -21261054.130025797, 5212712.4901878415], [-16901801.528241947, 16478079.633564007, 5680071.897139825], [-8329013.522114042, 16159695.897685003, 13179365.118090278], [1915853.6944242474, 14839217.329148496, 15926982.549426606], [11377367.609652232, 14748105.733222358, 13079625.52520461], [17350477.731529035, 16718928.20335757, 5615461.653057663], [15898587.38752527, -14780941.5312174, 9573445.252433024]], 19.0: [[15343893.800810542, -14592524.444518909, 9315194.564593127], [6040120.635808258, -18245725.43858851, 11630525.447804444], [-3709447.6087426655, -21792663.216608517, 8019469.967778031], [-17057566.97691336, 13244050.681675341, 9215649.294261256], [-7680718.779939792, 12855569.873532359, 15513961.09134518], [2923255.8115820745, 12791283.81843362, 16553347.349102765], [11765878.894682443, 14692987.525424499, 12065933.518589385]], 21.0: [[-13024829.674351854, 7049808.427664721, 16336600.707309801], [-20681237.13562374, 8568914.93818729, 8475349.998266235], [558936.0058984673, -20282088.9580684, 10868040.57332164], [3454805.241758723, -12727116.642287772, 17124190.412493736], [1447856.9179941062, -4044542.4392936877, 20443464.013440654], [-5029995.924898472, 3114759.5912902197, 20190096.35076971]], 22.0: [[8634246.958239757, 14096075.222810369, 14856892.188759232], [13942784.80779611, 18036527.031717315, 7758970.247943001], [18290259.06160876, -14204374.993110154, 7333056.611741247], [10046284.71634234, -18189141.34302905, 10577235.940757742], [782036.6789222518, -22356099.35915433, 8119159.1404019715], [-18780158.227863185, 11578085.441863095, 8576791.899384508], [-10031316.560381442, 11771720.281739432, 15526221.630633537], [204951.03370186687, 12128352.9727236, 17639266.7152417]], 31.0: [[-1765213.6205159714, 20110691.44398511, 10471995.61033221], [8257292.793657751, 17035912.085559234, 11982546.674863333], [16927420.169534124, 14723398.75095136, 7727123.5056481715], [15699980.286968797, -16933331.761243574, 6374734.397944933], [9317538.393803645, -14677282.834262738, 13625056.899631876], [-387885.7660454009, -14343304.625739433, 16067428.934174675], [-10576561.04057033, -15157047.338565521, 12967410.671626717], [-18810525.477825243, -15041868.60277925, 5417076.433923025], [-10336134.999615818, 21569488.556365594, 4533972.254894828]], 32.0: [[13384615.965533953, 16370414.50817755, 9847798.092252936], [19798260.53167039, -13733631.671038568, 5147415.8202714715], [12224935.866830202, -16490024.78143255, 10618925.801256225], [2752632.703248932, -20344008.597699966, 10486260.898190746], [-6469476.48229377, -23000513.373878393, 5045448.159990698], [-20897481.27816956, 12541735.784338497, 4353648.173831019], [-13250832.597514693, 13267305.009963006, 12619039.500835588], [-3242770.427326373, 12973889.190367734, 16753832.78654846], [6704025.606436359, 13791633.076253308, 15483344.96441133]], 6.0: [[15123899.214892764, -16073725.580627631, 8505949.291649282], [8013226.972043563, -13695570.49900578, 15022580.383339813], [-2120924.415960542, -13470654.549993522, 16507861.19148301], [-12310337.382861571, -14336991.07926901, 12368082.18108572], [-7950894.89875117, 22187642.906743467, 5802532.327119337], [1339546.0223063314, 19587209.638039947, 11535705.127145872], [11113015.721780017, 15961731.441458646, 11796908.012280166], [19051727.486473713, 13653353.215829633, 6296448.527722688]], 9.0: [[-15587918.33851836, -15824087.886250041, 8196684.855059905], [-7910128.648797052, -12600309.924781878, 15607319.24849686], [-1217803.1589064952, -5581229.304381461, 19526973.269118056], [1496596.73814567, 3902397.2569961776, 19806084.04868188], [-871617.044488458, 13116589.793122564, 16647440.997908624], [-6987321.106493611, 19345279.061083592, 10366621.258929262]], 2.0: [[15303882.797019277, -15347084.861193357, 9933708.18635624], [6471759.187976629, -18265864.889390085, 12524911.624791268], [-3025250.293538971, -21462053.294626232, 9526196.29847503], [-15593928.453580303, 15210538.060801554, 8763778.178834729], [-6406158.154855283, 14786421.927070934, 15056506.11017951], [3796956.619851389, 14265351.601398824, 16268608.67737751], [12372406.321023392, 15420260.078716658, 12194205.485919487]], 7.0: [[-21090508.213490143, -4077190.957077504, 9672064.250343248], [-13036960.657292722, -2510531.091461665, 17072993.909133445], [-3974025.264071825, 1424881.9715663688, 20268438.00140464], [2913874.743792519, 8122086.995671609, 19098681.02494498], [5273638.640003206, 16153596.730856314, 14251329.366774369], [2695342.1283890195, 22890126.3660886, 6715916.0799504835]], 11.0: [[13516453.229675168, -15224880.465139305, 10705586.758789426], [4134370.9848372317, -16974858.66412779, 13637669.521347294], [-5925934.304757124, -19330923.97238382, 10841038.430132553], [-14850823.902570479, 17518779.564992625, 6968000.225328557], [-5722067.671616719, 16753760.439109787, 13435216.515437799], [4608639.299328806, 15324749.346010594, 14839559.68172785], [13563762.016961819, 15255202.117118534, 10640741.583330512]], 16.0: [[-134882.37971203076, 23272476.714847803, 5735374.1160540385], [9165293.203977983, 18827793.0123003, 9447473.109217336], [17796509.436964523, 13817852.40361415, 7275180.066387845], [13097912.267231207, -18648700.165162127, 6652228.57615253], [8716281.507540453, -13665384.661694882, 14391888.003748303], [-104984.24165106192, -10410096.68783512, 17988937.763262495], [-10546781.721619345, -9348381.051490597, 16257750.761589898], [-19541541.22436208, -9086011.740416806, 9556952.506573081]], 26.0: [[12964125.794740211, 18590556.655897472, 7229449.472681793], [20450976.774194673, 12666536.729028933, 4781372.169233615], [10024951.748850077, -18385746.95069348, 9757683.041798862], [5666411.0996509595, -12484305.735671397, 16317798.90920653], [-2849354.8269585585, -8178219.210827213, 18777907.56918446], [-12816709.260919586, -6073904.756029161, 16221370.107503843], [-21209146.583590012, -5010310.705617756, 9090205.919651356]], 20.0: [[12292064.52751416, -16684069.473857032, 10322120.272517636], [5151152.777061575, -13325264.471152557, 15990437.835466541], [-4859905.700363136, -11882401.360907506, 16773172.448482662], [-14791679.45927946, -11536986.316262245, 12235856.980593255], [-4613490.111061848, 23888615.610520728, 4603743.362958543], [4423195.40116485, 20837235.401742946, 9665487.791079199], [13527145.189533234, 16546457.05912728, 9480265.061632425]], 30.0: [[-18675962.707336947, -9007895.844291702, 10430687.660464894], [-10573509.851399155, -6342682.307826074, 17311736.593243737], [-2556673.5722666364, -584064.8010973781, 20172997.998023715], [2273247.5583677078, 7733650.95636967, 18992109.76940681], [2225668.1345302854, 16424356.755515128, 14351869.911226824], [-2126918.666302791, 22729191.75362041, 7012003.352658479]], 5.0: [[13420685.109431505, -15840949.757618358, 9980539.588361647], [5468717.654049542, -13826459.65537072, 15527268.850502497], [-4862188.960825104, -13728778.938940508, 15809081.080953784], [-14641796.633592568, -14221645.739548378, 10694863.618949238], [-6241625.886093916, 21968105.331283975, 6949310.740231731], [3348530.2431441043, 19150275.83341693, 11509358.18445285], [12940307.1061265, 15740859.034923125, 10458560.718861554]], 13.0: [[5312302.457273285, -19597570.475221757, 10523612.061189463], [5141740.152716367, -11525015.242528763, 16851023.457828], [-285865.90152713284, -3731172.1685489346, 19841280.3639419], [-9192443.677506007, 1546672.6734649483, 18484891.983911894], [-18323518.516042028, 3894784.8551549762, 12537110.846860426]], 14.0: [[-21050687.05131314, 3642975.258116659, 9452853.286880305], [-12497079.615983663, 4740173.734109804, 16611960.619669741], [-2496181.975280976, 7189161.758645659, 19095870.226748504], [5784640.251703912, 12018241.751197621, 16603471.83349207], [9671433.573394258, 18403571.05468443, 10138769.503557276], [20700360.12611729, -12221811.182206245, 4955539.874319456], [13424731.99857203, -18624369.088872805, 6963066.586660331]], 27.0: [[17376918.276318673, 16546635.477436353, 4464083.263438305], [3816590.1975904284, -23173510.241018094, 5449186.464829792], [6331883.545331433, -16271749.866907809, 13327869.761298295], [3558012.416061376, -8077432.74235921, 18527151.764682874], [-3941315.466131527, -1411839.3086122563, 19842606.667601585], [-13501771.036888506, 2274440.312415135, 16523729.92474604], [-21722722.684030995, 3550804.053640878, 8872933.336481554]], 8.0: [[14349885.080516895, 17604403.450234327, 7221166.074161345], [21485693.402214974, 11242383.730816552, 4488890.160087634], [9678458.100610128, -17383077.79587356, 11085931.211156651], [5126459.467973473, -11051460.531148221, 17234205.34148092], [-3604915.843449869, -6571513.032681973, 19209088.505133104], [-13655464.212646514, -4536231.506699681, 16144383.105614819], [-21895900.04856295, -3684735.7365824087, 8532592.046326261]], 15.0: [[10856976.049558958, -18527735.22525802, 8643000.976988437], [6128523.430163838, -13098605.04074741, 15538117.260759447], [-2688639.7058487833, -9260226.20909355, 18187652.31787192], [-12796524.941581178, -7468620.761935039, 15674987.98568086], [-21205068.465100214, -6450015.756157762, 8584636.14483355], [3306419.2063241876, 23337477.533643328, 5168255.966984687], [12251868.468305886, 18338700.156866506, 7778400.260331696], [20014569.474539727, 12937001.838314489, 4666058.958742693]], 23.0: [[19747007.501392215, -12856546.263975468, 5913316.338982122], [11859913.876409035, -17913770.642116178, 9214928.238665566], [2891931.1301080855, -22918446.97542325, 6649498.912653727], [-20585726.781103626, 8105517.313368713, 8397222.856532276], [-11996338.255683593, 8645914.212353427, 15738244.93958258], [-1654795.4887803653, 9769010.579239186, 18299352.53678094], [7413936.837079711, 13002832.250813846, 15575621.463851593], [12352275.588425204, 18098631.363499325, 8606162.242158856]], 10.0: [[21950231.690618142, -10706157.623419574, 4436123.831583634], [15138094.523622476, -17503688.16384489, 6759126.578795824], [-21272495.14598685, 2297173.1869015153, 9608990.157513425], [-12752437.253060186, 3230841.4434654852, 16924767.399031695], [-2783830.933968913, 5774498.34547524, 19599110.081512187], [5412116.8289640555, 10918849.491067113, 17378479.92090114], [9134607.116437346, 17738769.148405775, 11220284.540014548]], 24.0: [[3779767.501477953, -18777466.240956455, 11563516.987353299], [3536525.552427994, -10550906.750930058, 17458661.223780904], [-1689994.8477275595, -2570332.4685137034, 19877848.95113644], [-10163811.188221868, 2970979.297098494, 18019399.246625654], [-18760380.499057278, 5621284.8926077485, 11836423.957859704]], 12.0: [[-12086405.884769604, -17443366.902964734, 9384430.36325284], [-4484514.889987403, -12879618.109697673, 16182219.626770347], [779558.2403810062, -4518191.295803541, 19561419.550491482], [1203610.3404178042, 5488613.906441685, 19395198.888884686], [-3355909.212417406, 14075918.887217507, 15778150.14029326], [-10628004.973903561, 18917406.38041051, 8959136.93541153]], 25.0: [[-6706715.664411727, -22788548.041932423, 5038013.828059095], [-547320.4174753586, -17874257.827926606, 12901568.625441609], [2329051.5949578406, -9342094.913509943, 18104621.05300054], [104437.19409286603, 175158.90881555667, 20007877.88278086], [-6552363.738940361, 7782021.855634795, 18103167.287527896], [-14887691.544865355, 11871798.480358813, 12261747.60677018]], 29.0: [[-15485155.784206862, -12423244.056864686, 11295606.918666106], [-6986548.179969251, -8867313.794150542, 17668266.755128693], [128816.58316672221, -1620817.6505464208, 20118790.63174976], [2885998.747745568, 7867049.622811233, 18794873.03289236], [340952.00227351487, 16731946.100243062, 14196697.009924043], [-5925753.9053134145, 22198603.143231258, 6869021.836094544]], 18.0: [[-21131054.416338686, -4141644.569127441, 9249938.796253096], [-12820285.185390148, -2632544.7419672105, 16789589.337295245], [-3421534.6113312785, 1398053.201176948, 19960729.993706346], [3663162.8080771547, 8330705.539093866, 18588551.757230163], [5944655.0669251755, 16584444.241432682, 13477472.295864169], [3075064.662390059, 23367150.24706742, 5777261.902431034]]}\n"
     ]
    }
   ],
   "source": [
    "print(satelity_neu)"
   ]
  },
  {
   "cell_type": "markdown",
   "id": "b5510b4f",
   "metadata": {},
   "source": [
    "## Testy"
   ]
  },
  {
   "cell_type": "code",
   "execution_count": 548,
   "id": "2ef4244d",
   "metadata": {},
   "outputs": [
    {
     "name": "stdout",
     "output_type": "stream",
     "text": [
      "Wpisz numer satelity do wyświetlenia:1\n"
     ]
    }
   ],
   "source": [
    "wybrany_nr = int(input('Wpisz numer satelity do wyświetlenia:'))"
   ]
  },
  {
   "cell_type": "code",
   "execution_count": 549,
   "id": "154de06c",
   "metadata": {},
   "outputs": [
    {
     "name": "stdout",
     "output_type": "stream",
     "text": [
      "[[-5246841.918266001, 1042778.3253596826, 19579972.31241733], [-14779139.995629763, 4540431.079613047, 15330647.375856116], [-22533546.163909372, 5536614.042197178, 6978967.6724453075], [19471052.131955512, 14009407.208167689, 4385431.875957597], [3813119.687748989, -21500941.001571074, 8229498.267860861], [5723268.906141844, -13713054.266705606, 15307001.138235342], [2157851.5971987573, -5147224.726407247, 19401388.109128114]]\n"
     ]
    }
   ],
   "source": [
    "print(satelity_neu[1])"
   ]
  },
  {
   "cell_type": "code",
   "execution_count": 550,
   "id": "d2c8da51",
   "metadata": {},
   "outputs": [],
   "source": [
    "n=[]\n",
    "e=[]\n",
    "u=[]\n",
    "for lista in satelity_neu[wybrany_nr]:\n",
    "#     print(lista)\n",
    "    n.append(lista[0])\n",
    "    e.append(lista[1])\n",
    "    u.append(lista[2])"
   ]
  },
  {
   "cell_type": "code",
   "execution_count": 551,
   "id": "4c193dd5",
   "metadata": {},
   "outputs": [
    {
     "data": {
      "text/html": [
       "<div>\n",
       "<style scoped>\n",
       "    .dataframe tbody tr th:only-of-type {\n",
       "        vertical-align: middle;\n",
       "    }\n",
       "\n",
       "    .dataframe tbody tr th {\n",
       "        vertical-align: top;\n",
       "    }\n",
       "\n",
       "    .dataframe thead th {\n",
       "        text-align: right;\n",
       "    }\n",
       "</style>\n",
       "<table border=\"1\" class=\"dataframe\">\n",
       "  <thead>\n",
       "    <tr style=\"text-align: right;\">\n",
       "      <th></th>\n",
       "      <th>n</th>\n",
       "      <th>e</th>\n",
       "      <th>u</th>\n",
       "    </tr>\n",
       "  </thead>\n",
       "  <tbody>\n",
       "    <tr>\n",
       "      <th>0</th>\n",
       "      <td>-5.246842e+06</td>\n",
       "      <td>1.042778e+06</td>\n",
       "      <td>1.957997e+07</td>\n",
       "    </tr>\n",
       "    <tr>\n",
       "      <th>1</th>\n",
       "      <td>-1.477914e+07</td>\n",
       "      <td>4.540431e+06</td>\n",
       "      <td>1.533065e+07</td>\n",
       "    </tr>\n",
       "    <tr>\n",
       "      <th>2</th>\n",
       "      <td>-2.253355e+07</td>\n",
       "      <td>5.536614e+06</td>\n",
       "      <td>6.978968e+06</td>\n",
       "    </tr>\n",
       "    <tr>\n",
       "      <th>3</th>\n",
       "      <td>1.947105e+07</td>\n",
       "      <td>1.400941e+07</td>\n",
       "      <td>4.385432e+06</td>\n",
       "    </tr>\n",
       "    <tr>\n",
       "      <th>4</th>\n",
       "      <td>3.813120e+06</td>\n",
       "      <td>-2.150094e+07</td>\n",
       "      <td>8.229498e+06</td>\n",
       "    </tr>\n",
       "    <tr>\n",
       "      <th>5</th>\n",
       "      <td>5.723269e+06</td>\n",
       "      <td>-1.371305e+07</td>\n",
       "      <td>1.530700e+07</td>\n",
       "    </tr>\n",
       "    <tr>\n",
       "      <th>6</th>\n",
       "      <td>2.157852e+06</td>\n",
       "      <td>-5.147225e+06</td>\n",
       "      <td>1.940139e+07</td>\n",
       "    </tr>\n",
       "  </tbody>\n",
       "</table>\n",
       "</div>"
      ],
      "text/plain": [
       "              n             e             u\n",
       "0 -5.246842e+06  1.042778e+06  1.957997e+07\n",
       "1 -1.477914e+07  4.540431e+06  1.533065e+07\n",
       "2 -2.253355e+07  5.536614e+06  6.978968e+06\n",
       "3  1.947105e+07  1.400941e+07  4.385432e+06\n",
       "4  3.813120e+06 -2.150094e+07  8.229498e+06\n",
       "5  5.723269e+06 -1.371305e+07  1.530700e+07\n",
       "6  2.157852e+06 -5.147225e+06  1.940139e+07"
      ]
     },
     "execution_count": 551,
     "metadata": {},
     "output_type": "execute_result"
    }
   ],
   "source": [
    "neudf = pd.DataFrame(list(zip(n, e, u)), columns=['n', 'e', 'u'])\n",
    "neudf"
   ]
  },
  {
   "cell_type": "code",
   "execution_count": 552,
   "id": "ad75aa64",
   "metadata": {},
   "outputs": [
    {
     "data": {
      "application/vnd.plotly.v1+json": {
       "config": {
        "plotlyServerURL": "https://plot.ly"
       },
       "data": [
        {
         "hovertemplate": "e=%{x}<br>n=%{y}<br>u=%{z}<extra></extra>",
         "legendgroup": "",
         "marker": {
          "color": "#636efa",
          "symbol": "circle"
         },
         "mode": "markers",
         "name": "",
         "scene": "scene",
         "showlegend": false,
         "type": "scatter3d",
         "x": [
          1042778.3253596826,
          4540431.079613047,
          5536614.042197178,
          14009407.208167689,
          -21500941.001571074,
          -13713054.266705606,
          -5147224.726407247
         ],
         "y": [
          -5246841.918266001,
          -14779139.995629763,
          -22533546.163909372,
          19471052.131955512,
          3813119.687748989,
          5723268.906141844,
          2157851.5971987573
         ],
         "z": [
          19579972.31241733,
          15330647.375856116,
          6978967.6724453075,
          4385431.875957597,
          8229498.267860861,
          15307001.138235342,
          19401388.109128114
         ]
        }
       ],
       "layout": {
        "height": 700,
        "legend": {
         "tracegroupgap": 0
        },
        "margin": {
         "b": 0,
         "l": 0,
         "r": 0,
         "t": 0
        },
        "scene": {
         "aspectmode": "data",
         "domain": {
          "x": [
           0,
           1
          ],
          "y": [
           0,
           1
          ]
         },
         "xaxis": {
          "title": {
           "text": "e"
          }
         },
         "yaxis": {
          "title": {
           "text": "n"
          }
         },
         "zaxis": {
          "title": {
           "text": "u"
          }
         }
        },
        "template": {
         "data": {
          "bar": [
           {
            "error_x": {
             "color": "#2a3f5f"
            },
            "error_y": {
             "color": "#2a3f5f"
            },
            "marker": {
             "line": {
              "color": "#E5ECF6",
              "width": 0.5
             },
             "pattern": {
              "fillmode": "overlay",
              "size": 10,
              "solidity": 0.2
             }
            },
            "type": "bar"
           }
          ],
          "barpolar": [
           {
            "marker": {
             "line": {
              "color": "#E5ECF6",
              "width": 0.5
             },
             "pattern": {
              "fillmode": "overlay",
              "size": 10,
              "solidity": 0.2
             }
            },
            "type": "barpolar"
           }
          ],
          "carpet": [
           {
            "aaxis": {
             "endlinecolor": "#2a3f5f",
             "gridcolor": "white",
             "linecolor": "white",
             "minorgridcolor": "white",
             "startlinecolor": "#2a3f5f"
            },
            "baxis": {
             "endlinecolor": "#2a3f5f",
             "gridcolor": "white",
             "linecolor": "white",
             "minorgridcolor": "white",
             "startlinecolor": "#2a3f5f"
            },
            "type": "carpet"
           }
          ],
          "choropleth": [
           {
            "colorbar": {
             "outlinewidth": 0,
             "ticks": ""
            },
            "type": "choropleth"
           }
          ],
          "contour": [
           {
            "colorbar": {
             "outlinewidth": 0,
             "ticks": ""
            },
            "colorscale": [
             [
              0,
              "#0d0887"
             ],
             [
              0.1111111111111111,
              "#46039f"
             ],
             [
              0.2222222222222222,
              "#7201a8"
             ],
             [
              0.3333333333333333,
              "#9c179e"
             ],
             [
              0.4444444444444444,
              "#bd3786"
             ],
             [
              0.5555555555555556,
              "#d8576b"
             ],
             [
              0.6666666666666666,
              "#ed7953"
             ],
             [
              0.7777777777777778,
              "#fb9f3a"
             ],
             [
              0.8888888888888888,
              "#fdca26"
             ],
             [
              1,
              "#f0f921"
             ]
            ],
            "type": "contour"
           }
          ],
          "contourcarpet": [
           {
            "colorbar": {
             "outlinewidth": 0,
             "ticks": ""
            },
            "type": "contourcarpet"
           }
          ],
          "heatmap": [
           {
            "colorbar": {
             "outlinewidth": 0,
             "ticks": ""
            },
            "colorscale": [
             [
              0,
              "#0d0887"
             ],
             [
              0.1111111111111111,
              "#46039f"
             ],
             [
              0.2222222222222222,
              "#7201a8"
             ],
             [
              0.3333333333333333,
              "#9c179e"
             ],
             [
              0.4444444444444444,
              "#bd3786"
             ],
             [
              0.5555555555555556,
              "#d8576b"
             ],
             [
              0.6666666666666666,
              "#ed7953"
             ],
             [
              0.7777777777777778,
              "#fb9f3a"
             ],
             [
              0.8888888888888888,
              "#fdca26"
             ],
             [
              1,
              "#f0f921"
             ]
            ],
            "type": "heatmap"
           }
          ],
          "heatmapgl": [
           {
            "colorbar": {
             "outlinewidth": 0,
             "ticks": ""
            },
            "colorscale": [
             [
              0,
              "#0d0887"
             ],
             [
              0.1111111111111111,
              "#46039f"
             ],
             [
              0.2222222222222222,
              "#7201a8"
             ],
             [
              0.3333333333333333,
              "#9c179e"
             ],
             [
              0.4444444444444444,
              "#bd3786"
             ],
             [
              0.5555555555555556,
              "#d8576b"
             ],
             [
              0.6666666666666666,
              "#ed7953"
             ],
             [
              0.7777777777777778,
              "#fb9f3a"
             ],
             [
              0.8888888888888888,
              "#fdca26"
             ],
             [
              1,
              "#f0f921"
             ]
            ],
            "type": "heatmapgl"
           }
          ],
          "histogram": [
           {
            "marker": {
             "pattern": {
              "fillmode": "overlay",
              "size": 10,
              "solidity": 0.2
             }
            },
            "type": "histogram"
           }
          ],
          "histogram2d": [
           {
            "colorbar": {
             "outlinewidth": 0,
             "ticks": ""
            },
            "colorscale": [
             [
              0,
              "#0d0887"
             ],
             [
              0.1111111111111111,
              "#46039f"
             ],
             [
              0.2222222222222222,
              "#7201a8"
             ],
             [
              0.3333333333333333,
              "#9c179e"
             ],
             [
              0.4444444444444444,
              "#bd3786"
             ],
             [
              0.5555555555555556,
              "#d8576b"
             ],
             [
              0.6666666666666666,
              "#ed7953"
             ],
             [
              0.7777777777777778,
              "#fb9f3a"
             ],
             [
              0.8888888888888888,
              "#fdca26"
             ],
             [
              1,
              "#f0f921"
             ]
            ],
            "type": "histogram2d"
           }
          ],
          "histogram2dcontour": [
           {
            "colorbar": {
             "outlinewidth": 0,
             "ticks": ""
            },
            "colorscale": [
             [
              0,
              "#0d0887"
             ],
             [
              0.1111111111111111,
              "#46039f"
             ],
             [
              0.2222222222222222,
              "#7201a8"
             ],
             [
              0.3333333333333333,
              "#9c179e"
             ],
             [
              0.4444444444444444,
              "#bd3786"
             ],
             [
              0.5555555555555556,
              "#d8576b"
             ],
             [
              0.6666666666666666,
              "#ed7953"
             ],
             [
              0.7777777777777778,
              "#fb9f3a"
             ],
             [
              0.8888888888888888,
              "#fdca26"
             ],
             [
              1,
              "#f0f921"
             ]
            ],
            "type": "histogram2dcontour"
           }
          ],
          "mesh3d": [
           {
            "colorbar": {
             "outlinewidth": 0,
             "ticks": ""
            },
            "type": "mesh3d"
           }
          ],
          "parcoords": [
           {
            "line": {
             "colorbar": {
              "outlinewidth": 0,
              "ticks": ""
             }
            },
            "type": "parcoords"
           }
          ],
          "pie": [
           {
            "automargin": true,
            "type": "pie"
           }
          ],
          "scatter": [
           {
            "marker": {
             "colorbar": {
              "outlinewidth": 0,
              "ticks": ""
             }
            },
            "type": "scatter"
           }
          ],
          "scatter3d": [
           {
            "line": {
             "colorbar": {
              "outlinewidth": 0,
              "ticks": ""
             }
            },
            "marker": {
             "colorbar": {
              "outlinewidth": 0,
              "ticks": ""
             }
            },
            "type": "scatter3d"
           }
          ],
          "scattercarpet": [
           {
            "marker": {
             "colorbar": {
              "outlinewidth": 0,
              "ticks": ""
             }
            },
            "type": "scattercarpet"
           }
          ],
          "scattergeo": [
           {
            "marker": {
             "colorbar": {
              "outlinewidth": 0,
              "ticks": ""
             }
            },
            "type": "scattergeo"
           }
          ],
          "scattergl": [
           {
            "marker": {
             "colorbar": {
              "outlinewidth": 0,
              "ticks": ""
             }
            },
            "type": "scattergl"
           }
          ],
          "scattermapbox": [
           {
            "marker": {
             "colorbar": {
              "outlinewidth": 0,
              "ticks": ""
             }
            },
            "type": "scattermapbox"
           }
          ],
          "scatterpolar": [
           {
            "marker": {
             "colorbar": {
              "outlinewidth": 0,
              "ticks": ""
             }
            },
            "type": "scatterpolar"
           }
          ],
          "scatterpolargl": [
           {
            "marker": {
             "colorbar": {
              "outlinewidth": 0,
              "ticks": ""
             }
            },
            "type": "scatterpolargl"
           }
          ],
          "scatterternary": [
           {
            "marker": {
             "colorbar": {
              "outlinewidth": 0,
              "ticks": ""
             }
            },
            "type": "scatterternary"
           }
          ],
          "surface": [
           {
            "colorbar": {
             "outlinewidth": 0,
             "ticks": ""
            },
            "colorscale": [
             [
              0,
              "#0d0887"
             ],
             [
              0.1111111111111111,
              "#46039f"
             ],
             [
              0.2222222222222222,
              "#7201a8"
             ],
             [
              0.3333333333333333,
              "#9c179e"
             ],
             [
              0.4444444444444444,
              "#bd3786"
             ],
             [
              0.5555555555555556,
              "#d8576b"
             ],
             [
              0.6666666666666666,
              "#ed7953"
             ],
             [
              0.7777777777777778,
              "#fb9f3a"
             ],
             [
              0.8888888888888888,
              "#fdca26"
             ],
             [
              1,
              "#f0f921"
             ]
            ],
            "type": "surface"
           }
          ],
          "table": [
           {
            "cells": {
             "fill": {
              "color": "#EBF0F8"
             },
             "line": {
              "color": "white"
             }
            },
            "header": {
             "fill": {
              "color": "#C8D4E3"
             },
             "line": {
              "color": "white"
             }
            },
            "type": "table"
           }
          ]
         },
         "layout": {
          "annotationdefaults": {
           "arrowcolor": "#2a3f5f",
           "arrowhead": 0,
           "arrowwidth": 1
          },
          "autotypenumbers": "strict",
          "coloraxis": {
           "colorbar": {
            "outlinewidth": 0,
            "ticks": ""
           }
          },
          "colorscale": {
           "diverging": [
            [
             0,
             "#8e0152"
            ],
            [
             0.1,
             "#c51b7d"
            ],
            [
             0.2,
             "#de77ae"
            ],
            [
             0.3,
             "#f1b6da"
            ],
            [
             0.4,
             "#fde0ef"
            ],
            [
             0.5,
             "#f7f7f7"
            ],
            [
             0.6,
             "#e6f5d0"
            ],
            [
             0.7,
             "#b8e186"
            ],
            [
             0.8,
             "#7fbc41"
            ],
            [
             0.9,
             "#4d9221"
            ],
            [
             1,
             "#276419"
            ]
           ],
           "sequential": [
            [
             0,
             "#0d0887"
            ],
            [
             0.1111111111111111,
             "#46039f"
            ],
            [
             0.2222222222222222,
             "#7201a8"
            ],
            [
             0.3333333333333333,
             "#9c179e"
            ],
            [
             0.4444444444444444,
             "#bd3786"
            ],
            [
             0.5555555555555556,
             "#d8576b"
            ],
            [
             0.6666666666666666,
             "#ed7953"
            ],
            [
             0.7777777777777778,
             "#fb9f3a"
            ],
            [
             0.8888888888888888,
             "#fdca26"
            ],
            [
             1,
             "#f0f921"
            ]
           ],
           "sequentialminus": [
            [
             0,
             "#0d0887"
            ],
            [
             0.1111111111111111,
             "#46039f"
            ],
            [
             0.2222222222222222,
             "#7201a8"
            ],
            [
             0.3333333333333333,
             "#9c179e"
            ],
            [
             0.4444444444444444,
             "#bd3786"
            ],
            [
             0.5555555555555556,
             "#d8576b"
            ],
            [
             0.6666666666666666,
             "#ed7953"
            ],
            [
             0.7777777777777778,
             "#fb9f3a"
            ],
            [
             0.8888888888888888,
             "#fdca26"
            ],
            [
             1,
             "#f0f921"
            ]
           ]
          },
          "colorway": [
           "#636efa",
           "#EF553B",
           "#00cc96",
           "#ab63fa",
           "#FFA15A",
           "#19d3f3",
           "#FF6692",
           "#B6E880",
           "#FF97FF",
           "#FECB52"
          ],
          "font": {
           "color": "#2a3f5f"
          },
          "geo": {
           "bgcolor": "white",
           "lakecolor": "white",
           "landcolor": "#E5ECF6",
           "showlakes": true,
           "showland": true,
           "subunitcolor": "white"
          },
          "hoverlabel": {
           "align": "left"
          },
          "hovermode": "closest",
          "mapbox": {
           "style": "light"
          },
          "paper_bgcolor": "white",
          "plot_bgcolor": "#E5ECF6",
          "polar": {
           "angularaxis": {
            "gridcolor": "white",
            "linecolor": "white",
            "ticks": ""
           },
           "bgcolor": "#E5ECF6",
           "radialaxis": {
            "gridcolor": "white",
            "linecolor": "white",
            "ticks": ""
           }
          },
          "scene": {
           "xaxis": {
            "backgroundcolor": "#E5ECF6",
            "gridcolor": "white",
            "gridwidth": 2,
            "linecolor": "white",
            "showbackground": true,
            "ticks": "",
            "zerolinecolor": "white"
           },
           "yaxis": {
            "backgroundcolor": "#E5ECF6",
            "gridcolor": "white",
            "gridwidth": 2,
            "linecolor": "white",
            "showbackground": true,
            "ticks": "",
            "zerolinecolor": "white"
           },
           "zaxis": {
            "backgroundcolor": "#E5ECF6",
            "gridcolor": "white",
            "gridwidth": 2,
            "linecolor": "white",
            "showbackground": true,
            "ticks": "",
            "zerolinecolor": "white"
           }
          },
          "shapedefaults": {
           "line": {
            "color": "#2a3f5f"
           }
          },
          "ternary": {
           "aaxis": {
            "gridcolor": "white",
            "linecolor": "white",
            "ticks": ""
           },
           "baxis": {
            "gridcolor": "white",
            "linecolor": "white",
            "ticks": ""
           },
           "bgcolor": "#E5ECF6",
           "caxis": {
            "gridcolor": "white",
            "linecolor": "white",
            "ticks": ""
           }
          },
          "title": {
           "x": 0.05
          },
          "xaxis": {
           "automargin": true,
           "gridcolor": "white",
           "linecolor": "white",
           "ticks": "",
           "title": {
            "standoff": 15
           },
           "zerolinecolor": "white",
           "zerolinewidth": 2
          },
          "yaxis": {
           "automargin": true,
           "gridcolor": "white",
           "linecolor": "white",
           "ticks": "",
           "title": {
            "standoff": 15
           },
           "zerolinecolor": "white",
           "zerolinewidth": 2
          }
         }
        }
       }
      },
      "text/html": [
       "<div>                            <div id=\"1da93e7c-a38b-4541-90e2-8d24de16d778\" class=\"plotly-graph-div\" style=\"height:700px; width:100%;\"></div>            <script type=\"text/javascript\">                require([\"plotly\"], function(Plotly) {                    window.PLOTLYENV=window.PLOTLYENV || {};                                    if (document.getElementById(\"1da93e7c-a38b-4541-90e2-8d24de16d778\")) {                    Plotly.newPlot(                        \"1da93e7c-a38b-4541-90e2-8d24de16d778\",                        [{\"hovertemplate\":\"e=%{x}<br>n=%{y}<br>u=%{z}<extra></extra>\",\"legendgroup\":\"\",\"marker\":{\"color\":\"#636efa\",\"symbol\":\"circle\"},\"mode\":\"markers\",\"name\":\"\",\"scene\":\"scene\",\"showlegend\":false,\"x\":[1042778.3253596826,4540431.079613047,5536614.042197178,14009407.208167689,-21500941.001571074,-13713054.266705606,-5147224.726407247],\"y\":[-5246841.918266001,-14779139.995629763,-22533546.163909372,19471052.131955512,3813119.687748989,5723268.906141844,2157851.5971987573],\"z\":[19579972.31241733,15330647.375856116,6978967.6724453075,4385431.875957597,8229498.267860861,15307001.138235342,19401388.109128114],\"type\":\"scatter3d\"}],                        {\"template\":{\"data\":{\"bar\":[{\"error_x\":{\"color\":\"#2a3f5f\"},\"error_y\":{\"color\":\"#2a3f5f\"},\"marker\":{\"line\":{\"color\":\"#E5ECF6\",\"width\":0.5},\"pattern\":{\"fillmode\":\"overlay\",\"size\":10,\"solidity\":0.2}},\"type\":\"bar\"}],\"barpolar\":[{\"marker\":{\"line\":{\"color\":\"#E5ECF6\",\"width\":0.5},\"pattern\":{\"fillmode\":\"overlay\",\"size\":10,\"solidity\":0.2}},\"type\":\"barpolar\"}],\"carpet\":[{\"aaxis\":{\"endlinecolor\":\"#2a3f5f\",\"gridcolor\":\"white\",\"linecolor\":\"white\",\"minorgridcolor\":\"white\",\"startlinecolor\":\"#2a3f5f\"},\"baxis\":{\"endlinecolor\":\"#2a3f5f\",\"gridcolor\":\"white\",\"linecolor\":\"white\",\"minorgridcolor\":\"white\",\"startlinecolor\":\"#2a3f5f\"},\"type\":\"carpet\"}],\"choropleth\":[{\"colorbar\":{\"outlinewidth\":0,\"ticks\":\"\"},\"type\":\"choropleth\"}],\"contour\":[{\"colorbar\":{\"outlinewidth\":0,\"ticks\":\"\"},\"colorscale\":[[0.0,\"#0d0887\"],[0.1111111111111111,\"#46039f\"],[0.2222222222222222,\"#7201a8\"],[0.3333333333333333,\"#9c179e\"],[0.4444444444444444,\"#bd3786\"],[0.5555555555555556,\"#d8576b\"],[0.6666666666666666,\"#ed7953\"],[0.7777777777777778,\"#fb9f3a\"],[0.8888888888888888,\"#fdca26\"],[1.0,\"#f0f921\"]],\"type\":\"contour\"}],\"contourcarpet\":[{\"colorbar\":{\"outlinewidth\":0,\"ticks\":\"\"},\"type\":\"contourcarpet\"}],\"heatmap\":[{\"colorbar\":{\"outlinewidth\":0,\"ticks\":\"\"},\"colorscale\":[[0.0,\"#0d0887\"],[0.1111111111111111,\"#46039f\"],[0.2222222222222222,\"#7201a8\"],[0.3333333333333333,\"#9c179e\"],[0.4444444444444444,\"#bd3786\"],[0.5555555555555556,\"#d8576b\"],[0.6666666666666666,\"#ed7953\"],[0.7777777777777778,\"#fb9f3a\"],[0.8888888888888888,\"#fdca26\"],[1.0,\"#f0f921\"]],\"type\":\"heatmap\"}],\"heatmapgl\":[{\"colorbar\":{\"outlinewidth\":0,\"ticks\":\"\"},\"colorscale\":[[0.0,\"#0d0887\"],[0.1111111111111111,\"#46039f\"],[0.2222222222222222,\"#7201a8\"],[0.3333333333333333,\"#9c179e\"],[0.4444444444444444,\"#bd3786\"],[0.5555555555555556,\"#d8576b\"],[0.6666666666666666,\"#ed7953\"],[0.7777777777777778,\"#fb9f3a\"],[0.8888888888888888,\"#fdca26\"],[1.0,\"#f0f921\"]],\"type\":\"heatmapgl\"}],\"histogram\":[{\"marker\":{\"pattern\":{\"fillmode\":\"overlay\",\"size\":10,\"solidity\":0.2}},\"type\":\"histogram\"}],\"histogram2d\":[{\"colorbar\":{\"outlinewidth\":0,\"ticks\":\"\"},\"colorscale\":[[0.0,\"#0d0887\"],[0.1111111111111111,\"#46039f\"],[0.2222222222222222,\"#7201a8\"],[0.3333333333333333,\"#9c179e\"],[0.4444444444444444,\"#bd3786\"],[0.5555555555555556,\"#d8576b\"],[0.6666666666666666,\"#ed7953\"],[0.7777777777777778,\"#fb9f3a\"],[0.8888888888888888,\"#fdca26\"],[1.0,\"#f0f921\"]],\"type\":\"histogram2d\"}],\"histogram2dcontour\":[{\"colorbar\":{\"outlinewidth\":0,\"ticks\":\"\"},\"colorscale\":[[0.0,\"#0d0887\"],[0.1111111111111111,\"#46039f\"],[0.2222222222222222,\"#7201a8\"],[0.3333333333333333,\"#9c179e\"],[0.4444444444444444,\"#bd3786\"],[0.5555555555555556,\"#d8576b\"],[0.6666666666666666,\"#ed7953\"],[0.7777777777777778,\"#fb9f3a\"],[0.8888888888888888,\"#fdca26\"],[1.0,\"#f0f921\"]],\"type\":\"histogram2dcontour\"}],\"mesh3d\":[{\"colorbar\":{\"outlinewidth\":0,\"ticks\":\"\"},\"type\":\"mesh3d\"}],\"parcoords\":[{\"line\":{\"colorbar\":{\"outlinewidth\":0,\"ticks\":\"\"}},\"type\":\"parcoords\"}],\"pie\":[{\"automargin\":true,\"type\":\"pie\"}],\"scatter\":[{\"marker\":{\"colorbar\":{\"outlinewidth\":0,\"ticks\":\"\"}},\"type\":\"scatter\"}],\"scatter3d\":[{\"line\":{\"colorbar\":{\"outlinewidth\":0,\"ticks\":\"\"}},\"marker\":{\"colorbar\":{\"outlinewidth\":0,\"ticks\":\"\"}},\"type\":\"scatter3d\"}],\"scattercarpet\":[{\"marker\":{\"colorbar\":{\"outlinewidth\":0,\"ticks\":\"\"}},\"type\":\"scattercarpet\"}],\"scattergeo\":[{\"marker\":{\"colorbar\":{\"outlinewidth\":0,\"ticks\":\"\"}},\"type\":\"scattergeo\"}],\"scattergl\":[{\"marker\":{\"colorbar\":{\"outlinewidth\":0,\"ticks\":\"\"}},\"type\":\"scattergl\"}],\"scattermapbox\":[{\"marker\":{\"colorbar\":{\"outlinewidth\":0,\"ticks\":\"\"}},\"type\":\"scattermapbox\"}],\"scatterpolar\":[{\"marker\":{\"colorbar\":{\"outlinewidth\":0,\"ticks\":\"\"}},\"type\":\"scatterpolar\"}],\"scatterpolargl\":[{\"marker\":{\"colorbar\":{\"outlinewidth\":0,\"ticks\":\"\"}},\"type\":\"scatterpolargl\"}],\"scatterternary\":[{\"marker\":{\"colorbar\":{\"outlinewidth\":0,\"ticks\":\"\"}},\"type\":\"scatterternary\"}],\"surface\":[{\"colorbar\":{\"outlinewidth\":0,\"ticks\":\"\"},\"colorscale\":[[0.0,\"#0d0887\"],[0.1111111111111111,\"#46039f\"],[0.2222222222222222,\"#7201a8\"],[0.3333333333333333,\"#9c179e\"],[0.4444444444444444,\"#bd3786\"],[0.5555555555555556,\"#d8576b\"],[0.6666666666666666,\"#ed7953\"],[0.7777777777777778,\"#fb9f3a\"],[0.8888888888888888,\"#fdca26\"],[1.0,\"#f0f921\"]],\"type\":\"surface\"}],\"table\":[{\"cells\":{\"fill\":{\"color\":\"#EBF0F8\"},\"line\":{\"color\":\"white\"}},\"header\":{\"fill\":{\"color\":\"#C8D4E3\"},\"line\":{\"color\":\"white\"}},\"type\":\"table\"}]},\"layout\":{\"annotationdefaults\":{\"arrowcolor\":\"#2a3f5f\",\"arrowhead\":0,\"arrowwidth\":1},\"autotypenumbers\":\"strict\",\"coloraxis\":{\"colorbar\":{\"outlinewidth\":0,\"ticks\":\"\"}},\"colorscale\":{\"diverging\":[[0,\"#8e0152\"],[0.1,\"#c51b7d\"],[0.2,\"#de77ae\"],[0.3,\"#f1b6da\"],[0.4,\"#fde0ef\"],[0.5,\"#f7f7f7\"],[0.6,\"#e6f5d0\"],[0.7,\"#b8e186\"],[0.8,\"#7fbc41\"],[0.9,\"#4d9221\"],[1,\"#276419\"]],\"sequential\":[[0.0,\"#0d0887\"],[0.1111111111111111,\"#46039f\"],[0.2222222222222222,\"#7201a8\"],[0.3333333333333333,\"#9c179e\"],[0.4444444444444444,\"#bd3786\"],[0.5555555555555556,\"#d8576b\"],[0.6666666666666666,\"#ed7953\"],[0.7777777777777778,\"#fb9f3a\"],[0.8888888888888888,\"#fdca26\"],[1.0,\"#f0f921\"]],\"sequentialminus\":[[0.0,\"#0d0887\"],[0.1111111111111111,\"#46039f\"],[0.2222222222222222,\"#7201a8\"],[0.3333333333333333,\"#9c179e\"],[0.4444444444444444,\"#bd3786\"],[0.5555555555555556,\"#d8576b\"],[0.6666666666666666,\"#ed7953\"],[0.7777777777777778,\"#fb9f3a\"],[0.8888888888888888,\"#fdca26\"],[1.0,\"#f0f921\"]]},\"colorway\":[\"#636efa\",\"#EF553B\",\"#00cc96\",\"#ab63fa\",\"#FFA15A\",\"#19d3f3\",\"#FF6692\",\"#B6E880\",\"#FF97FF\",\"#FECB52\"],\"font\":{\"color\":\"#2a3f5f\"},\"geo\":{\"bgcolor\":\"white\",\"lakecolor\":\"white\",\"landcolor\":\"#E5ECF6\",\"showlakes\":true,\"showland\":true,\"subunitcolor\":\"white\"},\"hoverlabel\":{\"align\":\"left\"},\"hovermode\":\"closest\",\"mapbox\":{\"style\":\"light\"},\"paper_bgcolor\":\"white\",\"plot_bgcolor\":\"#E5ECF6\",\"polar\":{\"angularaxis\":{\"gridcolor\":\"white\",\"linecolor\":\"white\",\"ticks\":\"\"},\"bgcolor\":\"#E5ECF6\",\"radialaxis\":{\"gridcolor\":\"white\",\"linecolor\":\"white\",\"ticks\":\"\"}},\"scene\":{\"xaxis\":{\"backgroundcolor\":\"#E5ECF6\",\"gridcolor\":\"white\",\"gridwidth\":2,\"linecolor\":\"white\",\"showbackground\":true,\"ticks\":\"\",\"zerolinecolor\":\"white\"},\"yaxis\":{\"backgroundcolor\":\"#E5ECF6\",\"gridcolor\":\"white\",\"gridwidth\":2,\"linecolor\":\"white\",\"showbackground\":true,\"ticks\":\"\",\"zerolinecolor\":\"white\"},\"zaxis\":{\"backgroundcolor\":\"#E5ECF6\",\"gridcolor\":\"white\",\"gridwidth\":2,\"linecolor\":\"white\",\"showbackground\":true,\"ticks\":\"\",\"zerolinecolor\":\"white\"}},\"shapedefaults\":{\"line\":{\"color\":\"#2a3f5f\"}},\"ternary\":{\"aaxis\":{\"gridcolor\":\"white\",\"linecolor\":\"white\",\"ticks\":\"\"},\"baxis\":{\"gridcolor\":\"white\",\"linecolor\":\"white\",\"ticks\":\"\"},\"bgcolor\":\"#E5ECF6\",\"caxis\":{\"gridcolor\":\"white\",\"linecolor\":\"white\",\"ticks\":\"\"}},\"title\":{\"x\":0.05},\"xaxis\":{\"automargin\":true,\"gridcolor\":\"white\",\"linecolor\":\"white\",\"ticks\":\"\",\"title\":{\"standoff\":15},\"zerolinecolor\":\"white\",\"zerolinewidth\":2},\"yaxis\":{\"automargin\":true,\"gridcolor\":\"white\",\"linecolor\":\"white\",\"ticks\":\"\",\"title\":{\"standoff\":15},\"zerolinecolor\":\"white\",\"zerolinewidth\":2}}},\"scene\":{\"domain\":{\"x\":[0.0,1.0],\"y\":[0.0,1.0]},\"xaxis\":{\"title\":{\"text\":\"e\"}},\"yaxis\":{\"title\":{\"text\":\"n\"}},\"zaxis\":{\"title\":{\"text\":\"u\"}},\"aspectmode\":\"data\"},\"legend\":{\"tracegroupgap\":0},\"margin\":{\"t\":0,\"r\":0,\"l\":0,\"b\":0},\"height\":700},                        {\"responsive\": true}                    ).then(function(){\n",
       "                            \n",
       "var gd = document.getElementById('1da93e7c-a38b-4541-90e2-8d24de16d778');\n",
       "var x = new MutationObserver(function (mutations, observer) {{\n",
       "        var display = window.getComputedStyle(gd).display;\n",
       "        if (!display || display === 'none') {{\n",
       "            console.log([gd, 'removed!']);\n",
       "            Plotly.purge(gd);\n",
       "            observer.disconnect();\n",
       "        }}\n",
       "}});\n",
       "\n",
       "// Listen for the removal of the full notebook cells\n",
       "var notebookContainer = gd.closest('#notebook-container');\n",
       "if (notebookContainer) {{\n",
       "    x.observe(notebookContainer, {childList: true});\n",
       "}}\n",
       "\n",
       "// Listen for the clearing of the current output cell\n",
       "var outputEl = gd.closest('.output');\n",
       "if (outputEl) {{\n",
       "    x.observe(outputEl, {childList: true});\n",
       "}}\n",
       "\n",
       "                        })                };                });            </script>        </div>"
      ]
     },
     "metadata": {},
     "output_type": "display_data"
    }
   ],
   "source": [
    "fig = px.scatter_3d(neudf, y='n', x='e', z='u')  # , color=main_df['u']>0, labels={\"color\": \"u > 0\"}\n",
    "\n",
    "# plotly.offline.plot(fig, filename='neu.html', auto_open=False)  # save as html\n",
    "\n",
    "fig.update_layout(height=700, margin={\"r\":0,\"t\":0,\"l\":0,\"b\":0}, scene_aspectmode='data')  # , scene_aspectmode='data'\n",
    "fig.show()"
   ]
  },
  {
   "cell_type": "code",
   "execution_count": null,
   "id": "ea7ea972",
   "metadata": {},
   "outputs": [],
   "source": []
  },
  {
   "cell_type": "code",
   "execution_count": null,
   "id": "61322211",
   "metadata": {},
   "outputs": [],
   "source": []
  },
  {
   "cell_type": "code",
   "execution_count": null,
   "id": "eb4d2290",
   "metadata": {},
   "outputs": [],
   "source": []
  },
  {
   "cell_type": "code",
   "execution_count": null,
   "id": "200545c4",
   "metadata": {},
   "outputs": [],
   "source": []
  }
 ],
 "metadata": {
  "kernelspec": {
   "display_name": "wzgw_env",
   "language": "python",
   "name": "wzgw_env"
  },
  "language_info": {
   "codemirror_mode": {
    "name": "ipython",
    "version": 3
   },
   "file_extension": ".py",
   "mimetype": "text/x-python",
   "name": "python",
   "nbconvert_exporter": "python",
   "pygments_lexer": "ipython3",
   "version": "3.9.6"
  }
 },
 "nbformat": 4,
 "nbformat_minor": 5
}
