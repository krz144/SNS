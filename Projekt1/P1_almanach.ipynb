{
 "cells": [
  {
   "cell_type": "code",
   "execution_count": 536,
   "id": "382cb3bd",
   "metadata": {},
   "outputs": [],
   "source": [
    "from datetime import date\n",
    "import numpy as np\n",
    "import pandas as pd\n",
    "import matplotlib.pyplot as plt"
   ]
  },
  {
   "cell_type": "code",
   "execution_count": 537,
   "id": "50975be9",
   "metadata": {},
   "outputs": [],
   "source": [
    "def read_yuma(almanac_file):\n",
    "    ''' \n",
    "    Reading and parsing YUMA asci format\n",
    "    INPUT:\n",
    "        Almanac: YUMA format \n",
    "    OUTPUT:\n",
    "        almanac_data -  type list of list [strings value], number of lists is equal to number of satellite\n",
    "                        one list contain satellites according to the order:         \n",
    "                        ['SV ID', 'Health', 'Eccentricity', 'Time of Applicability(s)', 'Inclination(rad)', \n",
    "                        'Rate of Right Ascen(r/s)', 'SQRT(A)  (m 1/2)', 'Right Ascen at Week(rad)', \n",
    "                        'Argument of Perigee(rad)', 'Mean Anom(rad)', 'Af0(s)', 'Af1(s/s)', 'Week no']\n",
    "        \n",
    "    '''\n",
    "    \n",
    "    if almanac_file:\n",
    "        alm = open(almanac_file)\n",
    "        \n",
    "        alm_lines = alm.readlines()\n",
    "        all_sat = []\n",
    "        for idx, value in enumerate(alm_lines):\n",
    "            # print(idx, value)\n",
    "            \n",
    "            if value[0:3]=='ID:':\n",
    "                one_sat_block = alm_lines[idx:idx+13]\n",
    "                one_sat = []\n",
    "                for line in one_sat_block:\n",
    "                    data = line.split(':')\n",
    "                    one_sat.append(float(data[1].strip()))\n",
    "                all_sat.append(one_sat)\n",
    "        alm.close()\n",
    "        all_sat = np.array(all_sat)\n",
    "        return (all_sat)  "
   ]
  },
  {
   "cell_type": "code",
   "execution_count": 538,
   "id": "83eb289c",
   "metadata": {},
   "outputs": [],
   "source": [
    "def date2tow(data):\n",
    "    \"\"\"\n",
    "    Parameters\n",
    "    data : data -- list [year,month,day,hour,minute,second]\n",
    "    Returns\n",
    "    week : GPS week, for the second rollover, in range 0-1023\n",
    "    tow : second of week.\n",
    "    \"\"\"\n",
    "    # difference of days\n",
    "    dd = date.toordinal(date(data[0], data[1], data[2])) - date.toordinal(date(2019, 4, 7))    \n",
    "    # week number\n",
    "    week = dd // 7\n",
    "    #day of week\n",
    "    dow = dd % 7\n",
    "    # time of week\n",
    "    tow = dow * 86400 + data[3] * 3600 + data[4] * 60 + data[5]\n",
    "    return week, tow"
   ]
  },
  {
   "cell_type": "code",
   "execution_count": 539,
   "id": "993a725a",
   "metadata": {},
   "outputs": [],
   "source": [
    "def satpos(nav, week, tow):\n",
    "    \"\"\"jedna duża funkcja, algorytm na TEAMS, zwracać ma x, y, z\"\"\"\n",
    "    # stałe\n",
    "    mi = 3.986005e14  # prędkość kątowa obrotu Ziemii - to, czy omge?\n",
    "    omge = 7.2921151467e-5\n",
    "\n",
    "    prn = nav[0]\n",
    "    e = nav[2]\n",
    "    toa = nav[3]\n",
    "    i = nav[4]\n",
    "    Omega_dot = nav[5]\n",
    "    sqrta = nav[6]\n",
    "    Omega = nav[7]\n",
    "    omega = nav[8]\n",
    "    M0 = nav[9]\n",
    "    gps_week = nav[12] \n",
    "\n",
    "    t = week * 7 * 86400 + tow\n",
    "    toa_weeks = gps_week * 7 * 86400 + toa\n",
    "\n",
    "    # tk = tow - toa\n",
    "    tk = t - toa_weeks\n",
    "    # print(tk)  # print(tk/86400)\n",
    "\n",
    "    # Krok 2 algorytmu\n",
    "    a = sqrta**2\n",
    "    n = np.sqrt(mi/(a**3))\n",
    "    Mk = M0 + n * tk\n",
    "    # Ek = Mk + e * np.sin(EK)  # rozwiazanie iteracyjne\n",
    "    Epop = Mk\n",
    "    while True:\n",
    "        E = Mk + e * np.sin(Epop)\n",
    "        # print(E)\n",
    "        if (abs(E-Epop)<10**(-12)):\n",
    "            break\n",
    "        Epop = E\n",
    "    Ek = E\n",
    "    # atan2 z math lub arctan2 z numpy\n",
    "    vk = np.arctan2(np.sqrt(1 - e**2)*np.sin(Ek) , np.cos(Ek)-e)\n",
    "    Fik = vk + omega\n",
    "    rk = a * (1 - e * np.cos(Ek))\n",
    "    xk = rk * np.cos(Fik)\n",
    "    yk = rk * np.sin(Fik)\n",
    "    # na dole toa czy toa_weeks?\n",
    "    Omega_k = Omega + (Omega_dot - omge) * tk - omge * toa  # skąd omega_E?\n",
    "    Xk = xk * np.cos(Omega_k) - yk * np.cos(i) * np.sin(Omega_k)\n",
    "    Yk = xk * np.sin(Omega_k) + yk * np.cos(i) * np.cos(Omega_k)\n",
    "    Zk = yk * np.sin(i)\n",
    "    return np.array([Xk, Yk, Zk])"
   ]
  },
  {
   "cell_type": "code",
   "execution_count": 540,
   "id": "b1cba1cc",
   "metadata": {},
   "outputs": [],
   "source": [
    "def geo2xyz(fi, lam, h, a=6378137, e2=0.00669437999013):\n",
    "    \"\"\"funkcja zamienia współrzędne geodezyjne na kartezjańskie fi, lam podajemy w radianach do wzorów, do fcji w deg\"\"\"\n",
    "    fi = np.deg2rad(fi)\n",
    "    lam = np.deg2rad(lam)\n",
    "    N = a / np.sqrt(1 - e2 * np.sin(fi) ** 2)\n",
    "    x = (N + h) * np.cos(fi) * np.cos(lam)\n",
    "    y = (N + h) * np.cos(fi) * np.sin(lam)\n",
    "    z = (N * (1 - e2) + h) * np.sin(fi)\n",
    "    return np.array([x, y, z])"
   ]
  },
  {
   "cell_type": "code",
   "execution_count": 541,
   "id": "f1062ab0",
   "metadata": {},
   "outputs": [],
   "source": [
    "def xyz2neu(fi, lam, A, B):\n",
    "    # def xyz2neu(A:punktodniesienia/startowy, B:koniecwektora):\n",
    "    \"\"\"funkcja zamienia wsp kartezjańskie na topocentryczne neu\n",
    "    A, B reprezentują punkty, A to początek, B to koniec wektora\n",
    "    A, B są typu np.array i mają 3 współrzędne: x, y, z\n",
    "    fi, lam to współrzędne punktu A potrzebne do macierzy obrotu\"\"\"\n",
    "    # x, y, z -> north, east, up\n",
    "    # fi, lambda, lotniska\n",
    "    # wektor AB\n",
    "    fi = np.deg2rad(fi)\n",
    "    lam = np.deg2rad(lam)\n",
    "    rotation_matrix = np.array([\n",
    "        [-1*np.sin(fi)*np.cos(lam), -1*np.sin(lam), np.cos(fi)*np.cos(lam)],\n",
    "        [-1*np.sin(fi)*np.sin(lam), np.cos(lam), np.cos(fi)*np.sin(lam)],\n",
    "        [np.cos(fi), 0, np.sin(fi)]\n",
    "    ])\n",
    "    vector = B - A\n",
    "    return rotation_matrix.transpose() @ vector"
   ]
  },
  {
   "cell_type": "markdown",
   "id": "103688f8",
   "metadata": {},
   "source": [
    "# Parametry do ustawienia"
   ]
  },
  {
   "cell_type": "code",
   "execution_count": 542,
   "id": "12d88844",
   "metadata": {},
   "outputs": [],
   "source": [
    "PLIK = 'yumagood.txt'  # ścieżka do pliku z danymi z almanachu\n",
    "DATA = [2022, 2, 25, 0, 0, 0]  # data obserwacji\n",
    "FI_, LAM_, H_ = 52, 21, 100  # współrzędne miejsca obserwacji\n",
    "MASKA = 10  # elewacja w stopniach"
   ]
  },
  {
   "cell_type": "markdown",
   "id": "53588c42",
   "metadata": {},
   "source": [
    "# Obliczenia i wykresy"
   ]
  },
  {
   "cell_type": "code",
   "execution_count": 543,
   "id": "18e3d622",
   "metadata": {
    "scrolled": false
   },
   "outputs": [],
   "source": [
    "navall = read_yuma(PLIK)\n",
    "datak = list(DATA[:])\n",
    "odbiornik = geo2xyz(FI_, LAM_, H_)\n",
    "\n",
    "# dict24 = dict(DOP=dict(), test=['test0', 'test1'], widoczne=[])\n",
    "DOP = dict(GDOP=[], PDOP=[], TDOP=[], HDOP=[], VDOP=[])\n",
    "ile_widocznych = []\n",
    "jakie_widoczne = dict()\n",
    "satelity_neu = dict()\n",
    "satelity_xyz = dict()\n",
    "satelity_elaz = []\n",
    "better_elaz = dict() \n",
    "\n",
    "for i in range(1,25):\n",
    "    week, tow = date2tow(datak)  ############\n",
    "    df = pd.DataFrame(navall, columns=['PRN', 'health', 'eccentricity', 'toa', 'oi', 'rora', 'sqrta', 'raaw', 'aop', 'ma', 'af0', 'af1', 'week'])\n",
    "    xsat = []\n",
    "    ysat = []\n",
    "    zsat = []\n",
    "    xodb = []\n",
    "    yodb = []\n",
    "    zodb = []\n",
    "    nn = []\n",
    "    ee = []\n",
    "    uu = []\n",
    "    az = []\n",
    "    el = []\n",
    "    for sat in navall:\n",
    "        Xs = satpos(sat, week, tow)\n",
    "        xsat.append(Xs[0])\n",
    "        ysat.append(Xs[1])\n",
    "        zsat.append(Xs[2])\n",
    "        Xr = odbiornik\n",
    "        xodb.append(Xr[0])\n",
    "        yodb.append(Xr[1])\n",
    "        zodb.append(Xr[2])\n",
    "        # Xsr = Xs - Xr\n",
    "        neu = xyz2neu(FI_, LAM_, Xr, Xs)\n",
    "        n, e, u = neu\n",
    "        nn.append(n)\n",
    "        ee.append(e)\n",
    "        uu.append(u)\n",
    "        Az = np.arctan2(e,n)  # azymut\n",
    "        ele = np.arcsin(u/np.sqrt(n**2 + e**2 + u**2))  # elewacja\n",
    "        azst = np.rad2deg(Az)\n",
    "        elst = np.rad2deg(ele)\n",
    "        az.append(azst)\n",
    "        el.append(elst)\n",
    "    df['xsat'] = xsat\n",
    "    df['ysat'] = ysat\n",
    "    df['zsat'] = zsat\n",
    "    df['xodb'] = xodb\n",
    "    df['yodb'] = yodb\n",
    "    df['zodb'] = zodb\n",
    "    df['n'] = nn\n",
    "    df['e'] = ee\n",
    "    df['u'] = uu\n",
    "    df['az'] = az\n",
    "    df['el'] = el\n",
    "    \n",
    "    df.set_index('PRN', inplace=True)\n",
    "    df['distance'] = df.apply(lambda row : np.linalg.norm(np.array([row['xsat'], row['ysat'], row['zsat']]) - np.array([row['xodb'], row['yodb'], row['zodb']])), axis=1)\n",
    "    df['Ax'] = df.apply(lambda row : -(row['xsat'] - row['xodb'])/row['distance'], axis=1)\n",
    "    df['Ay'] = df.apply(lambda row : -(row['ysat'] - row['yodb'])/row['distance'], axis=1)\n",
    "    df['Az'] = df.apply(lambda row : -(row['zsat'] - row['zodb'])/row['distance'], axis=1)\n",
    "    \n",
    "    maska_df = df[df['el'] > MASKA]\n",
    "    A = maska_df[['Ax', 'Ay', 'Az']].to_numpy()\n",
    "    wiersze = maska_df.shape[0]\n",
    "    ile_widocznych.append(wiersze)  ###\n",
    "    jakie_widoczne[i-1] = maska_df.index.values ###\n",
    "    for index, row in maska_df.iterrows():\n",
    "        lista = [row.n, row.e, row.u]\n",
    "        try:\n",
    "            satelity_neu[index].append(lista)\n",
    "        except KeyError:\n",
    "            satelity_neu[index] = lista\n",
    "        temp = [row.xsat, row.ysat, row.zsat]\n",
    "        try:\n",
    "            satelity_xyz[index].append(temp)\n",
    "        except KeyError:\n",
    "            satelity_xyz[index] = temp\n",
    "        other = [row.el, row.az]\n",
    "        try:\n",
    "            better_elaz[index].append(other)\n",
    "        except KeyError:\n",
    "            better_elaz[index] = other\n",
    "        satelity_elaz.append([index, row.el, row.az])\n",
    "    ones = np.array([np.repeat(1, wiersze)])\n",
    "    A = np.concatenate((A, ones.T), axis=1)\n",
    "    Q = np.linalg.inv(A.T @ A)\n",
    "    qx, qy, qz, qt = np.diagonal(Q)\n",
    "    GDOP = np.sqrt(qx+qy+qz+qt)\n",
    "    PDOP = np.sqrt(qx+qy+qz)\n",
    "    TDOP = np.sqrt(qt)\n",
    "    fi = np.deg2rad(FI_)\n",
    "    lam = np.deg2rad(LAM_)\n",
    "    R = np.array([\n",
    "        [-np.sin(fi)*np.cos(lam), -np.sin(lam), np.cos(fi)*np.cos(lam)],\n",
    "        [-np.sin(fi)*np.sin(lam), np.cos(lam), np.cos(fi)*np.sin(lam)],\n",
    "        [np.cos(fi), 0, np.sin(fi)]])\n",
    "    Qxyz = Q[:-1,:-1]\n",
    "    Qneu = R.T @ Qxyz @ R\n",
    "    qn, qe, qu = np.diagonal(Qneu)\n",
    "    HDOP = np.sqrt(qn+qe)\n",
    "    VDOP = np.sqrt(qu)\n",
    "    DOP['GDOP'].append(GDOP)  ###\n",
    "    DOP['PDOP'].append(PDOP)  ###\n",
    "    DOP['TDOP'].append(TDOP)  ###\n",
    "    DOP['HDOP'].append(HDOP)  ###\n",
    "    DOP['VDOP'].append(VDOP)  ###\n",
    "    \n",
    "    \n",
    "    datak[3] = i ############\n",
    "#     print(datak) ############"
   ]
  },
  {
   "cell_type": "code",
   "execution_count": 544,
   "id": "ce88af03",
   "metadata": {},
   "outputs": [
    {
     "name": "stdout",
     "output_type": "stream",
     "text": [
      "GDOP\n",
      " [2.2881065941826875, 1.8998747724291056, 1.848486928868121, 1.934246847836042, 2.172451212840377, 2.180080846761741, 1.9952418502565867, 2.589499054767193, 1.675113021279894, 2.1443726153829186, 2.1814093668890755, 1.7257013584070187, 1.9731594917541615, 2.228326425101555, 1.7672277247271204, 1.9920711655016143, 2.477777325986273, 1.8800047968772806, 2.449809392600222, 2.313453053501213, 1.6681870273799984, 1.9198772149292194, 2.020800594859434, 1.9606508464578647]\n",
      "\n",
      "PDOP\n",
      " [1.9802088005866127, 1.6894516605812666, 1.6422257397419797, 1.7152973151414221, 1.9168697346514096, 1.9373049769224373, 1.7572242265976323, 2.238108887724863, 1.4983526217001064, 1.93490389111254, 1.9604329103244187, 1.55724606823633, 1.7614779214622016, 1.9534938287772936, 1.6061845202417346, 1.7527471943930253, 2.166995142388692, 1.6685252513625437, 2.1246110881059894, 2.0005356343503813, 1.488518071170936, 1.7071202559492875, 1.7679769913933305, 1.7155396983940856]\n",
      "\n",
      "TDOP\n",
      " [1.1463877583181123, 0.8690668774448526, 0.8485272806016345, 0.8939049105091061, 1.0223280748121217, 0.9998009425925461, 0.9450677533773333, 1.3024492164100536, 0.7489613174963523, 0.9243813313572118, 0.9566867983140179, 0.7436597752805517, 0.8891309870321376, 1.072054344580957, 0.7370652060571191, 0.9466915025341353, 1.2014626627721305, 0.8662802790362625, 1.2196695390020003, 1.161861526365515, 0.753101527097424, 0.8784468977303153, 0.9787197771006934, 0.9492498538055573]\n",
      "\n",
      "HDOP\n",
      " [0.9198223599362811, 0.807393295482208, 1.0080998926016826, 0.919777517906455, 0.8990049920964073, 1.1144554411355534, 1.0180484883239516, 1.1096938358943245, 0.8914967159394189, 1.1504747470157406, 0.8989110023539301, 0.918686520342207, 0.8995110822430904, 0.9038411675755893, 1.1033994058259409, 0.8932802801010397, 0.9932037174182838, 0.9689844951341322, 1.146916169474604, 1.0097318930550239, 0.9251273769692545, 0.9351022034059316, 0.9358828280747014, 1.043394925109687]\n",
      "\n",
      "VDOP\n",
      " [1.7536116217914168, 1.4840360439865263, 1.2963949964449757, 1.447844672913919, 1.6929795048400036, 1.5846575792049853, 1.4322759014809139, 1.9436334489535734, 1.204281605117679, 1.5557187806032027, 1.7421986699943621, 1.257390311072515, 1.5144914264269251, 1.7318225321511918, 1.1671925566448458, 1.5080361629069876, 1.9259839882103613, 1.358324542450769, 1.7884506076211937, 1.7270160185861625, 1.1661155108240482, 1.4282308768044938, 1.4999553240717243, 1.3617648427762483]\n"
     ]
    }
   ],
   "source": [
    "print('GDOP\\n', DOP['GDOP'])\n",
    "print('\\nPDOP\\n', DOP['PDOP'])\n",
    "print('\\nTDOP\\n', DOP['TDOP'])\n",
    "print('\\nHDOP\\n', DOP['HDOP'])\n",
    "print('\\nVDOP\\n', DOP['VDOP'])"
   ]
  },
  {
   "cell_type": "code",
   "execution_count": 545,
   "id": "3efdcc24",
   "metadata": {},
   "outputs": [
    {
     "name": "stdout",
     "output_type": "stream",
     "text": [
      "[9, 10, 8, 9, 10, 9, 8, 8, 9, 9, 10, 8, 10, 10, 10, 10, 8, 8, 8, 8, 9, 9, 9, 8]\n"
     ]
    }
   ],
   "source": [
    "print(ile_widocznych)"
   ]
  },
  {
   "cell_type": "code",
   "execution_count": 546,
   "id": "a54decfb",
   "metadata": {},
   "outputs": [
    {
     "name": "stdout",
     "output_type": "stream",
     "text": [
      "{0: array([ 1.,  3.,  4., 17., 19., 21., 22., 31., 32.]), 1: array([ 1.,  3.,  4.,  6.,  9., 17., 19., 21., 22., 31.]), 2: array([ 1.,  3.,  4.,  6.,  9., 17., 19., 31.]), 3: array([ 2.,  3.,  4.,  6.,  7.,  9., 11., 16., 26.]), 4: array([ 2.,  4.,  6.,  7.,  9., 11., 16., 20., 26., 30.]), 5: array([ 2.,  4.,  5.,  7.,  9., 11., 16., 20., 30.]), 6: array([ 5.,  7.,  9., 13., 14., 20., 27., 30.]), 7: array([ 5.,  7.,  8., 13., 14., 15., 20., 30.]), 8: array([ 5.,  7.,  8., 13., 14., 15., 17., 23., 30.]), 9: array([10., 13., 14., 15., 17., 19., 23., 24., 30.]), 10: array([ 1., 10., 12., 13., 14., 15., 17., 19., 23., 24.]), 11: array([ 6., 12., 15., 17., 19., 24., 25., 32.]), 12: array([ 2.,  6., 11., 12., 17., 19., 22., 24., 25., 32.]), 13: array([ 2.,  6., 11., 12., 22., 24., 25., 29., 31., 32.]), 14: array([ 2.,  6., 11., 12., 20., 22., 25., 29., 31., 32.]), 15: array([ 2.,  5., 11., 12., 18., 20., 25., 26., 29., 31.]), 16: array([ 5., 16., 18., 20., 25., 26., 29., 31.]), 17: array([ 5., 16., 18., 23., 26., 27., 29., 31.]), 18: array([10., 15., 16., 18., 23., 26., 27., 29.]), 19: array([ 8., 10., 15., 16., 18., 23., 26., 27.]), 20: array([ 8., 10., 15., 16., 18., 21., 23., 27., 32.]), 21: array([ 1.,  8., 10., 14., 21., 22., 23., 27., 32.]), 22: array([ 1.,  3.,  8., 10., 14., 21., 22., 27., 32.]), 23: array([ 1.,  3.,  8., 17., 21., 22., 31., 32.])}\n"
     ]
    }
   ],
   "source": [
    "print(jakie_widoczne)  # bar plot / histogram ... k - godziny od podanej daty, v - numery satelit"
   ]
  },
  {
   "cell_type": "code",
   "execution_count": 547,
   "id": "2a7e5fce",
   "metadata": {
    "scrolled": false
   },
   "outputs": [],
   "source": [
    "# print(satelity_neu)  # k - numery satelit, v - [neu]"
   ]
  },
  {
   "cell_type": "code",
   "execution_count": 548,
   "id": "8ae909bb",
   "metadata": {
    "scrolled": false
   },
   "outputs": [],
   "source": [
    "# print(satelity_xyz)  # k - numery satelit, v - [xyz]"
   ]
  },
  {
   "cell_type": "code",
   "execution_count": 549,
   "id": "b0951224",
   "metadata": {
    "scrolled": true
   },
   "outputs": [],
   "source": [
    "# print(sorted(satelity_elaz))  # [NR, EL, AZ]"
   ]
  },
  {
   "cell_type": "code",
   "execution_count": 550,
   "id": "ab275b3b",
   "metadata": {},
   "outputs": [],
   "source": [
    "# print(better_elaz)"
   ]
  }
 ],
 "metadata": {
  "kernelspec": {
   "display_name": "wzgw-projekt1-venv",
   "language": "python",
   "name": "wzgw-projekt1-venv"
  },
  "language_info": {
   "codemirror_mode": {
    "name": "ipython",
    "version": 3
   },
   "file_extension": ".py",
   "mimetype": "text/x-python",
   "name": "python",
   "nbconvert_exporter": "python",
   "pygments_lexer": "ipython3",
   "version": "3.9.6"
  }
 },
 "nbformat": 4,
 "nbformat_minor": 5
}
